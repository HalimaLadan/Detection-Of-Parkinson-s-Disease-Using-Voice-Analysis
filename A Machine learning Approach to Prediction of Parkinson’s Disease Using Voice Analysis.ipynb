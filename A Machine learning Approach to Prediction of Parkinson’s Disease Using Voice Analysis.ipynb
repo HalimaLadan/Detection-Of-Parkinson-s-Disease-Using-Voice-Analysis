{
 "cells": [
  {
   "cell_type": "markdown",
   "metadata": {
    "id": "9lQ7x8zHYNrr"
   },
   "source": [
    "# Prediction of Parkinson’s Disease Using Voice Analysis\n",
    "\n",
    "\n",
    "  > Halima Bulama-Ladan   \n",
    "  > 03/16/2022\n",
    "\n"
   ]
  },
  {
   "cell_type": "markdown",
   "metadata": {
    "id": "XBS1YVDhdk9s"
   },
   "source": [
    "## Project Objectives:\n",
    "\n",
    "\n",
    "> The objectives of this project, is to build three different models using Random Forest Classifier, LGBMClassifier, XGBClassifier respectively to detect the presence of the disease in individuals at an early stage, using voice analysis. The performance of the three models will be evaluated using evaluation metric and the model with the best scores will be chosen.\n",
    "\n"
   ]
  },
  {
   "cell_type": "markdown",
   "metadata": {
    "id": "LxL1j97scwYC"
   },
   "source": [
    "### Parkinson's Disease:\n",
    "\n",
    "\n",
    "> Parkinson's disease is an ongoing, progressive disease of the nervous system that affects a patient's movement. Millions of individuals worldwide are diagnosed with Parkinson's disease. The cause of Parkinson's disease is presently not known. However, research attributes the disease to a combination of genetic and environmental factors. Age also plays a role. Most cases of Parkinson's disease begins after an individual is sixty years old.\n",
    "\n",
    ">Unfortunately, there is currently no cure for Parkinson's disease. There are, however, medications to surpress the symptoms of the disease. Occupational therapy is also plays a huge part of treating Parkinson's disease. Overall, this condition requires intense treatment and symptom management for a patient to live a full life.\n",
    "\n",
    "### Major Early Symptom:\n",
    "\n",
    ">Parkinson’s disease patients typically have a low-volume voice with a monotone (expressionless) quality. The speech pattern is often produced in short bursts with inappropriate silences between words and long pauses before initiating speech. The speech may also be slurred. A small percentage of patients (about 15 percent) may also have a tremulous voice\n",
    "\n",
    "\n",
    "\n"
   ]
  },
  {
   "cell_type": "markdown",
   "metadata": {
    "id": "jSfG0nmagaKT"
   },
   "source": [
    "### Source of Data\n",
    "\n",
    "> The source of data for this project can be found from the UCI open source [data bank](https://archive.ics.uci.edu/ml/machine-learning-databases/parkinsons/).                  \n",
    "\n",
    "\n",
    "### Attribute Information:\n",
    "\n",
    "MDVP:Fo(Hz) - Average vocal fundamental frequency\n",
    "\n",
    "MDVP:Fhi(Hz) - Maximum vocal fundamental frequency\n",
    "\n",
    "MDVP:Flo(Hz) - Minimum vocal fundamental frequency\n",
    "\n",
    "MDVP:Jitter(%),MDVP:Jitter(Abs),MDVP:RAP,MDVP:PPQ,Jitter:DDP - Several measures of variation in fundamental frequency\n",
    "\n",
    "MDVP:Shimmer,MDVP:Shimmer(dB),Shimmer:APQ3,Shimmer:APQ5,MDVP:APQ,Shimmer:DDA - Several measures of variation in amplitude\n",
    "\n",
    "NHR,HNR - Two measures of ratio of noise to tonal components in the voice\n",
    "\n",
    "status - Health status of the subject (one) - Parkinson's, (zero) - healthy\n",
    "\n",
    "RPDE,D2 - Two nonlinear dynamical complexity measures\n",
    "\n",
    "DFA - Signal fractal scaling exponent\n",
    "\n",
    "spread1,spread2,PPE - Three nonlinear measures of fundamental frequency variation"
   ]
  },
  {
   "cell_type": "markdown",
   "metadata": {
    "id": "NvkU-5vBUh1J"
   },
   "source": [
    "## Import Libraries"
   ]
  },
  {
   "cell_type": "code",
   "execution_count": 1,
   "metadata": {
    "executionInfo": {
     "elapsed": 14,
     "status": "ok",
     "timestamp": 1649969526322,
     "user": {
      "displayName": "Halima Ladan",
      "userId": "13376351725036595186"
     },
     "user_tz": 240
    },
    "id": "wHdyeloEYxZ1"
   },
   "outputs": [],
   "source": [
    "import pandas as pd\n",
    "import numpy as np\n",
    "import matplotlib.pyplot as plt\n",
    "import seaborn as sns\n",
    "\n",
    "from sklearn.model_selection import train_test_split, GridSearchCV\n",
    "from sklearn.preprocessing import StandardScaler, OneHotEncoder, LabelEncoder\n",
    "from sklearn.compose import make_column_selector, make_column_transformer\n",
    "from sklearn.pipeline import make_pipeline\n",
    "from imblearn.over_sampling import SMOTE\n",
    "import scipy.stats as stats\n",
    "from sklearn import set_config\n",
    "from sklearn.impute import SimpleImputer\n",
    "set_config(display = \"diagram\")\n",
    "\n",
    "from sklearn.decomposition import PCA\n",
    "from sklearn.cluster import KMeans\n",
    "from sklearn.metrics import silhouette_score\n",
    "\n",
    "from sklearn.neighbors import KNeighborsClassifier\n",
    "from sklearn.ensemble import RandomForestClassifier\n",
    "from lightgbm import LGBMClassifier\n",
    "from xgboost import XGBClassifier\n",
    "from sklearn.metrics import *"
   ]
  },
  {
   "cell_type": "code",
   "execution_count": 2,
   "metadata": {},
   "outputs": [
    {
     "name": "stdout",
     "output_type": "stream",
     "text": [
      "Requirement already satisfied: xgboost in c:\\users\\heill\\anaconda3\\envs\\dojo-env\\lib\\site-packages (1.6.1)\n",
      "Requirement already satisfied: scipy in c:\\users\\heill\\anaconda3\\envs\\dojo-env\\lib\\site-packages (from xgboost) (1.7.3)\n",
      "Requirement already satisfied: numpy in c:\\users\\heill\\anaconda3\\envs\\dojo-env\\lib\\site-packages (from xgboost) (1.21.6)\n",
      "Note: you may need to restart the kernel to use updated packages.\n"
     ]
    }
   ],
   "source": [
    "pip install xgboost"
   ]
  },
  {
   "cell_type": "code",
   "execution_count": 3,
   "metadata": {},
   "outputs": [
    {
     "name": "stdout",
     "output_type": "stream",
     "text": [
      "Requirement already satisfied: imbalanced-learn in c:\\users\\heill\\anaconda3\\envs\\dojo-env\\lib\\site-packages (0.9.0)\n",
      "Collecting imbalanced-learn\n",
      "  Using cached imbalanced_learn-0.9.1-py3-none-any.whl (199 kB)\n",
      "Requirement already satisfied: numpy>=1.14.6 in c:\\users\\heill\\anaconda3\\envs\\dojo-env\\lib\\site-packages (from imbalanced-learn) (1.21.6)\n",
      "Requirement already satisfied: threadpoolctl>=2.0.0 in c:\\users\\heill\\anaconda3\\envs\\dojo-env\\lib\\site-packages (from imbalanced-learn) (3.1.0)\n",
      "Requirement already satisfied: joblib>=0.11 in c:\\users\\heill\\anaconda3\\envs\\dojo-env\\lib\\site-packages (from imbalanced-learn) (1.1.0)\n",
      "Requirement already satisfied: scikit-learn>=1.0.1 in c:\\users\\heill\\anaconda3\\envs\\dojo-env\\lib\\site-packages (from imbalanced-learn) (1.0.2)\n",
      "Requirement already satisfied: scipy>=1.1.0 in c:\\users\\heill\\anaconda3\\envs\\dojo-env\\lib\\site-packages (from imbalanced-learn) (1.7.3)\n",
      "Note: you may need to restart the kernel to use updated packages.\n"
     ]
    }
   ],
   "source": [
    "pip install -U imbalanced-learn"
   ]
  },
  {
   "cell_type": "code",
   "execution_count": 4,
   "metadata": {},
   "outputs": [
    {
     "name": "stdout",
     "output_type": "stream",
     "text": [
      "Requirement already satisfied: lightgbm in c:\\users\\heill\\anaconda3\\envs\\dojo-env\\lib\\site-packages (3.3.2)\n",
      "Requirement already satisfied: scipy in c:\\users\\heill\\anaconda3\\envs\\dojo-env\\lib\\site-packages (from lightgbm) (1.7.3)\n",
      "Requirement already satisfied: scikit-learn!=0.22.0 in c:\\users\\heill\\anaconda3\\envs\\dojo-env\\lib\\site-packages (from lightgbm) (1.0.2)\n",
      "Requirement already satisfied: numpy in c:\\users\\heill\\anaconda3\\envs\\dojo-env\\lib\\site-packages (from lightgbm) (1.21.6)\n",
      "Requirement already satisfied: wheel in c:\\users\\heill\\anaconda3\\envs\\dojo-env\\lib\\site-packages (from lightgbm) (0.37.1)\n",
      "Requirement already satisfied: threadpoolctl>=2.0.0 in c:\\users\\heill\\anaconda3\\envs\\dojo-env\\lib\\site-packages (from scikit-learn!=0.22.0->lightgbm) (3.1.0)\n",
      "Requirement already satisfied: joblib>=0.11 in c:\\users\\heill\\anaconda3\\envs\\dojo-env\\lib\\site-packages (from scikit-learn!=0.22.0->lightgbm) (1.1.0)\n",
      "Note: you may need to restart the kernel to use updated packages.\n"
     ]
    }
   ],
   "source": [
    "pip install lightgbm"
   ]
  },
  {
   "cell_type": "markdown",
   "metadata": {
    "id": "ddgDnpGdft1g"
   },
   "source": [
    "## Load Dataset\n",
    ">> Data downloaded from this [link](https://archive.ics.uci.edu/ml/machine-learning-databases/parkinsons/)."
   ]
  },
  {
   "cell_type": "code",
   "execution_count": 5,
   "metadata": {
    "colab": {
     "base_uri": "https://localhost:8080/",
     "height": 299
    },
    "executionInfo": {
     "elapsed": 13,
     "status": "ok",
     "timestamp": 1649969526322,
     "user": {
      "displayName": "Halima Ladan",
      "userId": "13376351725036595186"
     },
     "user_tz": 240
    },
    "id": "aFPHJVT-ldL3",
    "outputId": "5b80a88d-c2ff-4184-b699-8ce3c76b54c6"
   },
   "outputs": [
    {
     "data": {
      "text/html": [
       "<div>\n",
       "<style scoped>\n",
       "    .dataframe tbody tr th:only-of-type {\n",
       "        vertical-align: middle;\n",
       "    }\n",
       "\n",
       "    .dataframe tbody tr th {\n",
       "        vertical-align: top;\n",
       "    }\n",
       "\n",
       "    .dataframe thead th {\n",
       "        text-align: right;\n",
       "    }\n",
       "</style>\n",
       "<table border=\"1\" class=\"dataframe\">\n",
       "  <thead>\n",
       "    <tr style=\"text-align: right;\">\n",
       "      <th></th>\n",
       "      <th>name</th>\n",
       "      <th>MDVP:Fo(Hz)</th>\n",
       "      <th>MDVP:Fhi(Hz)</th>\n",
       "      <th>MDVP:Flo(Hz)</th>\n",
       "      <th>MDVP:Jitter(%)</th>\n",
       "      <th>MDVP:Jitter(Abs)</th>\n",
       "      <th>MDVP:RAP</th>\n",
       "      <th>MDVP:PPQ</th>\n",
       "      <th>Jitter:DDP</th>\n",
       "      <th>MDVP:Shimmer</th>\n",
       "      <th>...</th>\n",
       "      <th>Shimmer:DDA</th>\n",
       "      <th>NHR</th>\n",
       "      <th>HNR</th>\n",
       "      <th>status</th>\n",
       "      <th>RPDE</th>\n",
       "      <th>DFA</th>\n",
       "      <th>spread1</th>\n",
       "      <th>spread2</th>\n",
       "      <th>D2</th>\n",
       "      <th>PPE</th>\n",
       "    </tr>\n",
       "  </thead>\n",
       "  <tbody>\n",
       "    <tr>\n",
       "      <th>0</th>\n",
       "      <td>phon_R01_S01_1</td>\n",
       "      <td>119.992</td>\n",
       "      <td>157.302</td>\n",
       "      <td>74.997</td>\n",
       "      <td>0.00784</td>\n",
       "      <td>0.00007</td>\n",
       "      <td>0.00370</td>\n",
       "      <td>0.00554</td>\n",
       "      <td>0.01109</td>\n",
       "      <td>0.04374</td>\n",
       "      <td>...</td>\n",
       "      <td>0.06545</td>\n",
       "      <td>0.02211</td>\n",
       "      <td>21.033</td>\n",
       "      <td>1</td>\n",
       "      <td>0.414783</td>\n",
       "      <td>0.815285</td>\n",
       "      <td>-4.813031</td>\n",
       "      <td>0.266482</td>\n",
       "      <td>2.301442</td>\n",
       "      <td>0.284654</td>\n",
       "    </tr>\n",
       "    <tr>\n",
       "      <th>1</th>\n",
       "      <td>phon_R01_S01_2</td>\n",
       "      <td>122.400</td>\n",
       "      <td>148.650</td>\n",
       "      <td>113.819</td>\n",
       "      <td>0.00968</td>\n",
       "      <td>0.00008</td>\n",
       "      <td>0.00465</td>\n",
       "      <td>0.00696</td>\n",
       "      <td>0.01394</td>\n",
       "      <td>0.06134</td>\n",
       "      <td>...</td>\n",
       "      <td>0.09403</td>\n",
       "      <td>0.01929</td>\n",
       "      <td>19.085</td>\n",
       "      <td>1</td>\n",
       "      <td>0.458359</td>\n",
       "      <td>0.819521</td>\n",
       "      <td>-4.075192</td>\n",
       "      <td>0.335590</td>\n",
       "      <td>2.486855</td>\n",
       "      <td>0.368674</td>\n",
       "    </tr>\n",
       "    <tr>\n",
       "      <th>2</th>\n",
       "      <td>phon_R01_S01_3</td>\n",
       "      <td>116.682</td>\n",
       "      <td>131.111</td>\n",
       "      <td>111.555</td>\n",
       "      <td>0.01050</td>\n",
       "      <td>0.00009</td>\n",
       "      <td>0.00544</td>\n",
       "      <td>0.00781</td>\n",
       "      <td>0.01633</td>\n",
       "      <td>0.05233</td>\n",
       "      <td>...</td>\n",
       "      <td>0.08270</td>\n",
       "      <td>0.01309</td>\n",
       "      <td>20.651</td>\n",
       "      <td>1</td>\n",
       "      <td>0.429895</td>\n",
       "      <td>0.825288</td>\n",
       "      <td>-4.443179</td>\n",
       "      <td>0.311173</td>\n",
       "      <td>2.342259</td>\n",
       "      <td>0.332634</td>\n",
       "    </tr>\n",
       "    <tr>\n",
       "      <th>3</th>\n",
       "      <td>phon_R01_S01_4</td>\n",
       "      <td>116.676</td>\n",
       "      <td>137.871</td>\n",
       "      <td>111.366</td>\n",
       "      <td>0.00997</td>\n",
       "      <td>0.00009</td>\n",
       "      <td>0.00502</td>\n",
       "      <td>0.00698</td>\n",
       "      <td>0.01505</td>\n",
       "      <td>0.05492</td>\n",
       "      <td>...</td>\n",
       "      <td>0.08771</td>\n",
       "      <td>0.01353</td>\n",
       "      <td>20.644</td>\n",
       "      <td>1</td>\n",
       "      <td>0.434969</td>\n",
       "      <td>0.819235</td>\n",
       "      <td>-4.117501</td>\n",
       "      <td>0.334147</td>\n",
       "      <td>2.405554</td>\n",
       "      <td>0.368975</td>\n",
       "    </tr>\n",
       "    <tr>\n",
       "      <th>4</th>\n",
       "      <td>phon_R01_S01_5</td>\n",
       "      <td>116.014</td>\n",
       "      <td>141.781</td>\n",
       "      <td>110.655</td>\n",
       "      <td>0.01284</td>\n",
       "      <td>0.00011</td>\n",
       "      <td>0.00655</td>\n",
       "      <td>0.00908</td>\n",
       "      <td>0.01966</td>\n",
       "      <td>0.06425</td>\n",
       "      <td>...</td>\n",
       "      <td>0.10470</td>\n",
       "      <td>0.01767</td>\n",
       "      <td>19.649</td>\n",
       "      <td>1</td>\n",
       "      <td>0.417356</td>\n",
       "      <td>0.823484</td>\n",
       "      <td>-3.747787</td>\n",
       "      <td>0.234513</td>\n",
       "      <td>2.332180</td>\n",
       "      <td>0.410335</td>\n",
       "    </tr>\n",
       "  </tbody>\n",
       "</table>\n",
       "<p>5 rows × 24 columns</p>\n",
       "</div>"
      ],
      "text/plain": [
       "             name  MDVP:Fo(Hz)  MDVP:Fhi(Hz)  MDVP:Flo(Hz)  MDVP:Jitter(%)  \\\n",
       "0  phon_R01_S01_1      119.992       157.302        74.997         0.00784   \n",
       "1  phon_R01_S01_2      122.400       148.650       113.819         0.00968   \n",
       "2  phon_R01_S01_3      116.682       131.111       111.555         0.01050   \n",
       "3  phon_R01_S01_4      116.676       137.871       111.366         0.00997   \n",
       "4  phon_R01_S01_5      116.014       141.781       110.655         0.01284   \n",
       "\n",
       "   MDVP:Jitter(Abs)  MDVP:RAP  MDVP:PPQ  Jitter:DDP  MDVP:Shimmer  ...  \\\n",
       "0           0.00007   0.00370   0.00554     0.01109       0.04374  ...   \n",
       "1           0.00008   0.00465   0.00696     0.01394       0.06134  ...   \n",
       "2           0.00009   0.00544   0.00781     0.01633       0.05233  ...   \n",
       "3           0.00009   0.00502   0.00698     0.01505       0.05492  ...   \n",
       "4           0.00011   0.00655   0.00908     0.01966       0.06425  ...   \n",
       "\n",
       "   Shimmer:DDA      NHR     HNR  status      RPDE       DFA   spread1  \\\n",
       "0      0.06545  0.02211  21.033       1  0.414783  0.815285 -4.813031   \n",
       "1      0.09403  0.01929  19.085       1  0.458359  0.819521 -4.075192   \n",
       "2      0.08270  0.01309  20.651       1  0.429895  0.825288 -4.443179   \n",
       "3      0.08771  0.01353  20.644       1  0.434969  0.819235 -4.117501   \n",
       "4      0.10470  0.01767  19.649       1  0.417356  0.823484 -3.747787   \n",
       "\n",
       "    spread2        D2       PPE  \n",
       "0  0.266482  2.301442  0.284654  \n",
       "1  0.335590  2.486855  0.368674  \n",
       "2  0.311173  2.342259  0.332634  \n",
       "3  0.334147  2.405554  0.368975  \n",
       "4  0.234513  2.332180  0.410335  \n",
       "\n",
       "[5 rows x 24 columns]"
      ]
     },
     "execution_count": 5,
     "metadata": {},
     "output_type": "execute_result"
    }
   ],
   "source": [
    "#Load the data\n",
    "filename = r\"C:\\Users\\heill\\Downloads\\parkinsons.data\"\n",
    "df =pd.read_csv(filename)\n",
    "#View of first 5 rows\n",
    "df.head()"
   ]
  },
  {
   "cell_type": "markdown",
   "metadata": {
    "id": "l9pP1HMHf2_V"
   },
   "source": [
    "## Data Inspection"
   ]
  },
  {
   "cell_type": "code",
   "execution_count": 6,
   "metadata": {
    "colab": {
     "base_uri": "https://localhost:8080/"
    },
    "executionInfo": {
     "elapsed": 11,
     "status": "ok",
     "timestamp": 1649969526322,
     "user": {
      "displayName": "Halima Ladan",
      "userId": "13376351725036595186"
     },
     "user_tz": 240
    },
    "id": "2bCoCzsjl2Gf",
    "outputId": "54a2a829-0563-4538-b11f-877f9efb21c1"
   },
   "outputs": [
    {
     "name": "stdout",
     "output_type": "stream",
     "text": [
      "There are 195 rows, and 24 columns.\n"
     ]
    }
   ],
   "source": [
    "# Display the number of rows and columns for the dataframe\n",
    "df.shape\n",
    "print(f'There are {df.shape[0]} rows, and {df.shape[1]} columns.')"
   ]
  },
  {
   "cell_type": "markdown",
   "metadata": {
    "id": "kId4ELuFgK6Y"
   },
   "source": [
    "## Data Information"
   ]
  },
  {
   "cell_type": "code",
   "execution_count": 7,
   "metadata": {
    "colab": {
     "base_uri": "https://localhost:8080/"
    },
    "executionInfo": {
     "elapsed": 6,
     "status": "ok",
     "timestamp": 1649969526322,
     "user": {
      "displayName": "Halima Ladan",
      "userId": "13376351725036595186"
     },
     "user_tz": 240
    },
    "id": "1sGY4CW0gXdi",
    "outputId": "99c755fc-4862-44ba-d7aa-726a3c4019ce"
   },
   "outputs": [
    {
     "name": "stdout",
     "output_type": "stream",
     "text": [
      "<class 'pandas.core.frame.DataFrame'>\n",
      "RangeIndex: 195 entries, 0 to 194\n",
      "Data columns (total 24 columns):\n",
      " #   Column            Non-Null Count  Dtype  \n",
      "---  ------            --------------  -----  \n",
      " 0   name              195 non-null    object \n",
      " 1   MDVP:Fo(Hz)       195 non-null    float64\n",
      " 2   MDVP:Fhi(Hz)      195 non-null    float64\n",
      " 3   MDVP:Flo(Hz)      195 non-null    float64\n",
      " 4   MDVP:Jitter(%)    195 non-null    float64\n",
      " 5   MDVP:Jitter(Abs)  195 non-null    float64\n",
      " 6   MDVP:RAP          195 non-null    float64\n",
      " 7   MDVP:PPQ          195 non-null    float64\n",
      " 8   Jitter:DDP        195 non-null    float64\n",
      " 9   MDVP:Shimmer      195 non-null    float64\n",
      " 10  MDVP:Shimmer(dB)  195 non-null    float64\n",
      " 11  Shimmer:APQ3      195 non-null    float64\n",
      " 12  Shimmer:APQ5      195 non-null    float64\n",
      " 13  MDVP:APQ          195 non-null    float64\n",
      " 14  Shimmer:DDA       195 non-null    float64\n",
      " 15  NHR               195 non-null    float64\n",
      " 16  HNR               195 non-null    float64\n",
      " 17  status            195 non-null    int64  \n",
      " 18  RPDE              195 non-null    float64\n",
      " 19  DFA               195 non-null    float64\n",
      " 20  spread1           195 non-null    float64\n",
      " 21  spread2           195 non-null    float64\n",
      " 22  D2                195 non-null    float64\n",
      " 23  PPE               195 non-null    float64\n",
      "dtypes: float64(22), int64(1), object(1)\n",
      "memory usage: 36.7+ KB\n"
     ]
    }
   ],
   "source": [
    "# Display the names , non- null value count and datatypes for each column\n",
    "df.info()"
   ]
  },
  {
   "cell_type": "markdown",
   "metadata": {
    "id": "dLh-fX0zgrEa"
   },
   "source": [
    "## Data Statistics"
   ]
  },
  {
   "cell_type": "code",
   "execution_count": 8,
   "metadata": {
    "colab": {
     "base_uri": "https://localhost:8080/",
     "height": 394
    },
    "executionInfo": {
     "elapsed": 262,
     "status": "ok",
     "timestamp": 1649969526580,
     "user": {
      "displayName": "Halima Ladan",
      "userId": "13376351725036595186"
     },
     "user_tz": 240
    },
    "id": "U7tqKU9OnPOv",
    "outputId": "3c570841-2a7f-49ba-959e-3436d2a896b4"
   },
   "outputs": [
    {
     "data": {
      "text/html": [
       "<div>\n",
       "<style scoped>\n",
       "    .dataframe tbody tr th:only-of-type {\n",
       "        vertical-align: middle;\n",
       "    }\n",
       "\n",
       "    .dataframe tbody tr th {\n",
       "        vertical-align: top;\n",
       "    }\n",
       "\n",
       "    .dataframe thead th {\n",
       "        text-align: right;\n",
       "    }\n",
       "</style>\n",
       "<table border=\"1\" class=\"dataframe\">\n",
       "  <thead>\n",
       "    <tr style=\"text-align: right;\">\n",
       "      <th></th>\n",
       "      <th>MDVP:Fo(Hz)</th>\n",
       "      <th>MDVP:Fhi(Hz)</th>\n",
       "      <th>MDVP:Flo(Hz)</th>\n",
       "      <th>MDVP:Jitter(%)</th>\n",
       "      <th>MDVP:Jitter(Abs)</th>\n",
       "      <th>MDVP:RAP</th>\n",
       "      <th>MDVP:PPQ</th>\n",
       "      <th>Jitter:DDP</th>\n",
       "      <th>MDVP:Shimmer</th>\n",
       "      <th>MDVP:Shimmer(dB)</th>\n",
       "      <th>...</th>\n",
       "      <th>Shimmer:DDA</th>\n",
       "      <th>NHR</th>\n",
       "      <th>HNR</th>\n",
       "      <th>status</th>\n",
       "      <th>RPDE</th>\n",
       "      <th>DFA</th>\n",
       "      <th>spread1</th>\n",
       "      <th>spread2</th>\n",
       "      <th>D2</th>\n",
       "      <th>PPE</th>\n",
       "    </tr>\n",
       "  </thead>\n",
       "  <tbody>\n",
       "    <tr>\n",
       "      <th>count</th>\n",
       "      <td>195.0000</td>\n",
       "      <td>195.0000</td>\n",
       "      <td>195.0000</td>\n",
       "      <td>195.0000</td>\n",
       "      <td>195.0000</td>\n",
       "      <td>195.0000</td>\n",
       "      <td>195.0000</td>\n",
       "      <td>195.0000</td>\n",
       "      <td>195.0000</td>\n",
       "      <td>195.0000</td>\n",
       "      <td>...</td>\n",
       "      <td>195.0000</td>\n",
       "      <td>195.0000</td>\n",
       "      <td>195.0000</td>\n",
       "      <td>195.0000</td>\n",
       "      <td>195.0000</td>\n",
       "      <td>195.0000</td>\n",
       "      <td>195.0000</td>\n",
       "      <td>195.0000</td>\n",
       "      <td>195.0000</td>\n",
       "      <td>195.0000</td>\n",
       "    </tr>\n",
       "    <tr>\n",
       "      <th>mean</th>\n",
       "      <td>154.2286</td>\n",
       "      <td>197.1049</td>\n",
       "      <td>116.3246</td>\n",
       "      <td>0.0062</td>\n",
       "      <td>0.0000</td>\n",
       "      <td>0.0033</td>\n",
       "      <td>0.0034</td>\n",
       "      <td>0.0099</td>\n",
       "      <td>0.0297</td>\n",
       "      <td>0.2823</td>\n",
       "      <td>...</td>\n",
       "      <td>0.0470</td>\n",
       "      <td>0.0248</td>\n",
       "      <td>21.8860</td>\n",
       "      <td>0.7538</td>\n",
       "      <td>0.4985</td>\n",
       "      <td>0.7181</td>\n",
       "      <td>-5.6844</td>\n",
       "      <td>0.2265</td>\n",
       "      <td>2.3818</td>\n",
       "      <td>0.2066</td>\n",
       "    </tr>\n",
       "    <tr>\n",
       "      <th>std</th>\n",
       "      <td>41.3901</td>\n",
       "      <td>91.4915</td>\n",
       "      <td>43.5214</td>\n",
       "      <td>0.0048</td>\n",
       "      <td>0.0000</td>\n",
       "      <td>0.0030</td>\n",
       "      <td>0.0028</td>\n",
       "      <td>0.0089</td>\n",
       "      <td>0.0189</td>\n",
       "      <td>0.1949</td>\n",
       "      <td>...</td>\n",
       "      <td>0.0305</td>\n",
       "      <td>0.0404</td>\n",
       "      <td>4.4258</td>\n",
       "      <td>0.4319</td>\n",
       "      <td>0.1039</td>\n",
       "      <td>0.0553</td>\n",
       "      <td>1.0902</td>\n",
       "      <td>0.0834</td>\n",
       "      <td>0.3828</td>\n",
       "      <td>0.0901</td>\n",
       "    </tr>\n",
       "    <tr>\n",
       "      <th>min</th>\n",
       "      <td>88.3330</td>\n",
       "      <td>102.1450</td>\n",
       "      <td>65.4760</td>\n",
       "      <td>0.0017</td>\n",
       "      <td>0.0000</td>\n",
       "      <td>0.0007</td>\n",
       "      <td>0.0009</td>\n",
       "      <td>0.0020</td>\n",
       "      <td>0.0095</td>\n",
       "      <td>0.0850</td>\n",
       "      <td>...</td>\n",
       "      <td>0.0136</td>\n",
       "      <td>0.0006</td>\n",
       "      <td>8.4410</td>\n",
       "      <td>0.0000</td>\n",
       "      <td>0.2566</td>\n",
       "      <td>0.5743</td>\n",
       "      <td>-7.9650</td>\n",
       "      <td>0.0063</td>\n",
       "      <td>1.4233</td>\n",
       "      <td>0.0445</td>\n",
       "    </tr>\n",
       "    <tr>\n",
       "      <th>25%</th>\n",
       "      <td>117.5720</td>\n",
       "      <td>134.8625</td>\n",
       "      <td>84.2910</td>\n",
       "      <td>0.0035</td>\n",
       "      <td>0.0000</td>\n",
       "      <td>0.0017</td>\n",
       "      <td>0.0019</td>\n",
       "      <td>0.0050</td>\n",
       "      <td>0.0165</td>\n",
       "      <td>0.1485</td>\n",
       "      <td>...</td>\n",
       "      <td>0.0247</td>\n",
       "      <td>0.0059</td>\n",
       "      <td>19.1980</td>\n",
       "      <td>1.0000</td>\n",
       "      <td>0.4213</td>\n",
       "      <td>0.6748</td>\n",
       "      <td>-6.4501</td>\n",
       "      <td>0.1744</td>\n",
       "      <td>2.0991</td>\n",
       "      <td>0.1375</td>\n",
       "    </tr>\n",
       "    <tr>\n",
       "      <th>50%</th>\n",
       "      <td>148.7900</td>\n",
       "      <td>175.8290</td>\n",
       "      <td>104.3150</td>\n",
       "      <td>0.0049</td>\n",
       "      <td>0.0000</td>\n",
       "      <td>0.0025</td>\n",
       "      <td>0.0027</td>\n",
       "      <td>0.0075</td>\n",
       "      <td>0.0230</td>\n",
       "      <td>0.2210</td>\n",
       "      <td>...</td>\n",
       "      <td>0.0384</td>\n",
       "      <td>0.0117</td>\n",
       "      <td>22.0850</td>\n",
       "      <td>1.0000</td>\n",
       "      <td>0.4960</td>\n",
       "      <td>0.7223</td>\n",
       "      <td>-5.7209</td>\n",
       "      <td>0.2189</td>\n",
       "      <td>2.3615</td>\n",
       "      <td>0.1941</td>\n",
       "    </tr>\n",
       "    <tr>\n",
       "      <th>75%</th>\n",
       "      <td>182.7690</td>\n",
       "      <td>224.2055</td>\n",
       "      <td>140.0185</td>\n",
       "      <td>0.0074</td>\n",
       "      <td>0.0001</td>\n",
       "      <td>0.0038</td>\n",
       "      <td>0.0040</td>\n",
       "      <td>0.0115</td>\n",
       "      <td>0.0379</td>\n",
       "      <td>0.3500</td>\n",
       "      <td>...</td>\n",
       "      <td>0.0608</td>\n",
       "      <td>0.0256</td>\n",
       "      <td>25.0755</td>\n",
       "      <td>1.0000</td>\n",
       "      <td>0.5876</td>\n",
       "      <td>0.7619</td>\n",
       "      <td>-5.0462</td>\n",
       "      <td>0.2792</td>\n",
       "      <td>2.6365</td>\n",
       "      <td>0.2530</td>\n",
       "    </tr>\n",
       "    <tr>\n",
       "      <th>max</th>\n",
       "      <td>260.1050</td>\n",
       "      <td>592.0300</td>\n",
       "      <td>239.1700</td>\n",
       "      <td>0.0332</td>\n",
       "      <td>0.0003</td>\n",
       "      <td>0.0214</td>\n",
       "      <td>0.0196</td>\n",
       "      <td>0.0643</td>\n",
       "      <td>0.1191</td>\n",
       "      <td>1.3020</td>\n",
       "      <td>...</td>\n",
       "      <td>0.1694</td>\n",
       "      <td>0.3148</td>\n",
       "      <td>33.0470</td>\n",
       "      <td>1.0000</td>\n",
       "      <td>0.6852</td>\n",
       "      <td>0.8253</td>\n",
       "      <td>-2.4340</td>\n",
       "      <td>0.4505</td>\n",
       "      <td>3.6712</td>\n",
       "      <td>0.5274</td>\n",
       "    </tr>\n",
       "  </tbody>\n",
       "</table>\n",
       "<p>8 rows × 23 columns</p>\n",
       "</div>"
      ],
      "text/plain": [
       "       MDVP:Fo(Hz)  MDVP:Fhi(Hz)  MDVP:Flo(Hz)  MDVP:Jitter(%)  \\\n",
       "count     195.0000      195.0000      195.0000        195.0000   \n",
       "mean      154.2286      197.1049      116.3246          0.0062   \n",
       "std        41.3901       91.4915       43.5214          0.0048   \n",
       "min        88.3330      102.1450       65.4760          0.0017   \n",
       "25%       117.5720      134.8625       84.2910          0.0035   \n",
       "50%       148.7900      175.8290      104.3150          0.0049   \n",
       "75%       182.7690      224.2055      140.0185          0.0074   \n",
       "max       260.1050      592.0300      239.1700          0.0332   \n",
       "\n",
       "       MDVP:Jitter(Abs)  MDVP:RAP  MDVP:PPQ  Jitter:DDP  MDVP:Shimmer  \\\n",
       "count          195.0000  195.0000  195.0000    195.0000      195.0000   \n",
       "mean             0.0000    0.0033    0.0034      0.0099        0.0297   \n",
       "std              0.0000    0.0030    0.0028      0.0089        0.0189   \n",
       "min              0.0000    0.0007    0.0009      0.0020        0.0095   \n",
       "25%              0.0000    0.0017    0.0019      0.0050        0.0165   \n",
       "50%              0.0000    0.0025    0.0027      0.0075        0.0230   \n",
       "75%              0.0001    0.0038    0.0040      0.0115        0.0379   \n",
       "max              0.0003    0.0214    0.0196      0.0643        0.1191   \n",
       "\n",
       "       MDVP:Shimmer(dB)  ...  Shimmer:DDA       NHR       HNR    status  \\\n",
       "count          195.0000  ...     195.0000  195.0000  195.0000  195.0000   \n",
       "mean             0.2823  ...       0.0470    0.0248   21.8860    0.7538   \n",
       "std              0.1949  ...       0.0305    0.0404    4.4258    0.4319   \n",
       "min              0.0850  ...       0.0136    0.0006    8.4410    0.0000   \n",
       "25%              0.1485  ...       0.0247    0.0059   19.1980    1.0000   \n",
       "50%              0.2210  ...       0.0384    0.0117   22.0850    1.0000   \n",
       "75%              0.3500  ...       0.0608    0.0256   25.0755    1.0000   \n",
       "max              1.3020  ...       0.1694    0.3148   33.0470    1.0000   \n",
       "\n",
       "           RPDE       DFA   spread1   spread2        D2       PPE  \n",
       "count  195.0000  195.0000  195.0000  195.0000  195.0000  195.0000  \n",
       "mean     0.4985    0.7181   -5.6844    0.2265    2.3818    0.2066  \n",
       "std      0.1039    0.0553    1.0902    0.0834    0.3828    0.0901  \n",
       "min      0.2566    0.5743   -7.9650    0.0063    1.4233    0.0445  \n",
       "25%      0.4213    0.6748   -6.4501    0.1744    2.0991    0.1375  \n",
       "50%      0.4960    0.7223   -5.7209    0.2189    2.3615    0.1941  \n",
       "75%      0.5876    0.7619   -5.0462    0.2792    2.6365    0.2530  \n",
       "max      0.6852    0.8253   -2.4340    0.4505    3.6712    0.5274  \n",
       "\n",
       "[8 rows x 23 columns]"
      ]
     },
     "execution_count": 8,
     "metadata": {},
     "output_type": "execute_result"
    }
   ],
   "source": [
    "df.describe().round(4)"
   ]
  },
  {
   "cell_type": "markdown",
   "metadata": {
    "id": "3Ui01t1ZKJf5"
   },
   "source": [
    "Some columns have been observed to contain outliers. This will be investigated further and the neccessary action would be taken."
   ]
  },
  {
   "cell_type": "markdown",
   "metadata": {
    "id": "6ea2cJeBgCoM"
   },
   "source": [
    "## Data Cleaning Process"
   ]
  },
  {
   "cell_type": "markdown",
   "metadata": {
    "id": "88sPgOU3hD6Z"
   },
   "source": [
    "### Removal of  irrelevant columns"
   ]
  },
  {
   "cell_type": "markdown",
   "metadata": {
    "id": "aVUGWLigiet1"
   },
   "source": [
    "The 'name' column representing the phone numbers of the individuals whose voices were recorded for this data set is of no relevance to this project and hence will be dropped."
   ]
  },
  {
   "cell_type": "code",
   "execution_count": 9,
   "metadata": {
    "colab": {
     "base_uri": "https://localhost:8080/",
     "height": 456
    },
    "executionInfo": {
     "elapsed": 14,
     "status": "ok",
     "timestamp": 1649969526581,
     "user": {
      "displayName": "Halima Ladan",
      "userId": "13376351725036595186"
     },
     "user_tz": 240
    },
    "id": "n14Ej1Zfmvkd",
    "outputId": "fc65198f-5c00-440f-b4d1-b6fac6b4a077"
   },
   "outputs": [
    {
     "data": {
      "text/html": [
       "<div>\n",
       "<style scoped>\n",
       "    .dataframe tbody tr th:only-of-type {\n",
       "        vertical-align: middle;\n",
       "    }\n",
       "\n",
       "    .dataframe tbody tr th {\n",
       "        vertical-align: top;\n",
       "    }\n",
       "\n",
       "    .dataframe thead th {\n",
       "        text-align: right;\n",
       "    }\n",
       "</style>\n",
       "<table border=\"1\" class=\"dataframe\">\n",
       "  <thead>\n",
       "    <tr style=\"text-align: right;\">\n",
       "      <th></th>\n",
       "      <th>MDVP:Fo(Hz)</th>\n",
       "      <th>MDVP:Fhi(Hz)</th>\n",
       "      <th>MDVP:Flo(Hz)</th>\n",
       "      <th>MDVP:Jitter(%)</th>\n",
       "      <th>MDVP:Jitter(Abs)</th>\n",
       "      <th>MDVP:RAP</th>\n",
       "      <th>MDVP:PPQ</th>\n",
       "      <th>Jitter:DDP</th>\n",
       "      <th>MDVP:Shimmer</th>\n",
       "      <th>MDVP:Shimmer(dB)</th>\n",
       "      <th>...</th>\n",
       "      <th>Shimmer:DDA</th>\n",
       "      <th>NHR</th>\n",
       "      <th>HNR</th>\n",
       "      <th>status</th>\n",
       "      <th>RPDE</th>\n",
       "      <th>DFA</th>\n",
       "      <th>spread1</th>\n",
       "      <th>spread2</th>\n",
       "      <th>D2</th>\n",
       "      <th>PPE</th>\n",
       "    </tr>\n",
       "  </thead>\n",
       "  <tbody>\n",
       "    <tr>\n",
       "      <th>0</th>\n",
       "      <td>119.992</td>\n",
       "      <td>157.302</td>\n",
       "      <td>74.997</td>\n",
       "      <td>0.00784</td>\n",
       "      <td>0.00007</td>\n",
       "      <td>0.00370</td>\n",
       "      <td>0.00554</td>\n",
       "      <td>0.01109</td>\n",
       "      <td>0.04374</td>\n",
       "      <td>0.426</td>\n",
       "      <td>...</td>\n",
       "      <td>0.06545</td>\n",
       "      <td>0.02211</td>\n",
       "      <td>21.033</td>\n",
       "      <td>1</td>\n",
       "      <td>0.414783</td>\n",
       "      <td>0.815285</td>\n",
       "      <td>-4.813031</td>\n",
       "      <td>0.266482</td>\n",
       "      <td>2.301442</td>\n",
       "      <td>0.284654</td>\n",
       "    </tr>\n",
       "    <tr>\n",
       "      <th>1</th>\n",
       "      <td>122.400</td>\n",
       "      <td>148.650</td>\n",
       "      <td>113.819</td>\n",
       "      <td>0.00968</td>\n",
       "      <td>0.00008</td>\n",
       "      <td>0.00465</td>\n",
       "      <td>0.00696</td>\n",
       "      <td>0.01394</td>\n",
       "      <td>0.06134</td>\n",
       "      <td>0.626</td>\n",
       "      <td>...</td>\n",
       "      <td>0.09403</td>\n",
       "      <td>0.01929</td>\n",
       "      <td>19.085</td>\n",
       "      <td>1</td>\n",
       "      <td>0.458359</td>\n",
       "      <td>0.819521</td>\n",
       "      <td>-4.075192</td>\n",
       "      <td>0.335590</td>\n",
       "      <td>2.486855</td>\n",
       "      <td>0.368674</td>\n",
       "    </tr>\n",
       "    <tr>\n",
       "      <th>2</th>\n",
       "      <td>116.682</td>\n",
       "      <td>131.111</td>\n",
       "      <td>111.555</td>\n",
       "      <td>0.01050</td>\n",
       "      <td>0.00009</td>\n",
       "      <td>0.00544</td>\n",
       "      <td>0.00781</td>\n",
       "      <td>0.01633</td>\n",
       "      <td>0.05233</td>\n",
       "      <td>0.482</td>\n",
       "      <td>...</td>\n",
       "      <td>0.08270</td>\n",
       "      <td>0.01309</td>\n",
       "      <td>20.651</td>\n",
       "      <td>1</td>\n",
       "      <td>0.429895</td>\n",
       "      <td>0.825288</td>\n",
       "      <td>-4.443179</td>\n",
       "      <td>0.311173</td>\n",
       "      <td>2.342259</td>\n",
       "      <td>0.332634</td>\n",
       "    </tr>\n",
       "    <tr>\n",
       "      <th>3</th>\n",
       "      <td>116.676</td>\n",
       "      <td>137.871</td>\n",
       "      <td>111.366</td>\n",
       "      <td>0.00997</td>\n",
       "      <td>0.00009</td>\n",
       "      <td>0.00502</td>\n",
       "      <td>0.00698</td>\n",
       "      <td>0.01505</td>\n",
       "      <td>0.05492</td>\n",
       "      <td>0.517</td>\n",
       "      <td>...</td>\n",
       "      <td>0.08771</td>\n",
       "      <td>0.01353</td>\n",
       "      <td>20.644</td>\n",
       "      <td>1</td>\n",
       "      <td>0.434969</td>\n",
       "      <td>0.819235</td>\n",
       "      <td>-4.117501</td>\n",
       "      <td>0.334147</td>\n",
       "      <td>2.405554</td>\n",
       "      <td>0.368975</td>\n",
       "    </tr>\n",
       "    <tr>\n",
       "      <th>4</th>\n",
       "      <td>116.014</td>\n",
       "      <td>141.781</td>\n",
       "      <td>110.655</td>\n",
       "      <td>0.01284</td>\n",
       "      <td>0.00011</td>\n",
       "      <td>0.00655</td>\n",
       "      <td>0.00908</td>\n",
       "      <td>0.01966</td>\n",
       "      <td>0.06425</td>\n",
       "      <td>0.584</td>\n",
       "      <td>...</td>\n",
       "      <td>0.10470</td>\n",
       "      <td>0.01767</td>\n",
       "      <td>19.649</td>\n",
       "      <td>1</td>\n",
       "      <td>0.417356</td>\n",
       "      <td>0.823484</td>\n",
       "      <td>-3.747787</td>\n",
       "      <td>0.234513</td>\n",
       "      <td>2.332180</td>\n",
       "      <td>0.410335</td>\n",
       "    </tr>\n",
       "  </tbody>\n",
       "</table>\n",
       "<p>5 rows × 23 columns</p>\n",
       "</div>"
      ],
      "text/plain": [
       "   MDVP:Fo(Hz)  MDVP:Fhi(Hz)  MDVP:Flo(Hz)  MDVP:Jitter(%)  MDVP:Jitter(Abs)  \\\n",
       "0      119.992       157.302        74.997         0.00784           0.00007   \n",
       "1      122.400       148.650       113.819         0.00968           0.00008   \n",
       "2      116.682       131.111       111.555         0.01050           0.00009   \n",
       "3      116.676       137.871       111.366         0.00997           0.00009   \n",
       "4      116.014       141.781       110.655         0.01284           0.00011   \n",
       "\n",
       "   MDVP:RAP  MDVP:PPQ  Jitter:DDP  MDVP:Shimmer  MDVP:Shimmer(dB)  ...  \\\n",
       "0   0.00370   0.00554     0.01109       0.04374             0.426  ...   \n",
       "1   0.00465   0.00696     0.01394       0.06134             0.626  ...   \n",
       "2   0.00544   0.00781     0.01633       0.05233             0.482  ...   \n",
       "3   0.00502   0.00698     0.01505       0.05492             0.517  ...   \n",
       "4   0.00655   0.00908     0.01966       0.06425             0.584  ...   \n",
       "\n",
       "   Shimmer:DDA      NHR     HNR  status      RPDE       DFA   spread1  \\\n",
       "0      0.06545  0.02211  21.033       1  0.414783  0.815285 -4.813031   \n",
       "1      0.09403  0.01929  19.085       1  0.458359  0.819521 -4.075192   \n",
       "2      0.08270  0.01309  20.651       1  0.429895  0.825288 -4.443179   \n",
       "3      0.08771  0.01353  20.644       1  0.434969  0.819235 -4.117501   \n",
       "4      0.10470  0.01767  19.649       1  0.417356  0.823484 -3.747787   \n",
       "\n",
       "    spread2        D2       PPE  \n",
       "0  0.266482  2.301442  0.284654  \n",
       "1  0.335590  2.486855  0.368674  \n",
       "2  0.311173  2.342259  0.332634  \n",
       "3  0.334147  2.405554  0.368975  \n",
       "4  0.234513  2.332180  0.410335  \n",
       "\n",
       "[5 rows x 23 columns]"
      ]
     },
     "execution_count": 9,
     "metadata": {},
     "output_type": "execute_result"
    }
   ],
   "source": [
    "# Removal of column \"name\" .\n",
    "df = df.drop(columns = \"name\")\n",
    "#Confirming changes\n",
    "df.head()"
   ]
  },
  {
   "cell_type": "markdown",
   "metadata": {
    "id": "APLCbkJLhz4w"
   },
   "source": [
    "### Removal of Duplicates"
   ]
  },
  {
   "cell_type": "code",
   "execution_count": 10,
   "metadata": {
    "colab": {
     "base_uri": "https://localhost:8080/"
    },
    "executionInfo": {
     "elapsed": 13,
     "status": "ok",
     "timestamp": 1649969526581,
     "user": {
      "displayName": "Halima Ladan",
      "userId": "13376351725036595186"
     },
     "user_tz": 240
    },
    "id": "kDj-uHA7nEsX",
    "outputId": "8c78bee6-6163-48fe-c1ab-095197b5e01f"
   },
   "outputs": [
    {
     "name": "stdout",
     "output_type": "stream",
     "text": [
      "Duplicates: 0\n"
     ]
    }
   ],
   "source": [
    "# Checking for duplicate entries\n",
    "print(f'Duplicates: {df.duplicated().sum()}')"
   ]
  },
  {
   "cell_type": "markdown",
   "metadata": {
    "id": "KI-sIpT_iCn_"
   },
   "source": [
    "There are no duplicates in this data set."
   ]
  },
  {
   "cell_type": "markdown",
   "metadata": {
    "id": "j-e0jBxni1qY"
   },
   "source": [
    "## Checking for null Values"
   ]
  },
  {
   "cell_type": "code",
   "execution_count": 11,
   "metadata": {
    "colab": {
     "base_uri": "https://localhost:8080/"
    },
    "executionInfo": {
     "elapsed": 12,
     "status": "ok",
     "timestamp": 1649969526582,
     "user": {
      "displayName": "Halima Ladan",
      "userId": "13376351725036595186"
     },
     "user_tz": 240
    },
    "id": "XtTVwyW9nKna",
    "outputId": "32ae2d80-cded-4f88-d8da-efa83e78dc3a"
   },
   "outputs": [
    {
     "data": {
      "text/plain": [
       "MDVP:Fo(Hz)         0\n",
       "MDVP:Fhi(Hz)        0\n",
       "MDVP:Flo(Hz)        0\n",
       "MDVP:Jitter(%)      0\n",
       "MDVP:Jitter(Abs)    0\n",
       "MDVP:RAP            0\n",
       "MDVP:PPQ            0\n",
       "Jitter:DDP          0\n",
       "MDVP:Shimmer        0\n",
       "MDVP:Shimmer(dB)    0\n",
       "Shimmer:APQ3        0\n",
       "Shimmer:APQ5        0\n",
       "MDVP:APQ            0\n",
       "Shimmer:DDA         0\n",
       "NHR                 0\n",
       "HNR                 0\n",
       "status              0\n",
       "RPDE                0\n",
       "DFA                 0\n",
       "spread1             0\n",
       "spread2             0\n",
       "D2                  0\n",
       "PPE                 0\n",
       "dtype: int64"
      ]
     },
     "execution_count": 11,
     "metadata": {},
     "output_type": "execute_result"
    }
   ],
   "source": [
    "df.isnull().sum()\n",
    "#There are no null values in this data set"
   ]
  },
  {
   "cell_type": "markdown",
   "metadata": {
    "id": "ASgTPIIAiKRM"
   },
   "source": [
    "There are no null values in this data set."
   ]
  },
  {
   "cell_type": "markdown",
   "metadata": {
    "id": "bz-VAXObjDl4"
   },
   "source": [
    "### Checking for outliers in data"
   ]
  },
  {
   "cell_type": "code",
   "execution_count": 12,
   "metadata": {},
   "outputs": [],
   "source": [
    "# A function to plot a boxplot of the features\n",
    "def box (columns):\n",
    "    plt.rcParams[\"figure.figsize\"] = [36, 9]\n",
    "    f, axes =plt.subplots(nrows = 1, ncols = 6)\n",
    "    sns.set_theme(style=\"whitegrid\")\n",
    "    sns.boxplot(ax = axes[0], x=\"status\", y=columns[0], data=df)\n",
    "    sns.boxplot(ax = axes[1], x=\"status\", y=columns[1], data=df)\n",
    "    sns.boxplot(ax = axes[2], x=\"status\", y=columns[2], data=df)\n",
    "    sns.boxplot(ax = axes[3], x=\"status\", y=columns[3], data=df)\n",
    "    sns.boxplot(ax = axes[4], x=\"status\", y=columns[4], data=df)\n",
    "    sns.boxplot(ax = axes[5], x=\"status\", y=columns[5], data=df)\n",
    "def Box (columns):\n",
    "    plt.rcParams[\"figure.figsize\"] = [30, 8]\n",
    "    f, axes =plt.subplots(nrows = 1, ncols = 4)\n",
    "    sns.set_theme(style=\"whitegrid\")\n",
    "    sns.boxplot(ax = axes[0], x=\"status\", y=columns[0], data=df)\n",
    "    sns.boxplot(ax = axes[1], x=\"status\", y=columns[1], data=df)\n",
    "    sns.boxplot(ax = axes[2], x=\"status\", y=columns[2], data=df)\n",
    "    sns.boxplot(ax = axes[3], x=\"status\", y=columns[3], data=df)"
   ]
  },
  {
   "cell_type": "markdown",
   "metadata": {},
   "source": [
    "### A display of the outliers and the stastistical summary of the dataset."
   ]
  },
  {
   "cell_type": "code",
   "execution_count": 13,
   "metadata": {},
   "outputs": [
    {
     "data": {
      "image/png": "[encoded data removed]",
      "text/plain": [
       "<Figure size 2592x648 with 6 Axes>"
      ]
     },
     "metadata": {
      "needs_background": "light"
     },
     "output_type": "display_data"
    }
   ],
   "source": [
    "box_df = df.drop(columns=[\"status\"])\n",
    "box(box_df.columns[0:6])"
   ]
  },
  {
   "cell_type": "code",
   "execution_count": 14,
   "metadata": {},
   "outputs": [
    {
     "data": {
      "image/png": "[encoded data removed]",
      "text/plain": [
       "<Figure size 2592x648 with 6 Axes>"
      ]
     },
     "metadata": {},
     "output_type": "display_data"
    }
   ],
   "source": [
    "box(box_df.columns[6:12])"
   ]
  },
  {
   "cell_type": "code",
   "execution_count": 15,
   "metadata": {},
   "outputs": [
    {
     "data": {
      "image/png": "[encoded data removed]",
      "text/plain": [
       "<Figure size 2592x648 with 6 Axes>"
      ]
     },
     "metadata": {},
     "output_type": "display_data"
    }
   ],
   "source": [
    "box(box_df.columns[12:18])"
   ]
  },
  {
   "cell_type": "code",
   "execution_count": 16,
   "metadata": {},
   "outputs": [
    {
     "data": {
      "image/png": "[encoded data removed]",
      "text/plain": [
       "<Figure size 2160x576 with 4 Axes>"
      ]
     },
     "metadata": {},
     "output_type": "display_data"
    }
   ],
   "source": [
    "Box(box_df.columns[18:23])"
   ]
  },
  {
   "cell_type": "markdown",
   "metadata": {
    "id": "2RsYbBEsI-zb"
   },
   "source": [
    " Calculating the amount of outliers present in each column."
   ]
  },
  {
   "cell_type": "code",
   "execution_count": 17,
   "metadata": {},
   "outputs": [
    {
     "name": "stdout",
     "output_type": "stream",
     "text": [
      "Column MDVP:Fo(Hz) has 0 outliers\n",
      "Column MDVP:Fhi(Hz) has 7 outliers\n",
      "Column MDVP:Flo(Hz) has 0 outliers\n",
      "Column MDVP:Jitter(%) has 4 outliers\n",
      "Column MDVP:Jitter(Abs) has 5 outliers\n",
      "Column MDVP:RAP has 4 outliers\n",
      "Column MDVP:PPQ has 4 outliers\n",
      "Column Jitter:DDP has 4 outliers\n",
      "Column MDVP:Shimmer has 4 outliers\n",
      "Column MDVP:Shimmer(dB) has 4 outliers\n",
      "Column Shimmer:APQ3 has 3 outliers\n",
      "Column Shimmer:APQ5 has 3 outliers\n",
      "Column MDVP:APQ has 3 outliers\n",
      "Column Shimmer:DDA has 3 outliers\n",
      "Column NHR has 5 outliers\n",
      "Column HNR has 1 outliers\n",
      "Column status has 0 outliers\n",
      "Column RPDE has 0 outliers\n",
      "Column DFA has 0 outliers\n",
      "Column spread1 has 0 outliers\n",
      "Column spread2 has 0 outliers\n",
      "Column D2 has 1 outliers\n",
      "Column PPE has 1 outliers\n"
     ]
    }
   ],
   "source": [
    "#Calculating the number of outliers for each column\n",
    "for column in df.columns:\n",
    "    # Calculate the number of outliers\n",
    "    outliers = np.abs(stats.zscore(df[column])) > 3\n",
    "    print(f\"Column {column} has {outliers.sum()} outliers\")"
   ]
  },
  {
   "cell_type": "markdown",
   "metadata": {},
   "source": [
    "#### Handling of outliers\n",
    "\n",
    "The outliers in this data set will not be removed, this is because humans have varying vocal tone, some can be on the extreme lower end, with small voices, while others on the extreme higher end with deep voices. Eliminating the outliers will remove this group of people from the data set and when the model comes across a voice from this category, it will make a false diagnosis, as it was not trained on it."
   ]
  },
  {
   "cell_type": "markdown",
   "metadata": {},
   "source": [
    "## Exploratory Data Analysis\n",
    "\n",
    "A dispaly of the distribution of the various features against the target vector (status)"
   ]
  },
  {
   "cell_type": "code",
   "execution_count": 18,
   "metadata": {
    "id": "eexqjQiIThnz"
   },
   "outputs": [],
   "source": [
    "# Defining a function to explore the relations between all features and target feature, (status) \n",
    "# using a barchart and a boxplot\n",
    "\n",
    "def bar (columns):\n",
    "    plt.rcParams[\"figure.figsize\"] = [28, 6]\n",
    "    f, axes =plt.subplots(nrows = 1, ncols = 4)\n",
    "    sns.set_theme(style=\"whitegrid\")\n",
    "    sns.barplot(ax = axes[0], x=\"status\", y=columns[0], data=df)\n",
    "    sns.barplot(ax = axes[1], x=\"status\", y=columns[1], data=df)\n",
    "    sns.barplot(ax = axes[2], x=\"status\", y=columns[2], data=df)\n",
    "    sns.barplot(ax = axes[3], x=\"status\", y=columns[3], data=df)\n",
    "def Bar (columns):\n",
    "    plt.rcParams[\"figure.figsize\"] = [8, 3]\n",
    "    f, axes =plt.subplots(nrows = 1, ncols = 2)\n",
    "    sns.set_theme(style=\"whitegrid\")\n",
    "    sns.barplot(ax = axes[0], x=\"status\", y=columns[0], data=df)\n",
    "    sns.barplot(ax = axes[1], x=\"status\", y=columns[1], data=df)\n",
    "\n"
   ]
  },
  {
   "cell_type": "code",
   "execution_count": 19,
   "metadata": {},
   "outputs": [
    {
     "data": {
      "image/png": "[encoded data removed]",
      "text/plain": [
       "<Figure size 2016x432 with 4 Axes>"
      ]
     },
     "metadata": {},
     "output_type": "display_data"
    }
   ],
   "source": [
    "bar(df.columns[0:4])"
   ]
  },
  {
   "cell_type": "markdown",
   "metadata": {
    "id": "jXUcfdyiT1TC"
   },
   "source": [
    "**MDVP:fo(HZ):**\n",
    ">- lower in PD POSITIVE \n",
    ">- higher in PD NEGATIVE\n",
    "             \n",
    "**MDVP:fhi(HZ)**\n",
    ">- lower in PD POSITIVE \n",
    ">- higher in PD NEGATIVE\n",
    "\n",
    "\n",
    "**MDVP:Flo(HZ):**\n",
    ">- lower in PD positive\n",
    ">- higher in PD negative\n",
    "             \n",
    "**MDVP:Jitter(%)**\n",
    ">- higher in PD positive\n",
    ">- lower in PD negative"
   ]
  },
  {
   "cell_type": "code",
   "execution_count": 20,
   "metadata": {
    "colab": {
     "base_uri": "https://localhost:8080/",
     "height": 205
    },
    "executionInfo": {
     "elapsed": 829,
     "status": "ok",
     "timestamp": 1649969528158,
     "user": {
      "displayName": "Halima Ladan",
      "userId": "13376351725036595186"
     },
     "user_tz": 240
    },
    "id": "goeHWm5MQVKP",
    "outputId": "1775d1c9-d510-4ab0-e2f3-f2318d4055d6"
   },
   "outputs": [
    {
     "data": {
      "image/png": "[encoded data removed]",
      "text/plain": [
       "<Figure size 2016x432 with 4 Axes>"
      ]
     },
     "metadata": {},
     "output_type": "display_data"
    }
   ],
   "source": [
    "bar(df.columns[4:8])"
   ]
  },
  {
   "cell_type": "markdown",
   "metadata": {
    "id": "REycDIDNCplg"
   },
   "source": [
    "\n",
    "**MDVP:jitter(Abs)**\n",
    ">- higher in PD positive\n",
    ">- lower in PD negative\n",
    "             \n",
    "**MDVP:RAP**\n",
    ">- higher in PD positive\n",
    ">- lower in PD negative\n",
    "\n",
    "\n",
    "**MDVP:PPQ**\n",
    ">- higher in PD positive\n",
    ">- lower in PD negative\n",
    "             \n",
    "**Jitter:DDP**\n",
    ">- higher in PD positive\n",
    ">- lower in PD negative"
   ]
  },
  {
   "cell_type": "code",
   "execution_count": 21,
   "metadata": {
    "colab": {
     "base_uri": "https://localhost:8080/",
     "height": 203
    },
    "executionInfo": {
     "elapsed": 786,
     "status": "ok",
     "timestamp": 1649969528940,
     "user": {
      "displayName": "Halima Ladan",
      "userId": "13376351725036595186"
     },
     "user_tz": 240
    },
    "id": "J1KQemi9Qkck",
    "outputId": "7458233c-4d1a-40c1-ecb1-0e4ddf72a23c"
   },
   "outputs": [
    {
     "data": {
      "image/png": "[encoded data removed]",
      "text/plain": [
       "<Figure size 2016x432 with 4 Axes>"
      ]
     },
     "metadata": {},
     "output_type": "display_data"
    }
   ],
   "source": [
    "bar(df.columns[8:12])"
   ]
  },
  {
   "cell_type": "markdown",
   "metadata": {
    "id": "x0znM75PDmEu"
   },
   "source": [
    "\n",
    "**MDVP:Shimmer**\n",
    ">- higher in PD positive\n",
    ">- lower in PD negative\n",
    "             \n",
    "**MDVP:Shimmer(dB)**\n",
    ">- higher in PD positive\n",
    ">- lower in PD negative\n",
    "\n",
    "**Shimmer:APQ3**\n",
    ">- higher in PD positive\n",
    ">- lower in PD negative\n",
    "             \n",
    "**Shimmer:APQ5**\n",
    ">- higher in PD positive\n",
    ">- lower in PD negative"
   ]
  },
  {
   "cell_type": "code",
   "execution_count": 22,
   "metadata": {
    "colab": {
     "base_uri": "https://localhost:8080/",
     "height": 212
    },
    "executionInfo": {
     "elapsed": 952,
     "status": "ok",
     "timestamp": 1649969529888,
     "user": {
      "displayName": "Halima Ladan",
      "userId": "13376351725036595186"
     },
     "user_tz": 240
    },
    "id": "2LUqsOKhCqFA",
    "outputId": "076820b0-1fb1-4596-cb02-c8f7dcf6763a"
   },
   "outputs": [
    {
     "data": {
      "image/png": "[encoded data removed]",
      "text/plain": [
       "<Figure size 2016x432 with 4 Axes>"
      ]
     },
     "metadata": {},
     "output_type": "display_data"
    }
   ],
   "source": [
    "bar(df.columns[12:16])"
   ]
  },
  {
   "cell_type": "markdown",
   "metadata": {
    "id": "VMvEK-7vFd9n"
   },
   "source": [
    "**MDVP:APQ**\n",
    ">- higher in PD positive\n",
    ">- lower in PD negative\n",
    "             \n",
    "**Shimmer:DDA**\n",
    ">- higher in PD positive\n",
    ">- lower in PD negative\n",
    "\n",
    "**NHR:**\n",
    ">- higher in PD positive\n",
    ">- lower in PD negative\n",
    "             \n",
    "**HNR:**\n",
    ">- lower in PD positive\n",
    ">- higher in PD negative"
   ]
  },
  {
   "cell_type": "code",
   "execution_count": 23,
   "metadata": {
    "colab": {
     "base_uri": "https://localhost:8080/",
     "height": 203
    },
    "executionInfo": {
     "elapsed": 673,
     "status": "ok",
     "timestamp": 1649969530559,
     "user": {
      "displayName": "Halima Ladan",
      "userId": "13376351725036595186"
     },
     "user_tz": 240
    },
    "id": "GZvUFxoHQsJW",
    "outputId": "f1b54070-e362-45ed-b05b-62cf4455a4c3",
    "scrolled": true
   },
   "outputs": [
    {
     "data": {
      "image/png": "[encoded data removed]",
      "text/plain": [
       "<Figure size 2016x432 with 4 Axes>"
      ]
     },
     "metadata": {},
     "output_type": "display_data"
    }
   ],
   "source": [
    "bar(df.columns[17:21])"
   ]
  },
  {
   "cell_type": "markdown",
   "metadata": {
    "id": "Zg3bx0ImF5jB"
   },
   "source": [
    "\n",
    "**RPDE:**\n",
    ">- higher in PD positive\n",
    ">- lower in PD negative\n",
    "\n",
    "**DFA:**\n",
    ">- higher in PD positive\n",
    ">- lower in PD negative\n",
    "\n",
    "**Spread1:**\n",
    ">- higher in PD positive\n",
    ">- lower in PD negative\n",
    "             \n",
    "**Spread2:**\n",
    ">- higher in PD positive\n",
    ">- lower in PD negative"
   ]
  },
  {
   "cell_type": "code",
   "execution_count": 24,
   "metadata": {
    "colab": {
     "base_uri": "https://localhost:8080/",
     "height": 203
    },
    "executionInfo": {
     "elapsed": 664,
     "status": "ok",
     "timestamp": 1649969531220,
     "user": {
      "displayName": "Halima Ladan",
      "userId": "13376351725036595186"
     },
     "user_tz": 240
    },
    "id": "GcYgdeB7DmmD",
    "outputId": "ab25f2c7-ceb8-40af-a614-e53b9876c7ea"
   },
   "outputs": [
    {
     "data": {
      "image/png": "[encoded data removed]",
      "text/plain": [
       "<Figure size 576x216 with 2 Axes>"
      ]
     },
     "metadata": {},
     "output_type": "display_data"
    }
   ],
   "source": [
    "Bar(df.columns[21:23])"
   ]
  },
  {
   "cell_type": "markdown",
   "metadata": {
    "id": "c3idPqNRGSc9"
   },
   "source": [
    "\n",
    "**D2:**\n",
    ">- higher in PD positive\n",
    ">- lower in PD negative\n",
    "             \n",
    "**PPE:**\n",
    ">- higher in PD positive\n",
    ">- lower in PD negative"
   ]
  },
  {
   "cell_type": "markdown",
   "metadata": {
    "id": "_7yIOdb3aJWh"
   },
   "source": [
    "## Correlation between features"
   ]
  },
  {
   "cell_type": "code",
   "execution_count": 25,
   "metadata": {
    "colab": {
     "base_uri": "https://localhost:8080/",
     "height": 725
    },
    "executionInfo": {
     "elapsed": 882,
     "status": "ok",
     "timestamp": 1649969537278,
     "user": {
      "displayName": "Halima Ladan",
      "userId": "13376351725036595186"
     },
     "user_tz": 240
    },
    "id": "g_mF2ArEJkC-",
    "outputId": "00fda2cf-1239-43af-d1ed-f0271b5331bd"
   },
   "outputs": [
    {
     "data": {
      "image/png": "[encoded data removed]",
      "text/plain": [
       "<Figure size 864x720 with 2 Axes>"
      ]
     },
     "metadata": {},
     "output_type": "display_data"
    }
   ],
   "source": [
    "plt.figure(figsize = (12, 10))\n",
    "\n",
    "corr = df.corr()\n",
    "sns.heatmap(corr, cmap='vlag');\n",
    "\n",
    "plt.title('Correlation Heatmap', fontsize = 16, weight='bold')\n",
    "plt.xticks(fontsize = 10, weight='bold', rotation=90)\n",
    "plt.yticks(fontsize = 10, weight='bold');\n",
    "\n",
    "plt.tight_layout()\n",
    "plt.show;"
   ]
  },
  {
   "cell_type": "markdown",
   "metadata": {
    "id": "UIS6DmG6ZFHp"
   },
   "source": [
    "There appears to be a strong positive correlation amongst 'MDVP:Shimmer', 'MDVP:Shimmer(dB)', 'Shimmer:APQ3', 'Shimmer:APQ5','MDVP:APQ'and 'Shimmer:DDA'.\n",
    "HNR also has a negative correlation most of the features."
   ]
  },
  {
   "cell_type": "markdown",
   "metadata": {
    "id": "0L3ssTdFb1mH"
   },
   "source": [
    "We can see here that the target Vector is not balanced. This imbalance will be handled during the preprocessing stage."
   ]
  },
  {
   "cell_type": "markdown",
   "metadata": {
    "id": "RcXyZTt6F6L0"
   },
   "source": [
    "## Visualization of Data Clusters through dimentionality reduction(Principal Component Analysis, PCA)"
   ]
  },
  {
   "cell_type": "markdown",
   "metadata": {
    "id": "uJga8LtmHyi5"
   },
   "source": [
    "This data sets has more than one dimention, which makes it impossible to visualize, therefore the principal component analysis(pca), will be used to reduce the dimentionality of the dataset into two dimentions (clusters), thereby making it possible for visualization."
   ]
  },
  {
   "cell_type": "markdown",
   "metadata": {
    "id": "yWKeo38Zv0Bs"
   },
   "source": [
    "**Assigning Target Vector and Independent Variable**\n",
    "\n"
   ]
  },
  {
   "cell_type": "code",
   "execution_count": 26,
   "metadata": {
    "executionInfo": {
     "elapsed": 3,
     "status": "ok",
     "timestamp": 1649969538597,
     "user": {
      "displayName": "Halima Ladan",
      "userId": "13376351725036595186"
     },
     "user_tz": 240
    },
    "id": "3nJNXdfVv2yG"
   },
   "outputs": [],
   "source": [
    "X = df.drop(columns =\"status\")\n",
    "y = df[\"status\"]\n"
   ]
  },
  {
   "cell_type": "markdown",
   "metadata": {
    "id": "f6W0Y3woGMvS"
   },
   "source": [
    "**Scaling Data in preparation for pca**"
   ]
  },
  {
   "cell_type": "code",
   "execution_count": 27,
   "metadata": {
    "executionInfo": {
     "elapsed": 4,
     "status": "ok",
     "timestamp": 1649969538598,
     "user": {
      "displayName": "Halima Ladan",
      "userId": "13376351725036595186"
     },
     "user_tz": 240
    },
    "id": "vh6r5bkE_Inh"
   },
   "outputs": [],
   "source": [
    "scaler =StandardScaler()\n",
    "scaled_df = scaler.fit_transform(X)"
   ]
  },
  {
   "cell_type": "markdown",
   "metadata": {
    "id": "VN4WA4NeGT53"
   },
   "source": [
    "**Instantiating pca**"
   ]
  },
  {
   "cell_type": "code",
   "execution_count": 28,
   "metadata": {
    "executionInfo": {
     "elapsed": 3,
     "status": "ok",
     "timestamp": 1649969538598,
     "user": {
      "displayName": "Halima Ladan",
      "userId": "13376351725036595186"
     },
     "user_tz": 240
    },
    "id": "cW0ozgMM-BxT"
   },
   "outputs": [],
   "source": [
    "pca = PCA(n_components = 2)\n",
    "pca_df =pca.fit_transform(scaled_df)\n",
    "\n",
    "le =LabelEncoder()\n",
    "z= le.fit_transform(df[\"status\"])"
   ]
  },
  {
   "cell_type": "markdown",
   "metadata": {
    "id": "z1hSpYVsGbEK"
   },
   "source": [
    "**Clusters representing Individuals with and without Parkinson's disease.**"
   ]
  },
  {
   "cell_type": "code",
   "execution_count": 29,
   "metadata": {
    "colab": {
     "base_uri": "https://localhost:8080/",
     "height": 356
    },
    "executionInfo": {
     "elapsed": 277,
     "status": "ok",
     "timestamp": 1649969538872,
     "user": {
      "displayName": "Halima Ladan",
      "userId": "13376351725036595186"
     },
     "user_tz": 240
    },
    "id": "cuGKGyBlBlkF",
    "outputId": "8b30a28b-897f-4f29-d5fd-be8c4f904f27"
   },
   "outputs": [
    {
     "name": "stderr",
     "output_type": "stream",
     "text": [
      "C:\\Users\\heill\\anaconda3\\envs\\dojo-env\\lib\\site-packages\\ipykernel_launcher.py:5: MatplotlibDeprecationWarning: Adding an axes using the same arguments as a previous axes currently reuses the earlier instance.  In a future version, a new instance will always be created and returned.  Meanwhile, this warning can be suppressed, and the future behavior ensured, by passing a unique label to each axes instance.\n",
      "  \"\"\"\n"
     ]
    },
    {
     "data": {
      "image/png": "[encoded data removed]",
      "text/plain": [
       "<Figure size 576x288 with 1 Axes>"
      ]
     },
     "metadata": {},
     "output_type": "display_data"
    }
   ],
   "source": [
    "plt.figure(figsize = (8, 4))\n",
    "#plt.scatter(pcss, c=z)\n",
    "plt.scatter(pca_df[:,0], pca_df[:,1], c = z)\n",
    "\n",
    "ax =plt.axes()\n",
    "ax.set_facecolor (\"grey\")\n",
    "plt.title('Visualization of all of our data using the two Principal Components')\n",
    "plt.xlabel('PC1')\n",
    "plt.ylabel('PC2');"
   ]
  },
  {
   "cell_type": "markdown",
   "metadata": {
    "id": "m5OW9iODFk2s"
   },
   "source": [
    "# Preprocessing of Data"
   ]
  },
  {
   "cell_type": "code",
   "execution_count": 30,
   "metadata": {
    "id": "-PlNsmnlYvHU"
   },
   "outputs": [],
   "source": [
    "#Checking and handling imalanced target\n",
    "#print(f'Status(0)_counts:{df[df[\"status\"]==0].shape[0]}')\n",
    "#print(f'Status(1)_counts:{df[df[\"status\"]==1].shape[0]}')"
   ]
  },
  {
   "cell_type": "code",
   "execution_count": 31,
   "metadata": {},
   "outputs": [],
   "source": [
    "X = df.drop(columns =\"status\")\n",
    "y = df[\"status\"]\n",
    "\n",
    "#smote = Smote()\n",
    "#X,y = smote.fit_resample(X,y)"
   ]
  },
  {
   "cell_type": "markdown",
   "metadata": {
    "id": "CIwS-Ys4Ir0N"
   },
   "source": [
    "### Splitting data into train sets and test sets."
   ]
  },
  {
   "cell_type": "code",
   "execution_count": 32,
   "metadata": {
    "executionInfo": {
     "elapsed": 7,
     "status": "ok",
     "timestamp": 1649969538872,
     "user": {
      "displayName": "Halima Ladan",
      "userId": "13376351725036595186"
     },
     "user_tz": 240
    },
    "id": "DO3Lxm4aFrvs"
   },
   "outputs": [],
   "source": [
    "#Train, test, splitting data.\n",
    "X_train, X_test, y_train, y_test= train_test_split(X,y, random_state = 42, stratify = y)"
   ]
  },
  {
   "cell_type": "markdown",
   "metadata": {
    "id": "yzYuA66swSOI"
   },
   "source": [
    "### Instantiating Column Selector"
   ]
  },
  {
   "cell_type": "code",
   "execution_count": 33,
   "metadata": {
    "executionInfo": {
     "elapsed": 7,
     "status": "ok",
     "timestamp": 1649969538873,
     "user": {
      "displayName": "Halima Ladan",
      "userId": "13376351725036595186"
     },
     "user_tz": 240
    },
    "id": "BdKVBnSIwDb2"
   },
   "outputs": [],
   "source": [
    "#there are onlu numeric columns in this data frame\n",
    "num_cols = make_column_selector(dtype_include=\"number\")"
   ]
  },
  {
   "cell_type": "markdown",
   "metadata": {
    "id": "3P9nV0mvw3s2"
   },
   "source": [
    "### Instantiating Standard scaler"
   ]
  },
  {
   "cell_type": "code",
   "execution_count": 34,
   "metadata": {
    "executionInfo": {
     "elapsed": 7,
     "status": "ok",
     "timestamp": 1649969538873,
     "user": {
      "displayName": "Halima Ladan",
      "userId": "13376351725036595186"
     },
     "user_tz": 240
    },
    "id": "jJBmDjsywMEH"
   },
   "outputs": [],
   "source": [
    "scaler =StandardScaler()\n",
    "\n",
    "num_tuple =(scaler, num_cols)"
   ]
  },
  {
   "cell_type": "markdown",
   "metadata": {
    "id": "2LBKL3FmxEeI"
   },
   "source": [
    "### Instantiating Column transformer"
   ]
  },
  {
   "cell_type": "code",
   "execution_count": 35,
   "metadata": {
    "executionInfo": {
     "elapsed": 7,
     "status": "ok",
     "timestamp": 1649969538874,
     "user": {
      "displayName": "Halima Ladan",
      "userId": "13376351725036595186"
     },
     "user_tz": 240
    },
    "id": "NVBIs_GJxDum"
   },
   "outputs": [],
   "source": [
    "column_transformer = make_column_transformer(num_tuple)"
   ]
  },
  {
   "cell_type": "markdown",
   "metadata": {},
   "source": [
    "### Fitting transformer on train set"
   ]
  },
  {
   "cell_type": "code",
   "execution_count": 36,
   "metadata": {},
   "outputs": [
    {
     "data": {
      "text/html": [
       "<style>#sk-bdab689b-7ebb-497b-9d44-0adc8b2c7956 {color: black;background-color: white;}#sk-bdab689b-7ebb-497b-9d44-0adc8b2c7956 pre{padding: 0;}#sk-bdab689b-7ebb-497b-9d44-0adc8b2c7956 div.sk-toggleable {background-color: white;}#sk-bdab689b-7ebb-497b-9d44-0adc8b2c7956 label.sk-toggleable__label {cursor: pointer;display: block;width: 100%;margin-bottom: 0;padding: 0.3em;box-sizing: border-box;text-align: center;}#sk-bdab689b-7ebb-497b-9d44-0adc8b2c7956 label.sk-toggleable__label-arrow:before {content: \"▸\";float: left;margin-right: 0.25em;color: #696969;}#sk-bdab689b-7ebb-497b-9d44-0adc8b2c7956 label.sk-toggleable__label-arrow:hover:before {color: black;}#sk-bdab689b-7ebb-497b-9d44-0adc8b2c7956 div.sk-estimator:hover label.sk-toggleable__label-arrow:before {color: black;}#sk-bdab689b-7ebb-497b-9d44-0adc8b2c7956 div.sk-toggleable__content {max-height: 0;max-width: 0;overflow: hidden;text-align: left;background-color: #f0f8ff;}#sk-bdab689b-7ebb-497b-9d44-0adc8b2c7956 div.sk-toggleable__content pre {margin: 0.2em;color: black;border-radius: 0.25em;background-color: #f0f8ff;}#sk-bdab689b-7ebb-497b-9d44-0adc8b2c7956 input.sk-toggleable__control:checked~div.sk-toggleable__content {max-height: 200px;max-width: 100%;overflow: auto;}#sk-bdab689b-7ebb-497b-9d44-0adc8b2c7956 input.sk-toggleable__control:checked~label.sk-toggleable__label-arrow:before {content: \"▾\";}#sk-bdab689b-7ebb-497b-9d44-0adc8b2c7956 div.sk-estimator input.sk-toggleable__control:checked~label.sk-toggleable__label {background-color: #d4ebff;}#sk-bdab689b-7ebb-497b-9d44-0adc8b2c7956 div.sk-label input.sk-toggleable__control:checked~label.sk-toggleable__label {background-color: #d4ebff;}#sk-bdab689b-7ebb-497b-9d44-0adc8b2c7956 input.sk-hidden--visually {border: 0;clip: rect(1px 1px 1px 1px);clip: rect(1px, 1px, 1px, 1px);height: 1px;margin: -1px;overflow: hidden;padding: 0;position: absolute;width: 1px;}#sk-bdab689b-7ebb-497b-9d44-0adc8b2c7956 div.sk-estimator {font-family: monospace;background-color: #f0f8ff;border: 1px dotted black;border-radius: 0.25em;box-sizing: border-box;margin-bottom: 0.5em;}#sk-bdab689b-7ebb-497b-9d44-0adc8b2c7956 div.sk-estimator:hover {background-color: #d4ebff;}#sk-bdab689b-7ebb-497b-9d44-0adc8b2c7956 div.sk-parallel-item::after {content: \"\";width: 100%;border-bottom: 1px solid gray;flex-grow: 1;}#sk-bdab689b-7ebb-497b-9d44-0adc8b2c7956 div.sk-label:hover label.sk-toggleable__label {background-color: #d4ebff;}#sk-bdab689b-7ebb-497b-9d44-0adc8b2c7956 div.sk-serial::before {content: \"\";position: absolute;border-left: 1px solid gray;box-sizing: border-box;top: 2em;bottom: 0;left: 50%;}#sk-bdab689b-7ebb-497b-9d44-0adc8b2c7956 div.sk-serial {display: flex;flex-direction: column;align-items: center;background-color: white;padding-right: 0.2em;padding-left: 0.2em;}#sk-bdab689b-7ebb-497b-9d44-0adc8b2c7956 div.sk-item {z-index: 1;}#sk-bdab689b-7ebb-497b-9d44-0adc8b2c7956 div.sk-parallel {display: flex;align-items: stretch;justify-content: center;background-color: white;}#sk-bdab689b-7ebb-497b-9d44-0adc8b2c7956 div.sk-parallel::before {content: \"\";position: absolute;border-left: 1px solid gray;box-sizing: border-box;top: 2em;bottom: 0;left: 50%;}#sk-bdab689b-7ebb-497b-9d44-0adc8b2c7956 div.sk-parallel-item {display: flex;flex-direction: column;position: relative;background-color: white;}#sk-bdab689b-7ebb-497b-9d44-0adc8b2c7956 div.sk-parallel-item:first-child::after {align-self: flex-end;width: 50%;}#sk-bdab689b-7ebb-497b-9d44-0adc8b2c7956 div.sk-parallel-item:last-child::after {align-self: flex-start;width: 50%;}#sk-bdab689b-7ebb-497b-9d44-0adc8b2c7956 div.sk-parallel-item:only-child::after {width: 0;}#sk-bdab689b-7ebb-497b-9d44-0adc8b2c7956 div.sk-dashed-wrapped {border: 1px dashed gray;margin: 0 0.4em 0.5em 0.4em;box-sizing: border-box;padding-bottom: 0.4em;background-color: white;position: relative;}#sk-bdab689b-7ebb-497b-9d44-0adc8b2c7956 div.sk-label label {font-family: monospace;font-weight: bold;background-color: white;display: inline-block;line-height: 1.2em;}#sk-bdab689b-7ebb-497b-9d44-0adc8b2c7956 div.sk-label-container {position: relative;z-index: 2;text-align: center;}#sk-bdab689b-7ebb-497b-9d44-0adc8b2c7956 div.sk-container {/* jupyter's `normalize.less` sets `[hidden] { display: none; }` but bootstrap.min.css set `[hidden] { display: none !important; }` so we also need the `!important` here to be able to override the default hidden behavior on the sphinx rendered scikit-learn.org. See: https://github.com/scikit-learn/scikit-learn/issues/21755 */display: inline-block !important;position: relative;}#sk-bdab689b-7ebb-497b-9d44-0adc8b2c7956 div.sk-text-repr-fallback {display: none;}</style><div id=\"sk-bdab689b-7ebb-497b-9d44-0adc8b2c7956\" class=\"sk-top-container\"><div class=\"sk-text-repr-fallback\"><pre>ColumnTransformer(transformers=[(&#x27;standardscaler&#x27;, StandardScaler(),\n",
       "                                 &lt;sklearn.compose._column_transformer.make_column_selector object at 0x000002407CB85B08&gt;)])</pre><b>Please rerun this cell to show the HTML repr or trust the notebook.</b></div><div class=\"sk-container\" hidden><div class=\"sk-item sk-dashed-wrapped\"><div class=\"sk-label-container\"><div class=\"sk-label sk-toggleable\"><input class=\"sk-toggleable__control sk-hidden--visually\" id=\"d637200b-b2ef-4ffb-9d19-c11633e970d3\" type=\"checkbox\" ><label for=\"d637200b-b2ef-4ffb-9d19-c11633e970d3\" class=\"sk-toggleable__label sk-toggleable__label-arrow\">ColumnTransformer</label><div class=\"sk-toggleable__content\"><pre>ColumnTransformer(transformers=[(&#x27;standardscaler&#x27;, StandardScaler(),\n",
       "                                 &lt;sklearn.compose._column_transformer.make_column_selector object at 0x000002407CB85B08&gt;)])</pre></div></div></div><div class=\"sk-parallel\"><div class=\"sk-parallel-item\"><div class=\"sk-item\"><div class=\"sk-label-container\"><div class=\"sk-label sk-toggleable\"><input class=\"sk-toggleable__control sk-hidden--visually\" id=\"0af7baf3-574d-4153-bb0c-3289438273b2\" type=\"checkbox\" ><label for=\"0af7baf3-574d-4153-bb0c-3289438273b2\" class=\"sk-toggleable__label sk-toggleable__label-arrow\">standardscaler</label><div class=\"sk-toggleable__content\"><pre>&lt;sklearn.compose._column_transformer.make_column_selector object at 0x000002407CB85B08&gt;</pre></div></div></div><div class=\"sk-serial\"><div class=\"sk-item\"><div class=\"sk-estimator sk-toggleable\"><input class=\"sk-toggleable__control sk-hidden--visually\" id=\"707cfb64-d56f-42e0-9d91-0e5fb7af3b10\" type=\"checkbox\" ><label for=\"707cfb64-d56f-42e0-9d91-0e5fb7af3b10\" class=\"sk-toggleable__label sk-toggleable__label-arrow\">StandardScaler</label><div class=\"sk-toggleable__content\"><pre>StandardScaler()</pre></div></div></div></div></div></div></div></div></div></div>"
      ],
      "text/plain": [
       "ColumnTransformer(transformers=[('standardscaler', StandardScaler(),\n",
       "                                 <sklearn.compose._column_transformer.make_column_selector object at 0x000002407CB85B08>)])"
      ]
     },
     "execution_count": 36,
     "metadata": {},
     "output_type": "execute_result"
    }
   ],
   "source": [
    "#fit on the train set\n",
    "column_transformer.fit(X_train)"
   ]
  },
  {
   "cell_type": "markdown",
   "metadata": {},
   "source": [
    "### Transforming data"
   ]
  },
  {
   "cell_type": "code",
   "execution_count": 37,
   "metadata": {},
   "outputs": [],
   "source": [
    "X_train_processed = column_transformer.transform(X_train)\n",
    "X_test_processed = column_transformer.transform(X_test)"
   ]
  },
  {
   "cell_type": "markdown",
   "metadata": {},
   "source": [
    "### Inspecting transformed data"
   ]
  },
  {
   "cell_type": "code",
   "execution_count": 38,
   "metadata": {},
   "outputs": [],
   "source": [
    "X_test_df  = pd.DataFrame(X_test_processed)\n",
    "X_train_df = pd.DataFrame(X_train_processed)"
   ]
  },
  {
   "cell_type": "markdown",
   "metadata": {},
   "source": [
    "#### Training Set"
   ]
  },
  {
   "cell_type": "code",
   "execution_count": 39,
   "metadata": {},
   "outputs": [
    {
     "data": {
      "text/html": [
       "<div>\n",
       "<style scoped>\n",
       "    .dataframe tbody tr th:only-of-type {\n",
       "        vertical-align: middle;\n",
       "    }\n",
       "\n",
       "    .dataframe tbody tr th {\n",
       "        vertical-align: top;\n",
       "    }\n",
       "\n",
       "    .dataframe thead th {\n",
       "        text-align: right;\n",
       "    }\n",
       "</style>\n",
       "<table border=\"1\" class=\"dataframe\">\n",
       "  <thead>\n",
       "    <tr style=\"text-align: right;\">\n",
       "      <th></th>\n",
       "      <th>0</th>\n",
       "      <th>1</th>\n",
       "      <th>2</th>\n",
       "      <th>3</th>\n",
       "      <th>4</th>\n",
       "      <th>5</th>\n",
       "      <th>6</th>\n",
       "      <th>7</th>\n",
       "      <th>8</th>\n",
       "      <th>9</th>\n",
       "      <th>...</th>\n",
       "      <th>12</th>\n",
       "      <th>13</th>\n",
       "      <th>14</th>\n",
       "      <th>15</th>\n",
       "      <th>16</th>\n",
       "      <th>17</th>\n",
       "      <th>18</th>\n",
       "      <th>19</th>\n",
       "      <th>20</th>\n",
       "      <th>21</th>\n",
       "    </tr>\n",
       "  </thead>\n",
       "  <tbody>\n",
       "    <tr>\n",
       "      <th>count</th>\n",
       "      <td>146.00</td>\n",
       "      <td>146.00</td>\n",
       "      <td>146.00</td>\n",
       "      <td>146.00</td>\n",
       "      <td>146.00</td>\n",
       "      <td>146.00</td>\n",
       "      <td>146.00</td>\n",
       "      <td>146.00</td>\n",
       "      <td>146.00</td>\n",
       "      <td>146.00</td>\n",
       "      <td>...</td>\n",
       "      <td>146.00</td>\n",
       "      <td>146.00</td>\n",
       "      <td>146.00</td>\n",
       "      <td>146.00</td>\n",
       "      <td>146.00</td>\n",
       "      <td>146.00</td>\n",
       "      <td>146.00</td>\n",
       "      <td>146.00</td>\n",
       "      <td>146.00</td>\n",
       "      <td>146.00</td>\n",
       "    </tr>\n",
       "    <tr>\n",
       "      <th>mean</th>\n",
       "      <td>0.00</td>\n",
       "      <td>0.00</td>\n",
       "      <td>-0.00</td>\n",
       "      <td>0.00</td>\n",
       "      <td>-0.00</td>\n",
       "      <td>-0.00</td>\n",
       "      <td>-0.00</td>\n",
       "      <td>-0.00</td>\n",
       "      <td>-0.00</td>\n",
       "      <td>0.00</td>\n",
       "      <td>...</td>\n",
       "      <td>-0.00</td>\n",
       "      <td>0.00</td>\n",
       "      <td>-0.00</td>\n",
       "      <td>0.00</td>\n",
       "      <td>0.00</td>\n",
       "      <td>0.00</td>\n",
       "      <td>-0.00</td>\n",
       "      <td>-0.00</td>\n",
       "      <td>0.00</td>\n",
       "      <td>-0.00</td>\n",
       "    </tr>\n",
       "    <tr>\n",
       "      <th>std</th>\n",
       "      <td>1.00</td>\n",
       "      <td>1.00</td>\n",
       "      <td>1.00</td>\n",
       "      <td>1.00</td>\n",
       "      <td>1.00</td>\n",
       "      <td>1.00</td>\n",
       "      <td>1.00</td>\n",
       "      <td>1.00</td>\n",
       "      <td>1.00</td>\n",
       "      <td>1.00</td>\n",
       "      <td>...</td>\n",
       "      <td>1.00</td>\n",
       "      <td>1.00</td>\n",
       "      <td>1.00</td>\n",
       "      <td>1.00</td>\n",
       "      <td>1.00</td>\n",
       "      <td>1.00</td>\n",
       "      <td>1.00</td>\n",
       "      <td>1.00</td>\n",
       "      <td>1.00</td>\n",
       "      <td>1.00</td>\n",
       "    </tr>\n",
       "    <tr>\n",
       "      <th>min</th>\n",
       "      <td>-1.59</td>\n",
       "      <td>-1.04</td>\n",
       "      <td>-1.18</td>\n",
       "      <td>-0.91</td>\n",
       "      <td>-1.05</td>\n",
       "      <td>-0.85</td>\n",
       "      <td>-0.89</td>\n",
       "      <td>-0.85</td>\n",
       "      <td>-1.07</td>\n",
       "      <td>-1.01</td>\n",
       "      <td>...</td>\n",
       "      <td>-0.99</td>\n",
       "      <td>-1.09</td>\n",
       "      <td>-0.59</td>\n",
       "      <td>-2.82</td>\n",
       "      <td>-2.38</td>\n",
       "      <td>-2.64</td>\n",
       "      <td>-2.11</td>\n",
       "      <td>-2.65</td>\n",
       "      <td>-2.39</td>\n",
       "      <td>-1.81</td>\n",
       "    </tr>\n",
       "    <tr>\n",
       "      <th>25%</th>\n",
       "      <td>-0.88</td>\n",
       "      <td>-0.68</td>\n",
       "      <td>-0.73</td>\n",
       "      <td>-0.56</td>\n",
       "      <td>-0.63</td>\n",
       "      <td>-0.54</td>\n",
       "      <td>-0.56</td>\n",
       "      <td>-0.54</td>\n",
       "      <td>-0.72</td>\n",
       "      <td>-0.69</td>\n",
       "      <td>...</td>\n",
       "      <td>-0.66</td>\n",
       "      <td>-0.76</td>\n",
       "      <td>-0.47</td>\n",
       "      <td>-0.55</td>\n",
       "      <td>-0.79</td>\n",
       "      <td>-0.79</td>\n",
       "      <td>-0.71</td>\n",
       "      <td>-0.66</td>\n",
       "      <td>-0.73</td>\n",
       "      <td>-0.78</td>\n",
       "    </tr>\n",
       "    <tr>\n",
       "      <th>50%</th>\n",
       "      <td>-0.12</td>\n",
       "      <td>-0.24</td>\n",
       "      <td>-0.29</td>\n",
       "      <td>-0.29</td>\n",
       "      <td>-0.16</td>\n",
       "      <td>-0.30</td>\n",
       "      <td>-0.30</td>\n",
       "      <td>-0.30</td>\n",
       "      <td>-0.36</td>\n",
       "      <td>-0.35</td>\n",
       "      <td>...</td>\n",
       "      <td>-0.35</td>\n",
       "      <td>-0.28</td>\n",
       "      <td>-0.33</td>\n",
       "      <td>0.04</td>\n",
       "      <td>-0.03</td>\n",
       "      <td>0.07</td>\n",
       "      <td>0.00</td>\n",
       "      <td>-0.11</td>\n",
       "      <td>-0.08</td>\n",
       "      <td>-0.05</td>\n",
       "    </tr>\n",
       "    <tr>\n",
       "      <th>75%</th>\n",
       "      <td>0.65</td>\n",
       "      <td>0.26</td>\n",
       "      <td>0.46</td>\n",
       "      <td>0.17</td>\n",
       "      <td>0.38</td>\n",
       "      <td>0.12</td>\n",
       "      <td>0.17</td>\n",
       "      <td>0.12</td>\n",
       "      <td>0.47</td>\n",
       "      <td>0.37</td>\n",
       "      <td>...</td>\n",
       "      <td>0.34</td>\n",
       "      <td>0.47</td>\n",
       "      <td>-0.05</td>\n",
       "      <td>0.73</td>\n",
       "      <td>0.89</td>\n",
       "      <td>0.76</td>\n",
       "      <td>0.61</td>\n",
       "      <td>0.65</td>\n",
       "      <td>0.64</td>\n",
       "      <td>0.55</td>\n",
       "    </tr>\n",
       "    <tr>\n",
       "      <th>max</th>\n",
       "      <td>2.65</td>\n",
       "      <td>4.48</td>\n",
       "      <td>2.93</td>\n",
       "      <td>5.03</td>\n",
       "      <td>5.77</td>\n",
       "      <td>5.52</td>\n",
       "      <td>5.31</td>\n",
       "      <td>5.52</td>\n",
       "      <td>4.34</td>\n",
       "      <td>4.76</td>\n",
       "      <td>...</td>\n",
       "      <td>6.06</td>\n",
       "      <td>3.68</td>\n",
       "      <td>6.45</td>\n",
       "      <td>2.43</td>\n",
       "      <td>1.77</td>\n",
       "      <td>1.89</td>\n",
       "      <td>2.98</td>\n",
       "      <td>2.81</td>\n",
       "      <td>3.13</td>\n",
       "      <td>3.46</td>\n",
       "    </tr>\n",
       "  </tbody>\n",
       "</table>\n",
       "<p>8 rows × 22 columns</p>\n",
       "</div>"
      ],
      "text/plain": [
       "           0       1       2       3       4       5       6       7       8   \\\n",
       "count  146.00  146.00  146.00  146.00  146.00  146.00  146.00  146.00  146.00   \n",
       "mean     0.00    0.00   -0.00    0.00   -0.00   -0.00   -0.00   -0.00   -0.00   \n",
       "std      1.00    1.00    1.00    1.00    1.00    1.00    1.00    1.00    1.00   \n",
       "min     -1.59   -1.04   -1.18   -0.91   -1.05   -0.85   -0.89   -0.85   -1.07   \n",
       "25%     -0.88   -0.68   -0.73   -0.56   -0.63   -0.54   -0.56   -0.54   -0.72   \n",
       "50%     -0.12   -0.24   -0.29   -0.29   -0.16   -0.30   -0.30   -0.30   -0.36   \n",
       "75%      0.65    0.26    0.46    0.17    0.38    0.12    0.17    0.12    0.47   \n",
       "max      2.65    4.48    2.93    5.03    5.77    5.52    5.31    5.52    4.34   \n",
       "\n",
       "           9   ...      12      13      14      15      16      17      18  \\\n",
       "count  146.00  ...  146.00  146.00  146.00  146.00  146.00  146.00  146.00   \n",
       "mean     0.00  ...   -0.00    0.00   -0.00    0.00    0.00    0.00   -0.00   \n",
       "std      1.00  ...    1.00    1.00    1.00    1.00    1.00    1.00    1.00   \n",
       "min     -1.01  ...   -0.99   -1.09   -0.59   -2.82   -2.38   -2.64   -2.11   \n",
       "25%     -0.69  ...   -0.66   -0.76   -0.47   -0.55   -0.79   -0.79   -0.71   \n",
       "50%     -0.35  ...   -0.35   -0.28   -0.33    0.04   -0.03    0.07    0.00   \n",
       "75%      0.37  ...    0.34    0.47   -0.05    0.73    0.89    0.76    0.61   \n",
       "max      4.76  ...    6.06    3.68    6.45    2.43    1.77    1.89    2.98   \n",
       "\n",
       "           19      20      21  \n",
       "count  146.00  146.00  146.00  \n",
       "mean    -0.00    0.00   -0.00  \n",
       "std      1.00    1.00    1.00  \n",
       "min     -2.65   -2.39   -1.81  \n",
       "25%     -0.66   -0.73   -0.78  \n",
       "50%     -0.11   -0.08   -0.05  \n",
       "75%      0.65    0.64    0.55  \n",
       "max      2.81    3.13    3.46  \n",
       "\n",
       "[8 rows x 22 columns]"
      ]
     },
     "execution_count": 39,
     "metadata": {},
     "output_type": "execute_result"
    }
   ],
   "source": [
    "X_train_df.describe().round(2)"
   ]
  },
  {
   "cell_type": "markdown",
   "metadata": {},
   "source": [
    "#### Testing Set"
   ]
  },
  {
   "cell_type": "code",
   "execution_count": 40,
   "metadata": {},
   "outputs": [
    {
     "data": {
      "text/html": [
       "<div>\n",
       "<style scoped>\n",
       "    .dataframe tbody tr th:only-of-type {\n",
       "        vertical-align: middle;\n",
       "    }\n",
       "\n",
       "    .dataframe tbody tr th {\n",
       "        vertical-align: top;\n",
       "    }\n",
       "\n",
       "    .dataframe thead th {\n",
       "        text-align: right;\n",
       "    }\n",
       "</style>\n",
       "<table border=\"1\" class=\"dataframe\">\n",
       "  <thead>\n",
       "    <tr style=\"text-align: right;\">\n",
       "      <th></th>\n",
       "      <th>0</th>\n",
       "      <th>1</th>\n",
       "      <th>2</th>\n",
       "      <th>3</th>\n",
       "      <th>4</th>\n",
       "      <th>5</th>\n",
       "      <th>6</th>\n",
       "      <th>7</th>\n",
       "      <th>8</th>\n",
       "      <th>9</th>\n",
       "      <th>...</th>\n",
       "      <th>12</th>\n",
       "      <th>13</th>\n",
       "      <th>14</th>\n",
       "      <th>15</th>\n",
       "      <th>16</th>\n",
       "      <th>17</th>\n",
       "      <th>18</th>\n",
       "      <th>19</th>\n",
       "      <th>20</th>\n",
       "      <th>21</th>\n",
       "    </tr>\n",
       "  </thead>\n",
       "  <tbody>\n",
       "    <tr>\n",
       "      <th>count</th>\n",
       "      <td>49.00</td>\n",
       "      <td>49.00</td>\n",
       "      <td>49.00</td>\n",
       "      <td>49.00</td>\n",
       "      <td>49.00</td>\n",
       "      <td>49.00</td>\n",
       "      <td>49.00</td>\n",
       "      <td>49.00</td>\n",
       "      <td>49.00</td>\n",
       "      <td>49.00</td>\n",
       "      <td>...</td>\n",
       "      <td>49.00</td>\n",
       "      <td>49.00</td>\n",
       "      <td>49.00</td>\n",
       "      <td>49.00</td>\n",
       "      <td>49.00</td>\n",
       "      <td>49.00</td>\n",
       "      <td>49.00</td>\n",
       "      <td>49.00</td>\n",
       "      <td>49.00</td>\n",
       "      <td>49.00</td>\n",
       "    </tr>\n",
       "    <tr>\n",
       "      <th>mean</th>\n",
       "      <td>0.14</td>\n",
       "      <td>0.13</td>\n",
       "      <td>0.09</td>\n",
       "      <td>-0.21</td>\n",
       "      <td>-0.20</td>\n",
       "      <td>-0.19</td>\n",
       "      <td>-0.21</td>\n",
       "      <td>-0.19</td>\n",
       "      <td>-0.29</td>\n",
       "      <td>-0.30</td>\n",
       "      <td>...</td>\n",
       "      <td>-0.32</td>\n",
       "      <td>-0.28</td>\n",
       "      <td>-0.19</td>\n",
       "      <td>0.19</td>\n",
       "      <td>-0.14</td>\n",
       "      <td>-0.18</td>\n",
       "      <td>-0.04</td>\n",
       "      <td>-0.08</td>\n",
       "      <td>-0.14</td>\n",
       "      <td>-0.16</td>\n",
       "    </tr>\n",
       "    <tr>\n",
       "      <th>std</th>\n",
       "      <td>1.08</td>\n",
       "      <td>1.11</td>\n",
       "      <td>1.12</td>\n",
       "      <td>0.56</td>\n",
       "      <td>0.69</td>\n",
       "      <td>0.53</td>\n",
       "      <td>0.57</td>\n",
       "      <td>0.53</td>\n",
       "      <td>0.63</td>\n",
       "      <td>0.59</td>\n",
       "      <td>...</td>\n",
       "      <td>0.52</td>\n",
       "      <td>0.65</td>\n",
       "      <td>0.50</td>\n",
       "      <td>0.73</td>\n",
       "      <td>1.02</td>\n",
       "      <td>0.98</td>\n",
       "      <td>1.01</td>\n",
       "      <td>1.21</td>\n",
       "      <td>0.71</td>\n",
       "      <td>0.92</td>\n",
       "    </tr>\n",
       "    <tr>\n",
       "      <th>min</th>\n",
       "      <td>-1.41</td>\n",
       "      <td>-1.03</td>\n",
       "      <td>-1.18</td>\n",
       "      <td>-0.88</td>\n",
       "      <td>-0.99</td>\n",
       "      <td>-0.83</td>\n",
       "      <td>-0.87</td>\n",
       "      <td>-0.83</td>\n",
       "      <td>-1.04</td>\n",
       "      <td>-0.99</td>\n",
       "      <td>...</td>\n",
       "      <td>-0.91</td>\n",
       "      <td>-1.08</td>\n",
       "      <td>-0.55</td>\n",
       "      <td>-1.41</td>\n",
       "      <td>-2.31</td>\n",
       "      <td>-2.08</td>\n",
       "      <td>-1.68</td>\n",
       "      <td>-2.81</td>\n",
       "      <td>-1.52</td>\n",
       "      <td>-1.49</td>\n",
       "    </tr>\n",
       "    <tr>\n",
       "      <th>25%</th>\n",
       "      <td>-0.81</td>\n",
       "      <td>-0.57</td>\n",
       "      <td>-0.79</td>\n",
       "      <td>-0.64</td>\n",
       "      <td>-0.70</td>\n",
       "      <td>-0.60</td>\n",
       "      <td>-0.59</td>\n",
       "      <td>-0.60</td>\n",
       "      <td>-0.73</td>\n",
       "      <td>-0.71</td>\n",
       "      <td>...</td>\n",
       "      <td>-0.70</td>\n",
       "      <td>-0.75</td>\n",
       "      <td>-0.47</td>\n",
       "      <td>-0.27</td>\n",
       "      <td>-0.70</td>\n",
       "      <td>-1.01</td>\n",
       "      <td>-0.85</td>\n",
       "      <td>-0.88</td>\n",
       "      <td>-0.71</td>\n",
       "      <td>-0.87</td>\n",
       "    </tr>\n",
       "    <tr>\n",
       "      <th>50%</th>\n",
       "      <td>-0.02</td>\n",
       "      <td>-0.19</td>\n",
       "      <td>-0.20</td>\n",
       "      <td>-0.35</td>\n",
       "      <td>-0.43</td>\n",
       "      <td>-0.37</td>\n",
       "      <td>-0.34</td>\n",
       "      <td>-0.37</td>\n",
       "      <td>-0.46</td>\n",
       "      <td>-0.46</td>\n",
       "      <td>...</td>\n",
       "      <td>-0.47</td>\n",
       "      <td>-0.41</td>\n",
       "      <td>-0.40</td>\n",
       "      <td>0.34</td>\n",
       "      <td>-0.26</td>\n",
       "      <td>-0.15</td>\n",
       "      <td>-0.14</td>\n",
       "      <td>-0.20</td>\n",
       "      <td>-0.13</td>\n",
       "      <td>-0.35</td>\n",
       "    </tr>\n",
       "    <tr>\n",
       "      <th>75%</th>\n",
       "      <td>0.86</td>\n",
       "      <td>0.43</td>\n",
       "      <td>0.61</td>\n",
       "      <td>0.06</td>\n",
       "      <td>0.11</td>\n",
       "      <td>0.08</td>\n",
       "      <td>-0.03</td>\n",
       "      <td>0.07</td>\n",
       "      <td>-0.02</td>\n",
       "      <td>-0.10</td>\n",
       "      <td>...</td>\n",
       "      <td>-0.08</td>\n",
       "      <td>-0.06</td>\n",
       "      <td>-0.01</td>\n",
       "      <td>0.72</td>\n",
       "      <td>0.79</td>\n",
       "      <td>0.68</td>\n",
       "      <td>0.38</td>\n",
       "      <td>0.57</td>\n",
       "      <td>0.30</td>\n",
       "      <td>0.24</td>\n",
       "    </tr>\n",
       "    <tr>\n",
       "      <th>max</th>\n",
       "      <td>2.29</td>\n",
       "      <td>4.44</td>\n",
       "      <td>2.78</td>\n",
       "      <td>1.70</td>\n",
       "      <td>2.00</td>\n",
       "      <td>1.71</td>\n",
       "      <td>1.82</td>\n",
       "      <td>1.72</td>\n",
       "      <td>1.51</td>\n",
       "      <td>1.56</td>\n",
       "      <td>...</td>\n",
       "      <td>1.42</td>\n",
       "      <td>1.45</td>\n",
       "      <td>2.05</td>\n",
       "      <td>1.44</td>\n",
       "      <td>1.64</td>\n",
       "      <td>1.78</td>\n",
       "      <td>2.53</td>\n",
       "      <td>2.61</td>\n",
       "      <td>1.72</td>\n",
       "      <td>2.41</td>\n",
       "    </tr>\n",
       "  </tbody>\n",
       "</table>\n",
       "<p>8 rows × 22 columns</p>\n",
       "</div>"
      ],
      "text/plain": [
       "          0      1      2      3      4      5      6      7      8      9   \\\n",
       "count  49.00  49.00  49.00  49.00  49.00  49.00  49.00  49.00  49.00  49.00   \n",
       "mean    0.14   0.13   0.09  -0.21  -0.20  -0.19  -0.21  -0.19  -0.29  -0.30   \n",
       "std     1.08   1.11   1.12   0.56   0.69   0.53   0.57   0.53   0.63   0.59   \n",
       "min    -1.41  -1.03  -1.18  -0.88  -0.99  -0.83  -0.87  -0.83  -1.04  -0.99   \n",
       "25%    -0.81  -0.57  -0.79  -0.64  -0.70  -0.60  -0.59  -0.60  -0.73  -0.71   \n",
       "50%    -0.02  -0.19  -0.20  -0.35  -0.43  -0.37  -0.34  -0.37  -0.46  -0.46   \n",
       "75%     0.86   0.43   0.61   0.06   0.11   0.08  -0.03   0.07  -0.02  -0.10   \n",
       "max     2.29   4.44   2.78   1.70   2.00   1.71   1.82   1.72   1.51   1.56   \n",
       "\n",
       "       ...     12     13     14     15     16     17     18     19     20  \\\n",
       "count  ...  49.00  49.00  49.00  49.00  49.00  49.00  49.00  49.00  49.00   \n",
       "mean   ...  -0.32  -0.28  -0.19   0.19  -0.14  -0.18  -0.04  -0.08  -0.14   \n",
       "std    ...   0.52   0.65   0.50   0.73   1.02   0.98   1.01   1.21   0.71   \n",
       "min    ...  -0.91  -1.08  -0.55  -1.41  -2.31  -2.08  -1.68  -2.81  -1.52   \n",
       "25%    ...  -0.70  -0.75  -0.47  -0.27  -0.70  -1.01  -0.85  -0.88  -0.71   \n",
       "50%    ...  -0.47  -0.41  -0.40   0.34  -0.26  -0.15  -0.14  -0.20  -0.13   \n",
       "75%    ...  -0.08  -0.06  -0.01   0.72   0.79   0.68   0.38   0.57   0.30   \n",
       "max    ...   1.42   1.45   2.05   1.44   1.64   1.78   2.53   2.61   1.72   \n",
       "\n",
       "          21  \n",
       "count  49.00  \n",
       "mean   -0.16  \n",
       "std     0.92  \n",
       "min    -1.49  \n",
       "25%    -0.87  \n",
       "50%    -0.35  \n",
       "75%     0.24  \n",
       "max     2.41  \n",
       "\n",
       "[8 rows x 22 columns]"
      ]
     },
     "execution_count": 40,
     "metadata": {},
     "output_type": "execute_result"
    }
   ],
   "source": [
    "X_test_df.describe().round(2)"
   ]
  },
  {
   "cell_type": "markdown",
   "metadata": {},
   "source": [
    "## Building of models"
   ]
  },
  {
   "cell_type": "markdown",
   "metadata": {
    "id": "Z3YsdU4cxPpe"
   },
   "source": [
    "### KNN Model"
   ]
  },
  {
   "cell_type": "markdown",
   "metadata": {},
   "source": [
    "#### Instantiating model"
   ]
  },
  {
   "cell_type": "code",
   "execution_count": 41,
   "metadata": {
    "executionInfo": {
     "elapsed": 7,
     "status": "ok",
     "timestamp": 1649969538874,
     "user": {
      "displayName": "Halima Ladan",
      "userId": "13376351725036595186"
     },
     "user_tz": 240
    },
    "id": "zUY8444WxVa-"
   },
   "outputs": [],
   "source": [
    "#Instantiating model\n",
    "knn =KNeighborsClassifier()"
   ]
  },
  {
   "cell_type": "code",
   "execution_count": 42,
   "metadata": {
    "colab": {
     "base_uri": "https://localhost:8080/",
     "height": 252
    },
    "executionInfo": {
     "elapsed": 10,
     "status": "ok",
     "timestamp": 1649969539038,
     "user": {
      "displayName": "Halima Ladan",
      "userId": "13376351725036595186"
     },
     "user_tz": 240
    },
    "id": "f6N3Ix5dxj6S",
    "outputId": "2fc27aa4-b4d7-4c2a-fa03-fa28fcdab104"
   },
   "outputs": [
    {
     "data": {
      "text/html": [
       "<style>#sk-e31ce282-87df-42ea-93be-b01db5ad304f {color: black;background-color: white;}#sk-e31ce282-87df-42ea-93be-b01db5ad304f pre{padding: 0;}#sk-e31ce282-87df-42ea-93be-b01db5ad304f div.sk-toggleable {background-color: white;}#sk-e31ce282-87df-42ea-93be-b01db5ad304f label.sk-toggleable__label {cursor: pointer;display: block;width: 100%;margin-bottom: 0;padding: 0.3em;box-sizing: border-box;text-align: center;}#sk-e31ce282-87df-42ea-93be-b01db5ad304f label.sk-toggleable__label-arrow:before {content: \"▸\";float: left;margin-right: 0.25em;color: #696969;}#sk-e31ce282-87df-42ea-93be-b01db5ad304f label.sk-toggleable__label-arrow:hover:before {color: black;}#sk-e31ce282-87df-42ea-93be-b01db5ad304f div.sk-estimator:hover label.sk-toggleable__label-arrow:before {color: black;}#sk-e31ce282-87df-42ea-93be-b01db5ad304f div.sk-toggleable__content {max-height: 0;max-width: 0;overflow: hidden;text-align: left;background-color: #f0f8ff;}#sk-e31ce282-87df-42ea-93be-b01db5ad304f div.sk-toggleable__content pre {margin: 0.2em;color: black;border-radius: 0.25em;background-color: #f0f8ff;}#sk-e31ce282-87df-42ea-93be-b01db5ad304f input.sk-toggleable__control:checked~div.sk-toggleable__content {max-height: 200px;max-width: 100%;overflow: auto;}#sk-e31ce282-87df-42ea-93be-b01db5ad304f input.sk-toggleable__control:checked~label.sk-toggleable__label-arrow:before {content: \"▾\";}#sk-e31ce282-87df-42ea-93be-b01db5ad304f div.sk-estimator input.sk-toggleable__control:checked~label.sk-toggleable__label {background-color: #d4ebff;}#sk-e31ce282-87df-42ea-93be-b01db5ad304f div.sk-label input.sk-toggleable__control:checked~label.sk-toggleable__label {background-color: #d4ebff;}#sk-e31ce282-87df-42ea-93be-b01db5ad304f input.sk-hidden--visually {border: 0;clip: rect(1px 1px 1px 1px);clip: rect(1px, 1px, 1px, 1px);height: 1px;margin: -1px;overflow: hidden;padding: 0;position: absolute;width: 1px;}#sk-e31ce282-87df-42ea-93be-b01db5ad304f div.sk-estimator {font-family: monospace;background-color: #f0f8ff;border: 1px dotted black;border-radius: 0.25em;box-sizing: border-box;margin-bottom: 0.5em;}#sk-e31ce282-87df-42ea-93be-b01db5ad304f div.sk-estimator:hover {background-color: #d4ebff;}#sk-e31ce282-87df-42ea-93be-b01db5ad304f div.sk-parallel-item::after {content: \"\";width: 100%;border-bottom: 1px solid gray;flex-grow: 1;}#sk-e31ce282-87df-42ea-93be-b01db5ad304f div.sk-label:hover label.sk-toggleable__label {background-color: #d4ebff;}#sk-e31ce282-87df-42ea-93be-b01db5ad304f div.sk-serial::before {content: \"\";position: absolute;border-left: 1px solid gray;box-sizing: border-box;top: 2em;bottom: 0;left: 50%;}#sk-e31ce282-87df-42ea-93be-b01db5ad304f div.sk-serial {display: flex;flex-direction: column;align-items: center;background-color: white;padding-right: 0.2em;padding-left: 0.2em;}#sk-e31ce282-87df-42ea-93be-b01db5ad304f div.sk-item {z-index: 1;}#sk-e31ce282-87df-42ea-93be-b01db5ad304f div.sk-parallel {display: flex;align-items: stretch;justify-content: center;background-color: white;}#sk-e31ce282-87df-42ea-93be-b01db5ad304f div.sk-parallel::before {content: \"\";position: absolute;border-left: 1px solid gray;box-sizing: border-box;top: 2em;bottom: 0;left: 50%;}#sk-e31ce282-87df-42ea-93be-b01db5ad304f div.sk-parallel-item {display: flex;flex-direction: column;position: relative;background-color: white;}#sk-e31ce282-87df-42ea-93be-b01db5ad304f div.sk-parallel-item:first-child::after {align-self: flex-end;width: 50%;}#sk-e31ce282-87df-42ea-93be-b01db5ad304f div.sk-parallel-item:last-child::after {align-self: flex-start;width: 50%;}#sk-e31ce282-87df-42ea-93be-b01db5ad304f div.sk-parallel-item:only-child::after {width: 0;}#sk-e31ce282-87df-42ea-93be-b01db5ad304f div.sk-dashed-wrapped {border: 1px dashed gray;margin: 0 0.4em 0.5em 0.4em;box-sizing: border-box;padding-bottom: 0.4em;background-color: white;position: relative;}#sk-e31ce282-87df-42ea-93be-b01db5ad304f div.sk-label label {font-family: monospace;font-weight: bold;background-color: white;display: inline-block;line-height: 1.2em;}#sk-e31ce282-87df-42ea-93be-b01db5ad304f div.sk-label-container {position: relative;z-index: 2;text-align: center;}#sk-e31ce282-87df-42ea-93be-b01db5ad304f div.sk-container {/* jupyter's `normalize.less` sets `[hidden] { display: none; }` but bootstrap.min.css set `[hidden] { display: none !important; }` so we also need the `!important` here to be able to override the default hidden behavior on the sphinx rendered scikit-learn.org. See: https://github.com/scikit-learn/scikit-learn/issues/21755 */display: inline-block !important;position: relative;}#sk-e31ce282-87df-42ea-93be-b01db5ad304f div.sk-text-repr-fallback {display: none;}</style><div id=\"sk-e31ce282-87df-42ea-93be-b01db5ad304f\" class=\"sk-top-container\"><div class=\"sk-text-repr-fallback\"><pre>KNeighborsClassifier()</pre><b>Please rerun this cell to show the HTML repr or trust the notebook.</b></div><div class=\"sk-container\" hidden><div class=\"sk-item\"><div class=\"sk-estimator sk-toggleable\"><input class=\"sk-toggleable__control sk-hidden--visually\" id=\"00088875-3ddf-4819-921c-b1b891381f33\" type=\"checkbox\" checked><label for=\"00088875-3ddf-4819-921c-b1b891381f33\" class=\"sk-toggleable__label sk-toggleable__label-arrow\">KNeighborsClassifier</label><div class=\"sk-toggleable__content\"><pre>KNeighborsClassifier()</pre></div></div></div></div></div>"
      ],
      "text/plain": [
       "KNeighborsClassifier()"
      ]
     },
     "execution_count": 42,
     "metadata": {},
     "output_type": "execute_result"
    }
   ],
   "source": [
    "#Fitting of model on processed data\n",
    "knn.fit(X_train_processed, y_train)"
   ]
  },
  {
   "cell_type": "markdown",
   "metadata": {
    "id": "vKgjD1FUyA_V"
   },
   "source": [
    "#### Tuning for the best parameters"
   ]
  },
  {
   "cell_type": "code",
   "execution_count": 43,
   "metadata": {
    "colab": {
     "base_uri": "https://localhost:8080/"
    },
    "executionInfo": {
     "elapsed": 8,
     "status": "ok",
     "timestamp": 1649969539038,
     "user": {
      "displayName": "Halima Ladan",
      "userId": "13376351725036595186"
     },
     "user_tz": 240
    },
    "id": "ooCsCbqlyExU",
    "outputId": "a8f032ed-5a14-478b-f130-9fc1f4d2e6a1"
   },
   "outputs": [
    {
     "data": {
      "text/plain": [
       "{'algorithm': 'auto',\n",
       " 'leaf_size': 30,\n",
       " 'metric': 'minkowski',\n",
       " 'metric_params': None,\n",
       " 'n_jobs': None,\n",
       " 'n_neighbors': 5,\n",
       " 'p': 2,\n",
       " 'weights': 'uniform'}"
      ]
     },
     "execution_count": 43,
     "metadata": {},
     "output_type": "execute_result"
    }
   ],
   "source": [
    "knn.get_params()"
   ]
  },
  {
   "cell_type": "code",
   "execution_count": 44,
   "metadata": {
    "colab": {
     "base_uri": "https://localhost:8080/"
    },
    "executionInfo": {
     "elapsed": 8,
     "status": "ok",
     "timestamp": 1649969539038,
     "user": {
      "displayName": "Halima Ladan",
      "userId": "13376351725036595186"
     },
     "user_tz": 240
    },
    "id": "ooCsCbqlyExU",
    "outputId": "a8f032ed-5a14-478b-f130-9fc1f4d2e6a1"
   },
   "outputs": [],
   "source": [
    "knn_parameters =  { 'n_neighbors': [5,7,8,9,10,11,12,13,14], \n",
    "                    'leaf_size': [2, 3, 4, 5,10,15,20,25,30],\n",
    "                    'p':[2,3,4],\n",
    "                    'weights':['distance', 'uniform']}"
   ]
  },
  {
   "cell_type": "markdown",
   "metadata": {
    "id": "FcwS8tBeyiTX"
   },
   "source": [
    "#### Instantiating the Gridsearch \n",
    "\n"
   ]
  },
  {
   "cell_type": "code",
   "execution_count": 45,
   "metadata": {
    "colab": {
     "base_uri": "https://localhost:8080/",
     "height": 254
    },
    "executionInfo": {
     "elapsed": 2132,
     "status": "ok",
     "timestamp": 1649969541166,
     "user": {
      "displayName": "Halima Ladan",
      "userId": "13376351725036595186"
     },
     "user_tz": 240
    },
    "id": "ekUfcK4bynW6",
    "outputId": "1e74522b-d8e1-4d66-87bb-81831e5bcf6c"
   },
   "outputs": [
    {
     "data": {
      "text/html": [
       "<style>#sk-768b5876-a6a4-4b5f-82ed-d5d5c9c1b62f {color: black;background-color: white;}#sk-768b5876-a6a4-4b5f-82ed-d5d5c9c1b62f pre{padding: 0;}#sk-768b5876-a6a4-4b5f-82ed-d5d5c9c1b62f div.sk-toggleable {background-color: white;}#sk-768b5876-a6a4-4b5f-82ed-d5d5c9c1b62f label.sk-toggleable__label {cursor: pointer;display: block;width: 100%;margin-bottom: 0;padding: 0.3em;box-sizing: border-box;text-align: center;}#sk-768b5876-a6a4-4b5f-82ed-d5d5c9c1b62f label.sk-toggleable__label-arrow:before {content: \"▸\";float: left;margin-right: 0.25em;color: #696969;}#sk-768b5876-a6a4-4b5f-82ed-d5d5c9c1b62f label.sk-toggleable__label-arrow:hover:before {color: black;}#sk-768b5876-a6a4-4b5f-82ed-d5d5c9c1b62f div.sk-estimator:hover label.sk-toggleable__label-arrow:before {color: black;}#sk-768b5876-a6a4-4b5f-82ed-d5d5c9c1b62f div.sk-toggleable__content {max-height: 0;max-width: 0;overflow: hidden;text-align: left;background-color: #f0f8ff;}#sk-768b5876-a6a4-4b5f-82ed-d5d5c9c1b62f div.sk-toggleable__content pre {margin: 0.2em;color: black;border-radius: 0.25em;background-color: #f0f8ff;}#sk-768b5876-a6a4-4b5f-82ed-d5d5c9c1b62f input.sk-toggleable__control:checked~div.sk-toggleable__content {max-height: 200px;max-width: 100%;overflow: auto;}#sk-768b5876-a6a4-4b5f-82ed-d5d5c9c1b62f input.sk-toggleable__control:checked~label.sk-toggleable__label-arrow:before {content: \"▾\";}#sk-768b5876-a6a4-4b5f-82ed-d5d5c9c1b62f div.sk-estimator input.sk-toggleable__control:checked~label.sk-toggleable__label {background-color: #d4ebff;}#sk-768b5876-a6a4-4b5f-82ed-d5d5c9c1b62f div.sk-label input.sk-toggleable__control:checked~label.sk-toggleable__label {background-color: #d4ebff;}#sk-768b5876-a6a4-4b5f-82ed-d5d5c9c1b62f input.sk-hidden--visually {border: 0;clip: rect(1px 1px 1px 1px);clip: rect(1px, 1px, 1px, 1px);height: 1px;margin: -1px;overflow: hidden;padding: 0;position: absolute;width: 1px;}#sk-768b5876-a6a4-4b5f-82ed-d5d5c9c1b62f div.sk-estimator {font-family: monospace;background-color: #f0f8ff;border: 1px dotted black;border-radius: 0.25em;box-sizing: border-box;margin-bottom: 0.5em;}#sk-768b5876-a6a4-4b5f-82ed-d5d5c9c1b62f div.sk-estimator:hover {background-color: #d4ebff;}#sk-768b5876-a6a4-4b5f-82ed-d5d5c9c1b62f div.sk-parallel-item::after {content: \"\";width: 100%;border-bottom: 1px solid gray;flex-grow: 1;}#sk-768b5876-a6a4-4b5f-82ed-d5d5c9c1b62f div.sk-label:hover label.sk-toggleable__label {background-color: #d4ebff;}#sk-768b5876-a6a4-4b5f-82ed-d5d5c9c1b62f div.sk-serial::before {content: \"\";position: absolute;border-left: 1px solid gray;box-sizing: border-box;top: 2em;bottom: 0;left: 50%;}#sk-768b5876-a6a4-4b5f-82ed-d5d5c9c1b62f div.sk-serial {display: flex;flex-direction: column;align-items: center;background-color: white;padding-right: 0.2em;padding-left: 0.2em;}#sk-768b5876-a6a4-4b5f-82ed-d5d5c9c1b62f div.sk-item {z-index: 1;}#sk-768b5876-a6a4-4b5f-82ed-d5d5c9c1b62f div.sk-parallel {display: flex;align-items: stretch;justify-content: center;background-color: white;}#sk-768b5876-a6a4-4b5f-82ed-d5d5c9c1b62f div.sk-parallel::before {content: \"\";position: absolute;border-left: 1px solid gray;box-sizing: border-box;top: 2em;bottom: 0;left: 50%;}#sk-768b5876-a6a4-4b5f-82ed-d5d5c9c1b62f div.sk-parallel-item {display: flex;flex-direction: column;position: relative;background-color: white;}#sk-768b5876-a6a4-4b5f-82ed-d5d5c9c1b62f div.sk-parallel-item:first-child::after {align-self: flex-end;width: 50%;}#sk-768b5876-a6a4-4b5f-82ed-d5d5c9c1b62f div.sk-parallel-item:last-child::after {align-self: flex-start;width: 50%;}#sk-768b5876-a6a4-4b5f-82ed-d5d5c9c1b62f div.sk-parallel-item:only-child::after {width: 0;}#sk-768b5876-a6a4-4b5f-82ed-d5d5c9c1b62f div.sk-dashed-wrapped {border: 1px dashed gray;margin: 0 0.4em 0.5em 0.4em;box-sizing: border-box;padding-bottom: 0.4em;background-color: white;position: relative;}#sk-768b5876-a6a4-4b5f-82ed-d5d5c9c1b62f div.sk-label label {font-family: monospace;font-weight: bold;background-color: white;display: inline-block;line-height: 1.2em;}#sk-768b5876-a6a4-4b5f-82ed-d5d5c9c1b62f div.sk-label-container {position: relative;z-index: 2;text-align: center;}#sk-768b5876-a6a4-4b5f-82ed-d5d5c9c1b62f div.sk-container {/* jupyter's `normalize.less` sets `[hidden] { display: none; }` but bootstrap.min.css set `[hidden] { display: none !important; }` so we also need the `!important` here to be able to override the default hidden behavior on the sphinx rendered scikit-learn.org. See: https://github.com/scikit-learn/scikit-learn/issues/21755 */display: inline-block !important;position: relative;}#sk-768b5876-a6a4-4b5f-82ed-d5d5c9c1b62f div.sk-text-repr-fallback {display: none;}</style><div id=\"sk-768b5876-a6a4-4b5f-82ed-d5d5c9c1b62f\" class=\"sk-top-container\"><div class=\"sk-text-repr-fallback\"><pre>GridSearchCV(estimator=KNeighborsClassifier(),\n",
       "             param_grid={&#x27;leaf_size&#x27;: [2, 3, 4, 5, 10, 15, 20, 25, 30],\n",
       "                         &#x27;n_neighbors&#x27;: [5, 7, 8, 9, 10, 11, 12, 13, 14],\n",
       "                         &#x27;p&#x27;: [2, 3, 4], &#x27;weights&#x27;: [&#x27;distance&#x27;, &#x27;uniform&#x27;]})</pre><b>Please rerun this cell to show the HTML repr or trust the notebook.</b></div><div class=\"sk-container\" hidden><div class=\"sk-item sk-dashed-wrapped\"><div class=\"sk-label-container\"><div class=\"sk-label sk-toggleable\"><input class=\"sk-toggleable__control sk-hidden--visually\" id=\"7a7eae5e-fcb5-4cef-9b6d-7928784084ec\" type=\"checkbox\" ><label for=\"7a7eae5e-fcb5-4cef-9b6d-7928784084ec\" class=\"sk-toggleable__label sk-toggleable__label-arrow\">GridSearchCV</label><div class=\"sk-toggleable__content\"><pre>GridSearchCV(estimator=KNeighborsClassifier(),\n",
       "             param_grid={&#x27;leaf_size&#x27;: [2, 3, 4, 5, 10, 15, 20, 25, 30],\n",
       "                         &#x27;n_neighbors&#x27;: [5, 7, 8, 9, 10, 11, 12, 13, 14],\n",
       "                         &#x27;p&#x27;: [2, 3, 4], &#x27;weights&#x27;: [&#x27;distance&#x27;, &#x27;uniform&#x27;]})</pre></div></div></div><div class=\"sk-parallel\"><div class=\"sk-parallel-item\"><div class=\"sk-item\"><div class=\"sk-serial\"><div class=\"sk-item\"><div class=\"sk-estimator sk-toggleable\"><input class=\"sk-toggleable__control sk-hidden--visually\" id=\"39cff77c-9bf0-4f6c-861e-19e5d52157c6\" type=\"checkbox\" ><label for=\"39cff77c-9bf0-4f6c-861e-19e5d52157c6\" class=\"sk-toggleable__label sk-toggleable__label-arrow\">KNeighborsClassifier</label><div class=\"sk-toggleable__content\"><pre>KNeighborsClassifier()</pre></div></div></div></div></div></div></div></div></div></div>"
      ],
      "text/plain": [
       "GridSearchCV(estimator=KNeighborsClassifier(),\n",
       "             param_grid={'leaf_size': [2, 3, 4, 5, 10, 15, 20, 25, 30],\n",
       "                         'n_neighbors': [5, 7, 8, 9, 10, 11, 12, 13, 14],\n",
       "                         'p': [2, 3, 4], 'weights': ['distance', 'uniform']})"
      ]
     },
     "execution_count": 45,
     "metadata": {},
     "output_type": "execute_result"
    }
   ],
   "source": [
    "knn_grid_search =GridSearchCV(knn, knn_parameters)\n",
    "knn_grid_search.fit(X_train_processed, y_train)"
   ]
  },
  {
   "cell_type": "code",
   "execution_count": 46,
   "metadata": {
    "colab": {
     "base_uri": "https://localhost:8080/"
    },
    "executionInfo": {
     "elapsed": 17,
     "status": "ok",
     "timestamp": 1649969541167,
     "user": {
      "displayName": "Halima Ladan",
      "userId": "13376351725036595186"
     },
     "user_tz": 240
    },
    "id": "oIxtCx8IyuYl",
    "outputId": "dcdee66e-8d71-4810-b454-8b3f3e46d22e"
   },
   "outputs": [
    {
     "data": {
      "text/plain": [
       "{'leaf_size': 2, 'n_neighbors': 5, 'p': 2, 'weights': 'distance'}"
      ]
     },
     "execution_count": 46,
     "metadata": {},
     "output_type": "execute_result"
    }
   ],
   "source": [
    "knn_grid_search.best_params_"
   ]
  },
  {
   "cell_type": "code",
   "execution_count": 47,
   "metadata": {
    "colab": {
     "base_uri": "https://localhost:8080/"
    },
    "executionInfo": {
     "elapsed": 17,
     "status": "ok",
     "timestamp": 1649969541167,
     "user": {
      "displayName": "Halima Ladan",
      "userId": "13376351725036595186"
     },
     "user_tz": 240
    },
    "id": "oIxtCx8IyuYl",
    "outputId": "dcdee66e-8d71-4810-b454-8b3f3e46d22e"
   },
   "outputs": [],
   "source": [
    "best_knn = knn_grid_search.best_estimator_"
   ]
  },
  {
   "cell_type": "markdown",
   "metadata": {
    "id": "8RvFtTn1xonn"
   },
   "source": [
    "#### Predictions"
   ]
  },
  {
   "cell_type": "code",
   "execution_count": 48,
   "metadata": {
    "executionInfo": {
     "elapsed": 13,
     "status": "ok",
     "timestamp": 1649969541167,
     "user": {
      "displayName": "Halima Ladan",
      "userId": "13376351725036595186"
     },
     "user_tz": 240
    },
    "id": "u3OV8UlVxq45"
   },
   "outputs": [],
   "source": [
    "knn_train_preds = best_knn.predict(X_train_processed)\n",
    "knn_test_preds =best_knn.predict(X_test_processed)"
   ]
  },
  {
   "cell_type": "markdown",
   "metadata": {},
   "source": [
    "**Predictions on the training set**"
   ]
  },
  {
   "cell_type": "code",
   "execution_count": 49,
   "metadata": {
    "colab": {
     "base_uri": "https://localhost:8080/",
     "height": 363
    },
    "executionInfo": {
     "elapsed": 14,
     "status": "ok",
     "timestamp": 1649969541168,
     "user": {
      "displayName": "Halima Ladan",
      "userId": "13376351725036595186"
     },
     "user_tz": 240
    },
    "id": "iwj2dj3eXerX",
    "outputId": "deedc434-31a4-4ad1-d411-cadf8042b2d2"
   },
   "outputs": [
    {
     "data": {
      "text/html": [
       "<div>\n",
       "<style scoped>\n",
       "    .dataframe tbody tr th:only-of-type {\n",
       "        vertical-align: middle;\n",
       "    }\n",
       "\n",
       "    .dataframe tbody tr th {\n",
       "        vertical-align: top;\n",
       "    }\n",
       "\n",
       "    .dataframe thead th {\n",
       "        text-align: right;\n",
       "    }\n",
       "</style>\n",
       "<table border=\"1\" class=\"dataframe\">\n",
       "  <thead>\n",
       "    <tr style=\"text-align: right;\">\n",
       "      <th></th>\n",
       "      <th>Preds</th>\n",
       "    </tr>\n",
       "  </thead>\n",
       "  <tbody>\n",
       "    <tr>\n",
       "      <th>0</th>\n",
       "      <td>1</td>\n",
       "    </tr>\n",
       "    <tr>\n",
       "      <th>1</th>\n",
       "      <td>0</td>\n",
       "    </tr>\n",
       "    <tr>\n",
       "      <th>2</th>\n",
       "      <td>0</td>\n",
       "    </tr>\n",
       "    <tr>\n",
       "      <th>3</th>\n",
       "      <td>1</td>\n",
       "    </tr>\n",
       "    <tr>\n",
       "      <th>4</th>\n",
       "      <td>1</td>\n",
       "    </tr>\n",
       "  </tbody>\n",
       "</table>\n",
       "</div>"
      ],
      "text/plain": [
       "   Preds\n",
       "0      1\n",
       "1      0\n",
       "2      0\n",
       "3      1\n",
       "4      1"
      ]
     },
     "execution_count": 49,
     "metadata": {},
     "output_type": "execute_result"
    }
   ],
   "source": [
    "training_set =pd.DataFrame(knn_train_preds)\n",
    "training_set = training_set.rename(columns ={0 :\"Preds\"})\n",
    "training_set.head()"
   ]
  },
  {
   "cell_type": "markdown",
   "metadata": {},
   "source": [
    "**Predictions on the testing set**"
   ]
  },
  {
   "cell_type": "code",
   "execution_count": 50,
   "metadata": {
    "colab": {
     "base_uri": "https://localhost:8080/",
     "height": 363
    },
    "executionInfo": {
     "elapsed": 13,
     "status": "ok",
     "timestamp": 1649969541168,
     "user": {
      "displayName": "Halima Ladan",
      "userId": "13376351725036595186"
     },
     "user_tz": 240
    },
    "id": "jOj3Uke4aN1p",
    "outputId": "06fd195f-be67-4d27-ac14-11ca4e9e890b"
   },
   "outputs": [
    {
     "data": {
      "text/html": [
       "<div>\n",
       "<style scoped>\n",
       "    .dataframe tbody tr th:only-of-type {\n",
       "        vertical-align: middle;\n",
       "    }\n",
       "\n",
       "    .dataframe tbody tr th {\n",
       "        vertical-align: top;\n",
       "    }\n",
       "\n",
       "    .dataframe thead th {\n",
       "        text-align: right;\n",
       "    }\n",
       "</style>\n",
       "<table border=\"1\" class=\"dataframe\">\n",
       "  <thead>\n",
       "    <tr style=\"text-align: right;\">\n",
       "      <th></th>\n",
       "      <th>Preds</th>\n",
       "    </tr>\n",
       "  </thead>\n",
       "  <tbody>\n",
       "    <tr>\n",
       "      <th>0</th>\n",
       "      <td>1</td>\n",
       "    </tr>\n",
       "    <tr>\n",
       "      <th>1</th>\n",
       "      <td>1</td>\n",
       "    </tr>\n",
       "    <tr>\n",
       "      <th>2</th>\n",
       "      <td>1</td>\n",
       "    </tr>\n",
       "    <tr>\n",
       "      <th>3</th>\n",
       "      <td>1</td>\n",
       "    </tr>\n",
       "    <tr>\n",
       "      <th>4</th>\n",
       "      <td>0</td>\n",
       "    </tr>\n",
       "  </tbody>\n",
       "</table>\n",
       "</div>"
      ],
      "text/plain": [
       "   Preds\n",
       "0      1\n",
       "1      1\n",
       "2      1\n",
       "3      1\n",
       "4      0"
      ]
     },
     "execution_count": 50,
     "metadata": {},
     "output_type": "execute_result"
    }
   ],
   "source": [
    "testing_set =pd.DataFrame(knn_test_preds)\n",
    "testing_set = testing_set.rename(columns ={0 :\"Preds\"})\n",
    "testing_set.head()"
   ]
  },
  {
   "cell_type": "markdown",
   "metadata": {
    "id": "CiVznGEjxwgP"
   },
   "source": [
    "### Model Evaluation"
   ]
  },
  {
   "cell_type": "markdown",
   "metadata": {},
   "source": [
    "#### Accuracy Scores"
   ]
  },
  {
   "cell_type": "code",
   "execution_count": 51,
   "metadata": {},
   "outputs": [
    {
     "name": "stdout",
     "output_type": "stream",
     "text": [
      "KNN Train Accuracy Score: 1.0\n",
      "KNN Test Accuracy Score: 0.92\n"
     ]
    }
   ],
   "source": [
    "# Calculate accuracy scores\n",
    "knn_train_accuracy = best_knn.score(X_train_processed, y_train)\n",
    "knn_test_accuracy = best_knn.score(X_test_processed, y_test)\n",
    "# Print classification accuracy scores\n",
    "print(f'KNN Train Accuracy Score: {round(knn_train_accuracy, 2)}')\n",
    "print(f'KNN Test Accuracy Score: {round(knn_test_accuracy, 2)}')"
   ]
  },
  {
   "cell_type": "markdown",
   "metadata": {},
   "source": [
    "#### Recall Scores"
   ]
  },
  {
   "cell_type": "code",
   "execution_count": 52,
   "metadata": {},
   "outputs": [
    {
     "name": "stdout",
     "output_type": "stream",
     "text": [
      "KNN Train Recall Score = 1.0\n",
      "KNN Test Recall Score = 1.0\n"
     ]
    }
   ],
   "source": [
    "# Calculate recall scores\n",
    "knn_train_recall = recall_score(y_train, knn_train_preds, pos_label=1)\n",
    "knn_test_recall = recall_score(y_test, knn_test_preds, pos_label=1)\n",
    "# Print classification recall scores\n",
    "print(f'KNN Train Recall Score = {round(knn_train_recall, 2)}')\n",
    "print(f'KNN Test Recall Score = {round(knn_test_recall, 2)}')"
   ]
  },
  {
   "cell_type": "markdown",
   "metadata": {},
   "source": [
    "#### Precision Scores"
   ]
  },
  {
   "cell_type": "code",
   "execution_count": 53,
   "metadata": {},
   "outputs": [
    {
     "name": "stdout",
     "output_type": "stream",
     "text": [
      "KNN Train Precision Score = 1.0\n",
      "KNN Test Precision Score = 0.902\n"
     ]
    }
   ],
   "source": [
    "# Calculate  precision scores\n",
    "knn_train_precision = precision_score(y_train, knn_train_preds, pos_label=1)\n",
    "knn_test_precision = precision_score(y_test, knn_test_preds, pos_label=1)\n",
    "# Print recall scores\n",
    "print(f'KNN Train Precision Score = {round(knn_train_precision, 3)}')\n",
    "print(f'KNN Test Precision Score = {round(knn_test_precision, 3)}')"
   ]
  },
  {
   "cell_type": "markdown",
   "metadata": {},
   "source": [
    "#### AUC"
   ]
  },
  {
   "cell_type": "code",
   "execution_count": 54,
   "metadata": {},
   "outputs": [
    {
     "name": "stdout",
     "output_type": "stream",
     "text": [
      "KNN Train AUC: 1.0\n",
      "KNN Test AUC: 0.975\n"
     ]
    }
   ],
   "source": [
    "# Calculate AUC scores\n",
    "knn_train_auc = roc_auc_score(y_train, best_knn.predict_proba(X_train_processed)[:,1])\n",
    "knn_test_auc = roc_auc_score(y_test, best_knn.predict_proba(X_test_processed)[:,1])\n",
    "# Display AUC scores\n",
    "print(f'KNN Train AUC: {round(knn_train_auc, 3)}')\n",
    "print(f'KNN Test AUC: {round(knn_test_auc, 3)}')"
   ]
  },
  {
   "cell_type": "code",
   "execution_count": 55,
   "metadata": {},
   "outputs": [],
   "source": [
    "knn_train_report =classification_report(y_train, knn_train_preds)\n",
    "knn_test_report = classification_report(y_test, knn_test_preds)"
   ]
  },
  {
   "cell_type": "code",
   "execution_count": 56,
   "metadata": {},
   "outputs": [],
   "source": [
    "# A function for classification report and confusion matrix.\n",
    "\n",
    "import sklearn.metrics as metrics\n",
    "def evaluate_classification(model_name, model, train_report, test_report, cmap,\n",
    "                            normalize='true', classes=None, figsize=(20,5)\n",
    "                            \n",
    "                        ):\n",
    "    print(f'Classification metrics on {model_name} model\\n')\n",
    "    print(f'Training set:\\n{train_report}')\n",
    "    print(\"_____________________________________________________\\n\")\n",
    "    print(f'Testing set:\\n{test_report}')\n",
    "\n",
    "  \n",
    "    fig, ax = plt.subplots(ncols=2, figsize=(18,8))\n",
    "\n",
    "    #Confusion Matrix for the training set\n",
    "    disp1 =ConfusionMatrixDisplay.from_estimator(model, X_train_processed, y_train, \n",
    "                                          cmap =cmap, normalize = \"true\",\n",
    "                                                 ax=ax[0])\n",
    "    disp1.ax_.set_title(\"Training set\")\n",
    "    #Confusion Matrix for the testing set\n",
    "    disp2 = ConfusionMatrixDisplay.from_estimator(model, X_test_processed, y_test,\n",
    "                                          cmap =cmap, normalize = \"true\",\n",
    "                                            ax=ax[1]);\n",
    "    disp2.ax_.set_title(\"Testing set\")\n",
    "    plt.show()\n",
    "\n",
    " \n"
   ]
  },
  {
   "cell_type": "markdown",
   "metadata": {
    "id": "0gt4RhOxz4dx"
   },
   "source": [
    "### KNN Classification report and confusion matrix"
   ]
  },
  {
   "cell_type": "code",
   "execution_count": 57,
   "metadata": {},
   "outputs": [
    {
     "name": "stdout",
     "output_type": "stream",
     "text": [
      "Classification metrics on KNN model\n",
      "\n",
      "Training set:\n",
      "              precision    recall  f1-score   support\n",
      "\n",
      "           0       1.00      1.00      1.00        36\n",
      "           1       1.00      1.00      1.00       110\n",
      "\n",
      "    accuracy                           1.00       146\n",
      "   macro avg       1.00      1.00      1.00       146\n",
      "weighted avg       1.00      1.00      1.00       146\n",
      "\n",
      "_____________________________________________________\n",
      "\n",
      "Testing set:\n",
      "              precision    recall  f1-score   support\n",
      "\n",
      "           0       1.00      0.67      0.80        12\n",
      "           1       0.90      1.00      0.95        37\n",
      "\n",
      "    accuracy                           0.92        49\n",
      "   macro avg       0.95      0.83      0.87        49\n",
      "weighted avg       0.93      0.92      0.91        49\n",
      "\n"
     ]
    },
    {
     "data": {
      "image/png": "[encoded data removed]",
      "text/plain": [
       "<Figure size 1296x576 with 4 Axes>"
      ]
     },
     "metadata": {},
     "output_type": "display_data"
    }
   ],
   "source": [
    "#Classification and confusion matrix on KNN\n",
    "evaluate_classification(\"KNN\", best_knn, knn_train_report, knn_test_report, cmap=\"Reds\")"
   ]
  },
  {
   "cell_type": "markdown",
   "metadata": {
    "id": "zLwBnihCUV6z"
   },
   "source": [
    "When it comes to predicting diseases, the false negative error can be griveously costly, It is better to predict the presence of a disease falsely than to predict the absence of a disease falsely. It is always better to have a model that has zero amount of false positive error than the false negative error. The KNN model had a 0% false negative error and a 33% false positive error."
   ]
  },
  {
   "cell_type": "markdown",
   "metadata": {},
   "source": [
    "___"
   ]
  },
  {
   "cell_type": "markdown",
   "metadata": {},
   "source": [
    "### LGBM Model"
   ]
  },
  {
   "cell_type": "markdown",
   "metadata": {
    "id": "0T7rgwst2Sk_"
   },
   "source": [
    "#### Instantiating the model"
   ]
  },
  {
   "cell_type": "code",
   "execution_count": 58,
   "metadata": {
    "executionInfo": {
     "elapsed": 5,
     "status": "ok",
     "timestamp": 1649969541640,
     "user": {
      "displayName": "Halima Ladan",
      "userId": "13376351725036595186"
     },
     "user_tz": 240
    },
    "id": "8F-XgmRp2QwK"
   },
   "outputs": [],
   "source": [
    "lgbm =LGBMClassifier()"
   ]
  },
  {
   "cell_type": "markdown",
   "metadata": {},
   "source": [
    "#### Fitting of model on the training set"
   ]
  },
  {
   "cell_type": "code",
   "execution_count": 59,
   "metadata": {},
   "outputs": [
    {
     "data": {
      "text/html": [
       "<style>#sk-d67b4ab7-abf4-499f-8c36-93e83ea26034 {color: black;background-color: white;}#sk-d67b4ab7-abf4-499f-8c36-93e83ea26034 pre{padding: 0;}#sk-d67b4ab7-abf4-499f-8c36-93e83ea26034 div.sk-toggleable {background-color: white;}#sk-d67b4ab7-abf4-499f-8c36-93e83ea26034 label.sk-toggleable__label {cursor: pointer;display: block;width: 100%;margin-bottom: 0;padding: 0.3em;box-sizing: border-box;text-align: center;}#sk-d67b4ab7-abf4-499f-8c36-93e83ea26034 label.sk-toggleable__label-arrow:before {content: \"▸\";float: left;margin-right: 0.25em;color: #696969;}#sk-d67b4ab7-abf4-499f-8c36-93e83ea26034 label.sk-toggleable__label-arrow:hover:before {color: black;}#sk-d67b4ab7-abf4-499f-8c36-93e83ea26034 div.sk-estimator:hover label.sk-toggleable__label-arrow:before {color: black;}#sk-d67b4ab7-abf4-499f-8c36-93e83ea26034 div.sk-toggleable__content {max-height: 0;max-width: 0;overflow: hidden;text-align: left;background-color: #f0f8ff;}#sk-d67b4ab7-abf4-499f-8c36-93e83ea26034 div.sk-toggleable__content pre {margin: 0.2em;color: black;border-radius: 0.25em;background-color: #f0f8ff;}#sk-d67b4ab7-abf4-499f-8c36-93e83ea26034 input.sk-toggleable__control:checked~div.sk-toggleable__content {max-height: 200px;max-width: 100%;overflow: auto;}#sk-d67b4ab7-abf4-499f-8c36-93e83ea26034 input.sk-toggleable__control:checked~label.sk-toggleable__label-arrow:before {content: \"▾\";}#sk-d67b4ab7-abf4-499f-8c36-93e83ea26034 div.sk-estimator input.sk-toggleable__control:checked~label.sk-toggleable__label {background-color: #d4ebff;}#sk-d67b4ab7-abf4-499f-8c36-93e83ea26034 div.sk-label input.sk-toggleable__control:checked~label.sk-toggleable__label {background-color: #d4ebff;}#sk-d67b4ab7-abf4-499f-8c36-93e83ea26034 input.sk-hidden--visually {border: 0;clip: rect(1px 1px 1px 1px);clip: rect(1px, 1px, 1px, 1px);height: 1px;margin: -1px;overflow: hidden;padding: 0;position: absolute;width: 1px;}#sk-d67b4ab7-abf4-499f-8c36-93e83ea26034 div.sk-estimator {font-family: monospace;background-color: #f0f8ff;border: 1px dotted black;border-radius: 0.25em;box-sizing: border-box;margin-bottom: 0.5em;}#sk-d67b4ab7-abf4-499f-8c36-93e83ea26034 div.sk-estimator:hover {background-color: #d4ebff;}#sk-d67b4ab7-abf4-499f-8c36-93e83ea26034 div.sk-parallel-item::after {content: \"\";width: 100%;border-bottom: 1px solid gray;flex-grow: 1;}#sk-d67b4ab7-abf4-499f-8c36-93e83ea26034 div.sk-label:hover label.sk-toggleable__label {background-color: #d4ebff;}#sk-d67b4ab7-abf4-499f-8c36-93e83ea26034 div.sk-serial::before {content: \"\";position: absolute;border-left: 1px solid gray;box-sizing: border-box;top: 2em;bottom: 0;left: 50%;}#sk-d67b4ab7-abf4-499f-8c36-93e83ea26034 div.sk-serial {display: flex;flex-direction: column;align-items: center;background-color: white;padding-right: 0.2em;padding-left: 0.2em;}#sk-d67b4ab7-abf4-499f-8c36-93e83ea26034 div.sk-item {z-index: 1;}#sk-d67b4ab7-abf4-499f-8c36-93e83ea26034 div.sk-parallel {display: flex;align-items: stretch;justify-content: center;background-color: white;}#sk-d67b4ab7-abf4-499f-8c36-93e83ea26034 div.sk-parallel::before {content: \"\";position: absolute;border-left: 1px solid gray;box-sizing: border-box;top: 2em;bottom: 0;left: 50%;}#sk-d67b4ab7-abf4-499f-8c36-93e83ea26034 div.sk-parallel-item {display: flex;flex-direction: column;position: relative;background-color: white;}#sk-d67b4ab7-abf4-499f-8c36-93e83ea26034 div.sk-parallel-item:first-child::after {align-self: flex-end;width: 50%;}#sk-d67b4ab7-abf4-499f-8c36-93e83ea26034 div.sk-parallel-item:last-child::after {align-self: flex-start;width: 50%;}#sk-d67b4ab7-abf4-499f-8c36-93e83ea26034 div.sk-parallel-item:only-child::after {width: 0;}#sk-d67b4ab7-abf4-499f-8c36-93e83ea26034 div.sk-dashed-wrapped {border: 1px dashed gray;margin: 0 0.4em 0.5em 0.4em;box-sizing: border-box;padding-bottom: 0.4em;background-color: white;position: relative;}#sk-d67b4ab7-abf4-499f-8c36-93e83ea26034 div.sk-label label {font-family: monospace;font-weight: bold;background-color: white;display: inline-block;line-height: 1.2em;}#sk-d67b4ab7-abf4-499f-8c36-93e83ea26034 div.sk-label-container {position: relative;z-index: 2;text-align: center;}#sk-d67b4ab7-abf4-499f-8c36-93e83ea26034 div.sk-container {/* jupyter's `normalize.less` sets `[hidden] { display: none; }` but bootstrap.min.css set `[hidden] { display: none !important; }` so we also need the `!important` here to be able to override the default hidden behavior on the sphinx rendered scikit-learn.org. See: https://github.com/scikit-learn/scikit-learn/issues/21755 */display: inline-block !important;position: relative;}#sk-d67b4ab7-abf4-499f-8c36-93e83ea26034 div.sk-text-repr-fallback {display: none;}</style><div id=\"sk-d67b4ab7-abf4-499f-8c36-93e83ea26034\" class=\"sk-top-container\"><div class=\"sk-text-repr-fallback\"><pre>LGBMClassifier()</pre><b>Please rerun this cell to show the HTML repr or trust the notebook.</b></div><div class=\"sk-container\" hidden><div class=\"sk-item\"><div class=\"sk-estimator sk-toggleable\"><input class=\"sk-toggleable__control sk-hidden--visually\" id=\"baf868eb-947e-418a-8116-c466e632bc7e\" type=\"checkbox\" checked><label for=\"baf868eb-947e-418a-8116-c466e632bc7e\" class=\"sk-toggleable__label sk-toggleable__label-arrow\">LGBMClassifier</label><div class=\"sk-toggleable__content\"><pre>LGBMClassifier()</pre></div></div></div></div></div>"
      ],
      "text/plain": [
       "LGBMClassifier()"
      ]
     },
     "execution_count": 59,
     "metadata": {},
     "output_type": "execute_result"
    }
   ],
   "source": [
    "#Fitting on the train set\n",
    "lgbm.fit(X_train_processed, y_train)"
   ]
  },
  {
   "cell_type": "markdown",
   "metadata": {},
   "source": [
    "#### Predictions"
   ]
  },
  {
   "cell_type": "code",
   "execution_count": 60,
   "metadata": {
    "executionInfo": {
     "elapsed": 13,
     "status": "ok",
     "timestamp": 1649969541847,
     "user": {
      "displayName": "Halima Ladan",
      "userId": "13376351725036595186"
     },
     "user_tz": 240
    },
    "id": "GU6xGVoE3MyP"
   },
   "outputs": [],
   "source": [
    "lgbm_train_preds = lgbm.predict(X_train_processed)\n",
    "lgbm_test_preds = lgbm.predict(X_test_processed)"
   ]
  },
  {
   "cell_type": "markdown",
   "metadata": {},
   "source": [
    "**Predictions on the training set**"
   ]
  },
  {
   "cell_type": "code",
   "execution_count": 61,
   "metadata": {
    "colab": {
     "base_uri": "https://localhost:8080/",
     "height": 363
    },
    "executionInfo": {
     "elapsed": 14,
     "status": "ok",
     "timestamp": 1649969541848,
     "user": {
      "displayName": "Halima Ladan",
      "userId": "13376351725036595186"
     },
     "user_tz": 240
    },
    "id": "LVLNNN3Bi-vK",
    "outputId": "b6e25dd2-54d7-49d2-f72d-ce378b3a0525"
   },
   "outputs": [
    {
     "data": {
      "text/html": [
       "<div>\n",
       "<style scoped>\n",
       "    .dataframe tbody tr th:only-of-type {\n",
       "        vertical-align: middle;\n",
       "    }\n",
       "\n",
       "    .dataframe tbody tr th {\n",
       "        vertical-align: top;\n",
       "    }\n",
       "\n",
       "    .dataframe thead th {\n",
       "        text-align: right;\n",
       "    }\n",
       "</style>\n",
       "<table border=\"1\" class=\"dataframe\">\n",
       "  <thead>\n",
       "    <tr style=\"text-align: right;\">\n",
       "      <th></th>\n",
       "      <th>Train preds</th>\n",
       "    </tr>\n",
       "  </thead>\n",
       "  <tbody>\n",
       "    <tr>\n",
       "      <th>0</th>\n",
       "      <td>1</td>\n",
       "    </tr>\n",
       "    <tr>\n",
       "      <th>1</th>\n",
       "      <td>0</td>\n",
       "    </tr>\n",
       "    <tr>\n",
       "      <th>2</th>\n",
       "      <td>0</td>\n",
       "    </tr>\n",
       "    <tr>\n",
       "      <th>3</th>\n",
       "      <td>1</td>\n",
       "    </tr>\n",
       "    <tr>\n",
       "      <th>4</th>\n",
       "      <td>1</td>\n",
       "    </tr>\n",
       "  </tbody>\n",
       "</table>\n",
       "</div>"
      ],
      "text/plain": [
       "   Train preds\n",
       "0            1\n",
       "1            0\n",
       "2            0\n",
       "3            1\n",
       "4            1"
      ]
     },
     "execution_count": 61,
     "metadata": {},
     "output_type": "execute_result"
    }
   ],
   "source": [
    "training_set =pd.DataFrame(lgbm_train_preds)\n",
    "training_set = training_set.rename(columns ={0 :\"Train preds\"})\n",
    "training_set.head()"
   ]
  },
  {
   "cell_type": "markdown",
   "metadata": {},
   "source": [
    "**Predictions on the testing set**"
   ]
  },
  {
   "cell_type": "code",
   "execution_count": 62,
   "metadata": {
    "colab": {
     "base_uri": "https://localhost:8080/",
     "height": 363
    },
    "executionInfo": {
     "elapsed": 13,
     "status": "ok",
     "timestamp": 1649969541848,
     "user": {
      "displayName": "Halima Ladan",
      "userId": "13376351725036595186"
     },
     "user_tz": 240
    },
    "id": "PP-Vldo1jWsi",
    "outputId": "0144297e-4be1-4c69-e779-1b0a0e166774"
   },
   "outputs": [
    {
     "data": {
      "text/html": [
       "<div>\n",
       "<style scoped>\n",
       "    .dataframe tbody tr th:only-of-type {\n",
       "        vertical-align: middle;\n",
       "    }\n",
       "\n",
       "    .dataframe tbody tr th {\n",
       "        vertical-align: top;\n",
       "    }\n",
       "\n",
       "    .dataframe thead th {\n",
       "        text-align: right;\n",
       "    }\n",
       "</style>\n",
       "<table border=\"1\" class=\"dataframe\">\n",
       "  <thead>\n",
       "    <tr style=\"text-align: right;\">\n",
       "      <th></th>\n",
       "      <th>Test preds</th>\n",
       "    </tr>\n",
       "  </thead>\n",
       "  <tbody>\n",
       "    <tr>\n",
       "      <th>0</th>\n",
       "      <td>1</td>\n",
       "    </tr>\n",
       "    <tr>\n",
       "      <th>1</th>\n",
       "      <td>1</td>\n",
       "    </tr>\n",
       "    <tr>\n",
       "      <th>2</th>\n",
       "      <td>1</td>\n",
       "    </tr>\n",
       "    <tr>\n",
       "      <th>3</th>\n",
       "      <td>1</td>\n",
       "    </tr>\n",
       "    <tr>\n",
       "      <th>4</th>\n",
       "      <td>0</td>\n",
       "    </tr>\n",
       "  </tbody>\n",
       "</table>\n",
       "</div>"
      ],
      "text/plain": [
       "   Test preds\n",
       "0           1\n",
       "1           1\n",
       "2           1\n",
       "3           1\n",
       "4           0"
      ]
     },
     "execution_count": 62,
     "metadata": {},
     "output_type": "execute_result"
    }
   ],
   "source": [
    "testing_set =pd.DataFrame(lgbm_test_preds)\n",
    "testing_set = testing_set.rename(columns ={0 :\"Test preds\"})\n",
    "testing_set.head()"
   ]
  },
  {
   "cell_type": "markdown",
   "metadata": {
    "id": "vlJYJxDA2s9X"
   },
   "source": [
    "### Model Evaluation"
   ]
  },
  {
   "cell_type": "markdown",
   "metadata": {},
   "source": [
    "#### Accuracy"
   ]
  },
  {
   "cell_type": "code",
   "execution_count": 63,
   "metadata": {},
   "outputs": [
    {
     "name": "stdout",
     "output_type": "stream",
     "text": [
      "LGBM Train Accuracy Score: 1.0\n",
      "LGBM Test Accuracy Score: 0.94\n"
     ]
    }
   ],
   "source": [
    "# Calculate classification accuracy scores\n",
    "lgbm_train_accuracy = lgbm.score(X_train_processed, y_train)\n",
    "lgbm_test_accuracy = lgbm.score(X_test_processed, y_test)\n",
    "# Print classification accuracy scores\n",
    "print(f'LGBM Train Accuracy Score: {round(lgbm_train_accuracy, 2)}')\n",
    "print(f'LGBM Test Accuracy Score: {round(lgbm_test_accuracy, 2)}')"
   ]
  },
  {
   "cell_type": "markdown",
   "metadata": {},
   "source": [
    "#### Recall"
   ]
  },
  {
   "cell_type": "code",
   "execution_count": 64,
   "metadata": {},
   "outputs": [
    {
     "name": "stdout",
     "output_type": "stream",
     "text": [
      "LGBM Train Recall Score = 1.0\n",
      "LGBM Test Recall Score = 0.97\n"
     ]
    }
   ],
   "source": [
    "# Calculate classification recall scores\n",
    "lgbm_train_recall = recall_score(y_train, lgbm_train_preds, pos_label=1)\n",
    "lgbm_test_recall = recall_score(y_test, lgbm_test_preds, pos_label=1)\n",
    "# Print classification recall scores\n",
    "print(f'LGBM Train Recall Score = {round(lgbm_train_recall, 2)}')\n",
    "print(f'LGBM Test Recall Score = {round(lgbm_test_recall, 2)}')"
   ]
  },
  {
   "cell_type": "markdown",
   "metadata": {},
   "source": [
    "#### Precision"
   ]
  },
  {
   "cell_type": "code",
   "execution_count": 65,
   "metadata": {},
   "outputs": [
    {
     "name": "stdout",
     "output_type": "stream",
     "text": [
      "LGBM Train Precision Score = 1.0\n",
      "LGBM Test Precision Score = 0.947\n"
     ]
    }
   ],
   "source": [
    "# Calculate classification precision scores\n",
    "lgbm_train_precision = precision_score(y_train, lgbm_train_preds)#, pos_label=1)\n",
    "lgbm_test_precision = precision_score(y_test, lgbm_test_preds)#, pos_label=1)\n",
    "# Print recall scores\n",
    "print(f'LGBM Train Precision Score = {round(lgbm_train_precision, 3)}')\n",
    "print(f'LGBM Test Precision Score = {round(lgbm_test_precision, 3)}')"
   ]
  },
  {
   "cell_type": "markdown",
   "metadata": {},
   "source": [
    "#### AUC"
   ]
  },
  {
   "cell_type": "code",
   "execution_count": 66,
   "metadata": {},
   "outputs": [
    {
     "name": "stdout",
     "output_type": "stream",
     "text": [
      "LGBM Train AUC: 1.0\n",
      "LGBM Test AUC: 0.984\n"
     ]
    }
   ],
   "source": [
    "# Calculate AUC scores\n",
    "lgbm_train_auc = roc_auc_score(y_train, lgbm.predict_proba(X_train_processed)[:,1])\n",
    "lgbm_test_auc = roc_auc_score(y_test, lgbm.predict_proba(X_test_processed)[:,1])\n",
    "# Display AUC scores\n",
    "print(f'LGBM Train AUC: {round(lgbm_train_auc, 3)}')\n",
    "print(f'LGBM Test AUC: {round(lgbm_test_auc, 3)}')"
   ]
  },
  {
   "cell_type": "code",
   "execution_count": 67,
   "metadata": {},
   "outputs": [],
   "source": [
    "lgbm_train_report =classification_report(y_train, lgbm_train_preds)\n",
    "lgbm_test_report = classification_report(y_test, lgbm_test_preds)"
   ]
  },
  {
   "cell_type": "markdown",
   "metadata": {},
   "source": [
    "### LGBM Classification report and Confusion Matrix"
   ]
  },
  {
   "cell_type": "code",
   "execution_count": 68,
   "metadata": {},
   "outputs": [
    {
     "name": "stdout",
     "output_type": "stream",
     "text": [
      "Classification metrics on LGBM model\n",
      "\n",
      "Training set:\n",
      "              precision    recall  f1-score   support\n",
      "\n",
      "           0       1.00      1.00      1.00        36\n",
      "           1       1.00      1.00      1.00       110\n",
      "\n",
      "    accuracy                           1.00       146\n",
      "   macro avg       1.00      1.00      1.00       146\n",
      "weighted avg       1.00      1.00      1.00       146\n",
      "\n",
      "_____________________________________________________\n",
      "\n",
      "Testing set:\n",
      "              precision    recall  f1-score   support\n",
      "\n",
      "           0       0.91      0.83      0.87        12\n",
      "           1       0.95      0.97      0.96        37\n",
      "\n",
      "    accuracy                           0.94        49\n",
      "   macro avg       0.93      0.90      0.91        49\n",
      "weighted avg       0.94      0.94      0.94        49\n",
      "\n"
     ]
    },
    {
     "data": {
      "image/png": "[encoded data removed]",
      "text/plain": [
       "<Figure size 1296x576 with 4 Axes>"
      ]
     },
     "metadata": {},
     "output_type": "display_data"
    }
   ],
   "source": [
    "#Classification and confusion matrix on LGBM\n",
    "evaluate_classification(\"LGBM\", lgbm, lgbm_train_report, lgbm_test_report, cmap=\"Greens\")"
   ]
  },
  {
   "cell_type": "markdown",
   "metadata": {
    "id": "ms7sfqBuVBXx"
   },
   "source": [
    "The LGBM model made all predictions accurately on the training  set, but it made a 3% false negative error on the testing set."
   ]
  },
  {
   "cell_type": "markdown",
   "metadata": {},
   "source": [
    "___"
   ]
  },
  {
   "cell_type": "markdown",
   "metadata": {
    "id": "7vt2-Jx_5x1-"
   },
   "source": [
    "### XGBoost Classifier(XGBC)"
   ]
  },
  {
   "cell_type": "markdown",
   "metadata": {
    "id": "xT1XcnJc543-"
   },
   "source": [
    "#### Instantiating Model"
   ]
  },
  {
   "cell_type": "code",
   "execution_count": 69,
   "metadata": {
    "executionInfo": {
     "elapsed": 11,
     "status": "ok",
     "timestamp": 1649969542462,
     "user": {
      "displayName": "Halima Ladan",
      "userId": "13376351725036595186"
     },
     "user_tz": 240
    },
    "id": "dL5vQi-E5Ob-"
   },
   "outputs": [],
   "source": [
    "xgb = XGBClassifier()"
   ]
  },
  {
   "cell_type": "code",
   "execution_count": 70,
   "metadata": {
    "colab": {
     "base_uri": "https://localhost:8080/",
     "height": 252
    },
    "executionInfo": {
     "elapsed": 10,
     "status": "ok",
     "timestamp": 1649969542463,
     "user": {
      "displayName": "Halima Ladan",
      "userId": "13376351725036595186"
     },
     "user_tz": 240
    },
    "id": "0Rw5NGag6Oe0",
    "outputId": "b949d005-f945-40e1-ba07-7d4734f7bd58",
    "scrolled": false
   },
   "outputs": [
    {
     "data": {
      "text/html": [
       "<style>#sk-f1c7bf60-7cfa-4403-8233-3f0bd10f038a {color: black;background-color: white;}#sk-f1c7bf60-7cfa-4403-8233-3f0bd10f038a pre{padding: 0;}#sk-f1c7bf60-7cfa-4403-8233-3f0bd10f038a div.sk-toggleable {background-color: white;}#sk-f1c7bf60-7cfa-4403-8233-3f0bd10f038a label.sk-toggleable__label {cursor: pointer;display: block;width: 100%;margin-bottom: 0;padding: 0.3em;box-sizing: border-box;text-align: center;}#sk-f1c7bf60-7cfa-4403-8233-3f0bd10f038a label.sk-toggleable__label-arrow:before {content: \"▸\";float: left;margin-right: 0.25em;color: #696969;}#sk-f1c7bf60-7cfa-4403-8233-3f0bd10f038a label.sk-toggleable__label-arrow:hover:before {color: black;}#sk-f1c7bf60-7cfa-4403-8233-3f0bd10f038a div.sk-estimator:hover label.sk-toggleable__label-arrow:before {color: black;}#sk-f1c7bf60-7cfa-4403-8233-3f0bd10f038a div.sk-toggleable__content {max-height: 0;max-width: 0;overflow: hidden;text-align: left;background-color: #f0f8ff;}#sk-f1c7bf60-7cfa-4403-8233-3f0bd10f038a div.sk-toggleable__content pre {margin: 0.2em;color: black;border-radius: 0.25em;background-color: #f0f8ff;}#sk-f1c7bf60-7cfa-4403-8233-3f0bd10f038a input.sk-toggleable__control:checked~div.sk-toggleable__content {max-height: 200px;max-width: 100%;overflow: auto;}#sk-f1c7bf60-7cfa-4403-8233-3f0bd10f038a input.sk-toggleable__control:checked~label.sk-toggleable__label-arrow:before {content: \"▾\";}#sk-f1c7bf60-7cfa-4403-8233-3f0bd10f038a div.sk-estimator input.sk-toggleable__control:checked~label.sk-toggleable__label {background-color: #d4ebff;}#sk-f1c7bf60-7cfa-4403-8233-3f0bd10f038a div.sk-label input.sk-toggleable__control:checked~label.sk-toggleable__label {background-color: #d4ebff;}#sk-f1c7bf60-7cfa-4403-8233-3f0bd10f038a input.sk-hidden--visually {border: 0;clip: rect(1px 1px 1px 1px);clip: rect(1px, 1px, 1px, 1px);height: 1px;margin: -1px;overflow: hidden;padding: 0;position: absolute;width: 1px;}#sk-f1c7bf60-7cfa-4403-8233-3f0bd10f038a div.sk-estimator {font-family: monospace;background-color: #f0f8ff;border: 1px dotted black;border-radius: 0.25em;box-sizing: border-box;margin-bottom: 0.5em;}#sk-f1c7bf60-7cfa-4403-8233-3f0bd10f038a div.sk-estimator:hover {background-color: #d4ebff;}#sk-f1c7bf60-7cfa-4403-8233-3f0bd10f038a div.sk-parallel-item::after {content: \"\";width: 100%;border-bottom: 1px solid gray;flex-grow: 1;}#sk-f1c7bf60-7cfa-4403-8233-3f0bd10f038a div.sk-label:hover label.sk-toggleable__label {background-color: #d4ebff;}#sk-f1c7bf60-7cfa-4403-8233-3f0bd10f038a div.sk-serial::before {content: \"\";position: absolute;border-left: 1px solid gray;box-sizing: border-box;top: 2em;bottom: 0;left: 50%;}#sk-f1c7bf60-7cfa-4403-8233-3f0bd10f038a div.sk-serial {display: flex;flex-direction: column;align-items: center;background-color: white;padding-right: 0.2em;padding-left: 0.2em;}#sk-f1c7bf60-7cfa-4403-8233-3f0bd10f038a div.sk-item {z-index: 1;}#sk-f1c7bf60-7cfa-4403-8233-3f0bd10f038a div.sk-parallel {display: flex;align-items: stretch;justify-content: center;background-color: white;}#sk-f1c7bf60-7cfa-4403-8233-3f0bd10f038a div.sk-parallel::before {content: \"\";position: absolute;border-left: 1px solid gray;box-sizing: border-box;top: 2em;bottom: 0;left: 50%;}#sk-f1c7bf60-7cfa-4403-8233-3f0bd10f038a div.sk-parallel-item {display: flex;flex-direction: column;position: relative;background-color: white;}#sk-f1c7bf60-7cfa-4403-8233-3f0bd10f038a div.sk-parallel-item:first-child::after {align-self: flex-end;width: 50%;}#sk-f1c7bf60-7cfa-4403-8233-3f0bd10f038a div.sk-parallel-item:last-child::after {align-self: flex-start;width: 50%;}#sk-f1c7bf60-7cfa-4403-8233-3f0bd10f038a div.sk-parallel-item:only-child::after {width: 0;}#sk-f1c7bf60-7cfa-4403-8233-3f0bd10f038a div.sk-dashed-wrapped {border: 1px dashed gray;margin: 0 0.4em 0.5em 0.4em;box-sizing: border-box;padding-bottom: 0.4em;background-color: white;position: relative;}#sk-f1c7bf60-7cfa-4403-8233-3f0bd10f038a div.sk-label label {font-family: monospace;font-weight: bold;background-color: white;display: inline-block;line-height: 1.2em;}#sk-f1c7bf60-7cfa-4403-8233-3f0bd10f038a div.sk-label-container {position: relative;z-index: 2;text-align: center;}#sk-f1c7bf60-7cfa-4403-8233-3f0bd10f038a div.sk-container {/* jupyter's `normalize.less` sets `[hidden] { display: none; }` but bootstrap.min.css set `[hidden] { display: none !important; }` so we also need the `!important` here to be able to override the default hidden behavior on the sphinx rendered scikit-learn.org. See: https://github.com/scikit-learn/scikit-learn/issues/21755 */display: inline-block !important;position: relative;}#sk-f1c7bf60-7cfa-4403-8233-3f0bd10f038a div.sk-text-repr-fallback {display: none;}</style><div id=\"sk-f1c7bf60-7cfa-4403-8233-3f0bd10f038a\" class=\"sk-top-container\"><div class=\"sk-text-repr-fallback\"><pre>XGBClassifier(base_score=0.5, booster=&#x27;gbtree&#x27;, callbacks=None,\n",
       "              colsample_bylevel=1, colsample_bynode=1, colsample_bytree=1,\n",
       "              early_stopping_rounds=None, enable_categorical=False,\n",
       "              eval_metric=None, gamma=0, gpu_id=-1, grow_policy=&#x27;depthwise&#x27;,\n",
       "              importance_type=None, interaction_constraints=&#x27;&#x27;,\n",
       "              learning_rate=0.300000012, max_bin=256, max_cat_to_onehot=4,\n",
       "              max_delta_step=0, max_depth=6, max_leaves=0, min_child_weight=1,\n",
       "              missing=nan, monotone_constraints=&#x27;()&#x27;, n_estimators=100,\n",
       "              n_jobs=0, num_parallel_tree=1, predictor=&#x27;auto&#x27;, random_state=0,\n",
       "              reg_alpha=0, reg_lambda=1, ...)</pre><b>Please rerun this cell to show the HTML repr or trust the notebook.</b></div><div class=\"sk-container\" hidden><div class=\"sk-item\"><div class=\"sk-estimator sk-toggleable\"><input class=\"sk-toggleable__control sk-hidden--visually\" id=\"fa816b44-171b-4ed2-a06b-3c09f306d0fb\" type=\"checkbox\" checked><label for=\"fa816b44-171b-4ed2-a06b-3c09f306d0fb\" class=\"sk-toggleable__label sk-toggleable__label-arrow\">XGBClassifier</label><div class=\"sk-toggleable__content\"><pre>XGBClassifier(base_score=0.5, booster=&#x27;gbtree&#x27;, callbacks=None,\n",
       "              colsample_bylevel=1, colsample_bynode=1, colsample_bytree=1,\n",
       "              early_stopping_rounds=None, enable_categorical=False,\n",
       "              eval_metric=None, gamma=0, gpu_id=-1, grow_policy=&#x27;depthwise&#x27;,\n",
       "              importance_type=None, interaction_constraints=&#x27;&#x27;,\n",
       "              learning_rate=0.300000012, max_bin=256, max_cat_to_onehot=4,\n",
       "              max_delta_step=0, max_depth=6, max_leaves=0, min_child_weight=1,\n",
       "              missing=nan, monotone_constraints=&#x27;()&#x27;, n_estimators=100,\n",
       "              n_jobs=0, num_parallel_tree=1, predictor=&#x27;auto&#x27;, random_state=0,\n",
       "              reg_alpha=0, reg_lambda=1, ...)</pre></div></div></div></div></div>"
      ],
      "text/plain": [
       "XGBClassifier(base_score=0.5, booster='gbtree', callbacks=None,\n",
       "              colsample_bylevel=1, colsample_bynode=1, colsample_bytree=1,\n",
       "              early_stopping_rounds=None, enable_categorical=False,\n",
       "              eval_metric=None, gamma=0, gpu_id=-1, grow_policy='depthwise',\n",
       "              importance_type=None, interaction_constraints='',\n",
       "              learning_rate=0.300000012, max_bin=256, max_cat_to_onehot=4,\n",
       "              max_delta_step=0, max_depth=6, max_leaves=0, min_child_weight=1,\n",
       "              missing=nan, monotone_constraints='()', n_estimators=100,\n",
       "              n_jobs=0, num_parallel_tree=1, predictor='auto', random_state=0,\n",
       "              reg_alpha=0, reg_lambda=1, ...)"
      ]
     },
     "execution_count": 70,
     "metadata": {},
     "output_type": "execute_result"
    }
   ],
   "source": [
    "xgb.fit(X_train_processed, y_train)"
   ]
  },
  {
   "cell_type": "code",
   "execution_count": 71,
   "metadata": {
    "executionInfo": {
     "elapsed": 9,
     "status": "ok",
     "timestamp": 1649969542463,
     "user": {
      "displayName": "Halima Ladan",
      "userId": "13376351725036595186"
     },
     "user_tz": 240
    },
    "id": "MYwyGxwR5-lB"
   },
   "outputs": [],
   "source": [
    "xgb_train_preds = xgb.predict(X_train_processed)\n",
    "xgb_test_preds = xgb.predict(X_test_processed)"
   ]
  },
  {
   "cell_type": "markdown",
   "metadata": {},
   "source": [
    "**Predictions on the training set**"
   ]
  },
  {
   "cell_type": "code",
   "execution_count": 72,
   "metadata": {
    "colab": {
     "base_uri": "https://localhost:8080/",
     "height": 363
    },
    "executionInfo": {
     "elapsed": 9,
     "status": "ok",
     "timestamp": 1649969542463,
     "user": {
      "displayName": "Halima Ladan",
      "userId": "13376351725036595186"
     },
     "user_tz": 240
    },
    "id": "jyPx4wglwjmB",
    "outputId": "2de2ab42-919a-4f9d-be1d-76ca79dab212"
   },
   "outputs": [
    {
     "data": {
      "text/html": [
       "<div>\n",
       "<style scoped>\n",
       "    .dataframe tbody tr th:only-of-type {\n",
       "        vertical-align: middle;\n",
       "    }\n",
       "\n",
       "    .dataframe tbody tr th {\n",
       "        vertical-align: top;\n",
       "    }\n",
       "\n",
       "    .dataframe thead th {\n",
       "        text-align: right;\n",
       "    }\n",
       "</style>\n",
       "<table border=\"1\" class=\"dataframe\">\n",
       "  <thead>\n",
       "    <tr style=\"text-align: right;\">\n",
       "      <th></th>\n",
       "      <th>XGB: Train preds</th>\n",
       "    </tr>\n",
       "  </thead>\n",
       "  <tbody>\n",
       "    <tr>\n",
       "      <th>0</th>\n",
       "      <td>1</td>\n",
       "    </tr>\n",
       "    <tr>\n",
       "      <th>1</th>\n",
       "      <td>0</td>\n",
       "    </tr>\n",
       "    <tr>\n",
       "      <th>2</th>\n",
       "      <td>0</td>\n",
       "    </tr>\n",
       "    <tr>\n",
       "      <th>3</th>\n",
       "      <td>1</td>\n",
       "    </tr>\n",
       "    <tr>\n",
       "      <th>4</th>\n",
       "      <td>1</td>\n",
       "    </tr>\n",
       "  </tbody>\n",
       "</table>\n",
       "</div>"
      ],
      "text/plain": [
       "   XGB: Train preds\n",
       "0                 1\n",
       "1                 0\n",
       "2                 0\n",
       "3                 1\n",
       "4                 1"
      ]
     },
     "execution_count": 72,
     "metadata": {},
     "output_type": "execute_result"
    }
   ],
   "source": [
    "training_set =pd.DataFrame(xgb_train_preds)\n",
    "training_set = training_set.rename(columns ={0 :\"XGB: Train preds\"})\n",
    "training_set.head()"
   ]
  },
  {
   "cell_type": "markdown",
   "metadata": {},
   "source": [
    "**Predictions on the testing set**"
   ]
  },
  {
   "cell_type": "code",
   "execution_count": 73,
   "metadata": {
    "colab": {
     "base_uri": "https://localhost:8080/",
     "height": 363
    },
    "executionInfo": {
     "elapsed": 9,
     "status": "ok",
     "timestamp": 1649969542464,
     "user": {
      "displayName": "Halima Ladan",
      "userId": "13376351725036595186"
     },
     "user_tz": 240
    },
    "id": "bGm1feIjxXct",
    "outputId": "8559ce2e-06e6-412b-e022-a2b31a1a4e9a"
   },
   "outputs": [
    {
     "data": {
      "text/html": [
       "<div>\n",
       "<style scoped>\n",
       "    .dataframe tbody tr th:only-of-type {\n",
       "        vertical-align: middle;\n",
       "    }\n",
       "\n",
       "    .dataframe tbody tr th {\n",
       "        vertical-align: top;\n",
       "    }\n",
       "\n",
       "    .dataframe thead th {\n",
       "        text-align: right;\n",
       "    }\n",
       "</style>\n",
       "<table border=\"1\" class=\"dataframe\">\n",
       "  <thead>\n",
       "    <tr style=\"text-align: right;\">\n",
       "      <th></th>\n",
       "      <th>XGB: Test preds</th>\n",
       "    </tr>\n",
       "  </thead>\n",
       "  <tbody>\n",
       "    <tr>\n",
       "      <th>0</th>\n",
       "      <td>1</td>\n",
       "    </tr>\n",
       "    <tr>\n",
       "      <th>1</th>\n",
       "      <td>1</td>\n",
       "    </tr>\n",
       "    <tr>\n",
       "      <th>2</th>\n",
       "      <td>1</td>\n",
       "    </tr>\n",
       "    <tr>\n",
       "      <th>3</th>\n",
       "      <td>1</td>\n",
       "    </tr>\n",
       "    <tr>\n",
       "      <th>4</th>\n",
       "      <td>0</td>\n",
       "    </tr>\n",
       "    <tr>\n",
       "      <th>5</th>\n",
       "      <td>0</td>\n",
       "    </tr>\n",
       "    <tr>\n",
       "      <th>6</th>\n",
       "      <td>1</td>\n",
       "    </tr>\n",
       "    <tr>\n",
       "      <th>7</th>\n",
       "      <td>1</td>\n",
       "    </tr>\n",
       "    <tr>\n",
       "      <th>8</th>\n",
       "      <td>1</td>\n",
       "    </tr>\n",
       "    <tr>\n",
       "      <th>9</th>\n",
       "      <td>0</td>\n",
       "    </tr>\n",
       "  </tbody>\n",
       "</table>\n",
       "</div>"
      ],
      "text/plain": [
       "   XGB: Test preds\n",
       "0                1\n",
       "1                1\n",
       "2                1\n",
       "3                1\n",
       "4                0\n",
       "5                0\n",
       "6                1\n",
       "7                1\n",
       "8                1\n",
       "9                0"
      ]
     },
     "execution_count": 73,
     "metadata": {},
     "output_type": "execute_result"
    }
   ],
   "source": [
    "testing_set =pd.DataFrame(xgb_test_preds)\n",
    "testing_set = testing_set.rename(columns ={0 :\"XGB: Test preds\"})\n",
    "testing_set.head(10)"
   ]
  },
  {
   "cell_type": "markdown",
   "metadata": {
    "id": "oNNUzOkO5eFu"
   },
   "source": [
    "## Model Evaluation"
   ]
  },
  {
   "cell_type": "markdown",
   "metadata": {},
   "source": [
    "### Scores"
   ]
  },
  {
   "cell_type": "markdown",
   "metadata": {},
   "source": [
    "#### Accuracy"
   ]
  },
  {
   "cell_type": "code",
   "execution_count": 74,
   "metadata": {},
   "outputs": [
    {
     "name": "stdout",
     "output_type": "stream",
     "text": [
      "XGB Train Accuracy Score: 1.0\n",
      "XGB Test Accuracy Score: 0.939\n"
     ]
    }
   ],
   "source": [
    "# Calculate classification accuracy scores\n",
    "xgb_train_accuracy = xgb.score(X_train_processed, y_train)\n",
    "xgb_test_accuracy = xgb.score(X_test_processed, y_test)\n",
    "# Print classification accuracy scores\n",
    "print(f'XGB Train Accuracy Score: {round(xgb_train_accuracy, 3)}')\n",
    "print(f'XGB Test Accuracy Score: {round(xgb_test_accuracy, 3)}')"
   ]
  },
  {
   "cell_type": "markdown",
   "metadata": {},
   "source": [
    "#### Recall"
   ]
  },
  {
   "cell_type": "code",
   "execution_count": 75,
   "metadata": {},
   "outputs": [
    {
     "name": "stdout",
     "output_type": "stream",
     "text": [
      "XGB Train Recall Score = 1.0\n",
      "XGB Test Recall Score = 0.973\n"
     ]
    }
   ],
   "source": [
    "# Calculate classification recall scores\n",
    "xgb_train_recall = recall_score(y_train, xgb_train_preds, pos_label=1)\n",
    "xgb_test_recall = recall_score(y_test,xgb_test_preds, pos_label=1)\n",
    "# Print classification recall scores\n",
    "print(f'XGB Train Recall Score = {round(xgb_train_recall, 3)}')\n",
    "print(f'XGB Test Recall Score = {round(xgb_test_recall, 3)}')"
   ]
  },
  {
   "cell_type": "markdown",
   "metadata": {},
   "source": [
    "#### Precision"
   ]
  },
  {
   "cell_type": "code",
   "execution_count": 76,
   "metadata": {},
   "outputs": [
    {
     "name": "stdout",
     "output_type": "stream",
     "text": [
      "XGB Train Precision Score = 1.0\n",
      "XGB Test Precision Score = 0.947\n"
     ]
    }
   ],
   "source": [
    "# Calculate classification precision scores\n",
    "xgb_train_precision = precision_score(y_train, xgb_train_preds)#, pos_label=1)\n",
    "xgb_test_precision = precision_score(y_test, xgb_test_preds)#, pos_label=1)\n",
    "# Print recall scores\n",
    "print(f'XGB Train Precision Score = {round(xgb_train_precision, 3)}')\n",
    "print(f'XGB Test Precision Score = {round(xgb_test_precision, 3)}')"
   ]
  },
  {
   "cell_type": "markdown",
   "metadata": {},
   "source": [
    "#### AUC"
   ]
  },
  {
   "cell_type": "code",
   "execution_count": 77,
   "metadata": {},
   "outputs": [
    {
     "name": "stdout",
     "output_type": "stream",
     "text": [
      "XGB Train AUC: 1.0\n",
      "XGB Test AUC: 0.984\n"
     ]
    }
   ],
   "source": [
    "# Calculate AUC scores\n",
    "xgb_train_auc = roc_auc_score(y_train, xgb.predict_proba(X_train_processed)[:,1])\n",
    "xgb_test_auc = roc_auc_score(y_test, xgb.predict_proba(X_test_processed)[:,1])\n",
    "# Display AUC scores\n",
    "print(f'XGB Train AUC: {round(xgb_train_auc, 3)}')\n",
    "print(f'XGB Test AUC: {round(xgb_test_auc, 3)}')"
   ]
  },
  {
   "cell_type": "code",
   "execution_count": 78,
   "metadata": {
    "executionInfo": {
     "elapsed": 252,
     "status": "ok",
     "timestamp": 1649969542708,
     "user": {
      "displayName": "Halima Ladan",
      "userId": "13376351725036595186"
     },
     "user_tz": 240
    },
    "id": "zZSZ4T0y5h03"
   },
   "outputs": [],
   "source": [
    "xgb_train_report =classification_report(y_train, xgb_train_preds)\n",
    "xgb_test_report = classification_report(y_test, xgb_test_preds)"
   ]
  },
  {
   "cell_type": "markdown",
   "metadata": {},
   "source": [
    "## XGB Classification report and confusion matrix"
   ]
  },
  {
   "cell_type": "code",
   "execution_count": 79,
   "metadata": {
    "scrolled": true
   },
   "outputs": [
    {
     "name": "stdout",
     "output_type": "stream",
     "text": [
      "Classification metrics on XGB model\n",
      "\n",
      "Training set:\n",
      "              precision    recall  f1-score   support\n",
      "\n",
      "           0       1.00      1.00      1.00        36\n",
      "           1       1.00      1.00      1.00       110\n",
      "\n",
      "    accuracy                           1.00       146\n",
      "   macro avg       1.00      1.00      1.00       146\n",
      "weighted avg       1.00      1.00      1.00       146\n",
      "\n",
      "_____________________________________________________\n",
      "\n",
      "Testing set:\n",
      "              precision    recall  f1-score   support\n",
      "\n",
      "           0       0.91      0.83      0.87        12\n",
      "           1       0.95      0.97      0.96        37\n",
      "\n",
      "    accuracy                           0.94        49\n",
      "   macro avg       0.93      0.90      0.91        49\n",
      "weighted avg       0.94      0.94      0.94        49\n",
      "\n"
     ]
    },
    {
     "data": {
      "image/png": "[encoded data removed]",
      "text/plain": [
       "<Figure size 1296x576 with 4 Axes>"
      ]
     },
     "metadata": {},
     "output_type": "display_data"
    }
   ],
   "source": [
    "#classification report and confusion matrix\n",
    "evaluate_classification(\"XGB\", xgb, xgb_train_report, xgb_test_report, cmap =\"Blues\")"
   ]
  },
  {
   "cell_type": "markdown",
   "metadata": {
    "id": "CoK9nqSN60Om"
   },
   "source": [
    "### Confusion Matrix"
   ]
  },
  {
   "cell_type": "markdown",
   "metadata": {
    "id": "e7Za7qviVuxq"
   },
   "source": [
    "The XGB model made all predictions accurately on the training set. As for the testing set, the model also made about 3% false negative errors on the testing set."
   ]
  },
  {
   "cell_type": "markdown",
   "metadata": {},
   "source": [
    "### Comparing the preformance of all three models."
   ]
  },
  {
   "cell_type": "code",
   "execution_count": 80,
   "metadata": {},
   "outputs": [],
   "source": [
    "#### A function to collect all model scores for each evaluation metric in a dataframe "
   ]
  },
  {
   "cell_type": "code",
   "execution_count": 81,
   "metadata": {
    "executionInfo": {
     "elapsed": 7,
     "status": "ok",
     "timestamp": 1649969543223,
     "user": {
      "displayName": "Halima Ladan",
      "userId": "13376351725036595186"
     },
     "user_tz": 240
    },
    "id": "Wgx-K4LO_vJy"
   },
   "outputs": [],
   "source": [
    "def model_report(model, scoring = \"accuracy\", model_name = \"Classifier\"):\n",
    "\n",
    "  scoring_func = get_scorer(scoring)\n",
    "  train_score = scoring_func(model, X_train_processed, y_train)\n",
    "  test_score = scoring_func(model, X_test_processed, y_test)\n",
    "\n",
    "  delta_score  = train_score -test_score\n",
    "  \n",
    "\n",
    "  score_dict ={f'{scoring}:train': train_score,\n",
    "               f'{scoring}:test': test_score,\n",
    "               f'{scoring}:difference' : delta_score}\n",
    "\n",
    "  score_frame = pd.DataFrame(score_dict, index=[model_name])\n",
    "\n",
    "  return(score_frame)"
   ]
  },
  {
   "cell_type": "code",
   "execution_count": 82,
   "metadata": {},
   "outputs": [],
   "source": [
    "def model_recall(model, scoring = \"recall\", model_name = \"Classifier\"):\n",
    "\n",
    "  scoring_func = get_scorer(scoring)\n",
    "  train_score = scoring_func(model, X_train_processed, y_train)\n",
    "  test_score = scoring_func(model, X_test_processed, y_test)\n",
    "\n",
    "  delta_score  = train_score -test_score\n",
    "  \n",
    "\n",
    "  score_dict ={f'{scoring}:train': train_score,\n",
    "               f'{scoring}:test': test_score,\n",
    "               f'{scoring}:difference' : delta_score}\n",
    "\n",
    "  score_frame = pd.DataFrame(score_dict, index=[model_name])\n",
    "\n",
    "  return(score_frame)"
   ]
  },
  {
   "cell_type": "code",
   "execution_count": 83,
   "metadata": {},
   "outputs": [],
   "source": [
    "def model_precision(model, scoring = \"precision\", model_name = \"Classifier\"):\n",
    "\n",
    "  scoring_func = get_scorer(scoring)\n",
    "  train_score = scoring_func(model, X_train_processed, y_train)\n",
    "  test_score = scoring_func(model, X_test_processed, y_test)\n",
    "\n",
    "  delta_score  = train_score -test_score\n",
    "  \n",
    "\n",
    "  score_dict ={f'{scoring}:train': train_score,\n",
    "               f'{scoring}:test': test_score,\n",
    "               f'{scoring}:difference' : delta_score}\n",
    "\n",
    "  score_frame = pd.DataFrame(score_dict, index=[model_name])\n",
    "\n",
    "  return(score_frame)"
   ]
  },
  {
   "cell_type": "code",
   "execution_count": 84,
   "metadata": {},
   "outputs": [],
   "source": [
    "def model_AUC(model, model_name):\n",
    "\n",
    "  train_score = roc_auc_score(y_train, model.predict_proba(X_train_processed)[:,1])\n",
    "  test_score = roc_auc_score(y_test, model.predict_proba(X_test_processed)[:,1])\n",
    "\n",
    "  delta_score  = train_score -test_score\n",
    "  \n",
    "\n",
    "  score_dict ={f'AUC:train': train_score,\n",
    "               f'AUC:test': test_score,\n",
    "               f'AUC:difference' : delta_score}\n",
    "\n",
    "  score_frame = pd.DataFrame(score_dict, index=[model_name])\n",
    "\n",
    "  return(score_frame)"
   ]
  },
  {
   "cell_type": "code",
   "execution_count": 85,
   "metadata": {
    "colab": {
     "base_uri": "https://localhost:8080/",
     "height": 143
    },
    "executionInfo": {
     "elapsed": 6,
     "status": "ok",
     "timestamp": 1649969543223,
     "user": {
      "displayName": "Halima Ladan",
      "userId": "13376351725036595186"
     },
     "user_tz": 240
    },
    "id": "ck5XADxyEbAI",
    "outputId": "7e977c74-d003-4668-a376-944983894748"
   },
   "outputs": [],
   "source": [
    "#Accuracy Scores\n",
    "model_accuracy_reports= model_report(best_knn, scoring =\"accuracy\", model_name =\"KNN Classifier\")\n",
    "model_accuracy_reports= model_accuracy_reports.append(model_report(lgbm, model_name =\"LGBM Classifier\"))\n",
    "model_accuracy_reports= model_accuracy_reports.append(model_report(xgb, model_name =\"XGBoost Classifier\"))\n",
    "\n",
    "#Recall Scores\n",
    "model_recall_report= model_recall(model = best_knn, model_name =\"KNN Classifier\")\n",
    "model_recall_report= model_recall_report.append(model_recall(model =lgbm, model_name =\"LGBM Classifier\"))\n",
    "model_recall_report= model_recall_report.append(model_recall(model =xgb, model_name =\"XGBoost Classifier\"))\n",
    "\n",
    "#Precision Scores\n",
    "model_precision_report= model_precision(best_knn,scoring = \"precision\", model_name =\"KNN Classifier\")\n",
    "model_precision_report= model_precision_report.append(model_precision(lgbm, model_name =\"LGBM Classifier\"))\n",
    "model_precision_report= model_precision_report.append(model_precision(xgb, model_name =\"XGBoost Classifier\"))\n",
    "\n",
    "#AUC scores\n",
    "model_AUC_report= model_AUC( model =best_knn, model_name= 'KNN Classfier')\n",
    "model_AUC_report= model_AUC_report.append(model_AUC( model =lgbm, model_name ='LGBM Classifier'))\n",
    "model_AUC_report= model_AUC_report.append(model_AUC(model= xgb, model_name ='XGBoost Classifier'))\n"
   ]
  },
  {
   "cell_type": "markdown",
   "metadata": {},
   "source": [
    "#### Accuracy Scores\n",
    "This metric aims to answer the following question: “of all the predictions made by the model, what percentage did it get correct?”. The correct predictions correspond to the True Positives and True Negatives"
   ]
  },
  {
   "cell_type": "code",
   "execution_count": 86,
   "metadata": {},
   "outputs": [
    {
     "data": {
      "text/html": [
       "<div>\n",
       "<style scoped>\n",
       "    .dataframe tbody tr th:only-of-type {\n",
       "        vertical-align: middle;\n",
       "    }\n",
       "\n",
       "    .dataframe tbody tr th {\n",
       "        vertical-align: top;\n",
       "    }\n",
       "\n",
       "    .dataframe thead th {\n",
       "        text-align: right;\n",
       "    }\n",
       "</style>\n",
       "<table border=\"1\" class=\"dataframe\">\n",
       "  <thead>\n",
       "    <tr style=\"text-align: right;\">\n",
       "      <th></th>\n",
       "      <th>accuracy:train</th>\n",
       "      <th>accuracy:test</th>\n",
       "      <th>accuracy:difference</th>\n",
       "    </tr>\n",
       "  </thead>\n",
       "  <tbody>\n",
       "    <tr>\n",
       "      <th>KNN Classifier</th>\n",
       "      <td>1.0</td>\n",
       "      <td>0.918367</td>\n",
       "      <td>0.081633</td>\n",
       "    </tr>\n",
       "    <tr>\n",
       "      <th>LGBM Classifier</th>\n",
       "      <td>1.0</td>\n",
       "      <td>0.938776</td>\n",
       "      <td>0.061224</td>\n",
       "    </tr>\n",
       "    <tr>\n",
       "      <th>XGBoost Classifier</th>\n",
       "      <td>1.0</td>\n",
       "      <td>0.938776</td>\n",
       "      <td>0.061224</td>\n",
       "    </tr>\n",
       "  </tbody>\n",
       "</table>\n",
       "</div>"
      ],
      "text/plain": [
       "                    accuracy:train  accuracy:test  accuracy:difference\n",
       "KNN Classifier                 1.0       0.918367             0.081633\n",
       "LGBM Classifier                1.0       0.938776             0.061224\n",
       "XGBoost Classifier             1.0       0.938776             0.061224"
      ]
     },
     "execution_count": 86,
     "metadata": {},
     "output_type": "execute_result"
    }
   ],
   "source": [
    "model_accuracy_reports"
   ]
  },
  {
   "cell_type": "markdown",
   "metadata": {},
   "source": [
    "#### Recall Scores\n",
    ">Specificity: This metric is very similar to sensitivity, and can be computed from the answer to this question: “how good was the model at predicting Actual NO events?”.\n",
    "\n",
    "\n",
    ">Sensitivity:\n",
    "To be able to get the sensitivity of the model, we have to answer the following question: “how good was the model at predicting Actual YES events?”, which can be seen as the flip of precision."
   ]
  },
  {
   "cell_type": "code",
   "execution_count": 87,
   "metadata": {},
   "outputs": [
    {
     "data": {
      "text/html": [
       "<div>\n",
       "<style scoped>\n",
       "    .dataframe tbody tr th:only-of-type {\n",
       "        vertical-align: middle;\n",
       "    }\n",
       "\n",
       "    .dataframe tbody tr th {\n",
       "        vertical-align: top;\n",
       "    }\n",
       "\n",
       "    .dataframe thead th {\n",
       "        text-align: right;\n",
       "    }\n",
       "</style>\n",
       "<table border=\"1\" class=\"dataframe\">\n",
       "  <thead>\n",
       "    <tr style=\"text-align: right;\">\n",
       "      <th></th>\n",
       "      <th>recall:train</th>\n",
       "      <th>recall:test</th>\n",
       "      <th>recall:difference</th>\n",
       "    </tr>\n",
       "  </thead>\n",
       "  <tbody>\n",
       "    <tr>\n",
       "      <th>KNN Classifier</th>\n",
       "      <td>1.0</td>\n",
       "      <td>1.000000</td>\n",
       "      <td>0.000000</td>\n",
       "    </tr>\n",
       "    <tr>\n",
       "      <th>LGBM Classifier</th>\n",
       "      <td>1.0</td>\n",
       "      <td>0.972973</td>\n",
       "      <td>0.027027</td>\n",
       "    </tr>\n",
       "    <tr>\n",
       "      <th>XGBoost Classifier</th>\n",
       "      <td>1.0</td>\n",
       "      <td>0.972973</td>\n",
       "      <td>0.027027</td>\n",
       "    </tr>\n",
       "  </tbody>\n",
       "</table>\n",
       "</div>"
      ],
      "text/plain": [
       "                    recall:train  recall:test  recall:difference\n",
       "KNN Classifier               1.0     1.000000           0.000000\n",
       "LGBM Classifier              1.0     0.972973           0.027027\n",
       "XGBoost Classifier           1.0     0.972973           0.027027"
      ]
     },
     "execution_count": 87,
     "metadata": {},
     "output_type": "execute_result"
    }
   ],
   "source": [
    "model_recall_report"
   ]
  },
  {
   "cell_type": "markdown",
   "metadata": {},
   "source": [
    "#### Precision Scores\n",
    "This is used to answer the following question: “of all the YES predictions, how many of them were correct?”"
   ]
  },
  {
   "cell_type": "code",
   "execution_count": 88,
   "metadata": {},
   "outputs": [
    {
     "data": {
      "text/html": [
       "<div>\n",
       "<style scoped>\n",
       "    .dataframe tbody tr th:only-of-type {\n",
       "        vertical-align: middle;\n",
       "    }\n",
       "\n",
       "    .dataframe tbody tr th {\n",
       "        vertical-align: top;\n",
       "    }\n",
       "\n",
       "    .dataframe thead th {\n",
       "        text-align: right;\n",
       "    }\n",
       "</style>\n",
       "<table border=\"1\" class=\"dataframe\">\n",
       "  <thead>\n",
       "    <tr style=\"text-align: right;\">\n",
       "      <th></th>\n",
       "      <th>precision:train</th>\n",
       "      <th>precision:test</th>\n",
       "      <th>precision:difference</th>\n",
       "    </tr>\n",
       "  </thead>\n",
       "  <tbody>\n",
       "    <tr>\n",
       "      <th>KNN Classifier</th>\n",
       "      <td>1.0</td>\n",
       "      <td>0.902439</td>\n",
       "      <td>0.097561</td>\n",
       "    </tr>\n",
       "    <tr>\n",
       "      <th>LGBM Classifier</th>\n",
       "      <td>1.0</td>\n",
       "      <td>0.947368</td>\n",
       "      <td>0.052632</td>\n",
       "    </tr>\n",
       "    <tr>\n",
       "      <th>XGBoost Classifier</th>\n",
       "      <td>1.0</td>\n",
       "      <td>0.947368</td>\n",
       "      <td>0.052632</td>\n",
       "    </tr>\n",
       "  </tbody>\n",
       "</table>\n",
       "</div>"
      ],
      "text/plain": [
       "                    precision:train  precision:test  precision:difference\n",
       "KNN Classifier                  1.0        0.902439              0.097561\n",
       "LGBM Classifier                 1.0        0.947368              0.052632\n",
       "XGBoost Classifier              1.0        0.947368              0.052632"
      ]
     },
     "execution_count": 88,
     "metadata": {},
     "output_type": "execute_result"
    }
   ],
   "source": [
    "model_precision_report"
   ]
  },
  {
   "cell_type": "markdown",
   "metadata": {},
   "source": [
    "#### AUC Scores"
   ]
  },
  {
   "cell_type": "code",
   "execution_count": 89,
   "metadata": {},
   "outputs": [
    {
     "data": {
      "text/html": [
       "<div>\n",
       "<style scoped>\n",
       "    .dataframe tbody tr th:only-of-type {\n",
       "        vertical-align: middle;\n",
       "    }\n",
       "\n",
       "    .dataframe tbody tr th {\n",
       "        vertical-align: top;\n",
       "    }\n",
       "\n",
       "    .dataframe thead th {\n",
       "        text-align: right;\n",
       "    }\n",
       "</style>\n",
       "<table border=\"1\" class=\"dataframe\">\n",
       "  <thead>\n",
       "    <tr style=\"text-align: right;\">\n",
       "      <th></th>\n",
       "      <th>AUC:train</th>\n",
       "      <th>AUC:test</th>\n",
       "      <th>AUC:difference</th>\n",
       "    </tr>\n",
       "  </thead>\n",
       "  <tbody>\n",
       "    <tr>\n",
       "      <th>KNN Classfier</th>\n",
       "      <td>1.0</td>\n",
       "      <td>0.975225</td>\n",
       "      <td>0.024775</td>\n",
       "    </tr>\n",
       "    <tr>\n",
       "      <th>LGBM Classifier</th>\n",
       "      <td>1.0</td>\n",
       "      <td>0.984234</td>\n",
       "      <td>0.015766</td>\n",
       "    </tr>\n",
       "    <tr>\n",
       "      <th>XGBoost Classifier</th>\n",
       "      <td>1.0</td>\n",
       "      <td>0.984234</td>\n",
       "      <td>0.015766</td>\n",
       "    </tr>\n",
       "  </tbody>\n",
       "</table>\n",
       "</div>"
      ],
      "text/plain": [
       "                    AUC:train  AUC:test  AUC:difference\n",
       "KNN Classfier             1.0  0.975225        0.024775\n",
       "LGBM Classifier           1.0  0.984234        0.015766\n",
       "XGBoost Classifier        1.0  0.984234        0.015766"
      ]
     },
     "execution_count": 89,
     "metadata": {},
     "output_type": "execute_result"
    }
   ],
   "source": [
    "model_AUC_report"
   ]
  },
  {
   "cell_type": "markdown",
   "metadata": {},
   "source": [
    "### Strategies to choose the right model based on the evaluation metric."
   ]
  },
  {
   "cell_type": "markdown",
   "metadata": {},
   "source": [
    "**Accuracy**\n",
    "\n",
    "This is the metric to use when:\n",
    "\n",
    ">The cost of False Positive and False Negative are roughly equal\n",
    "\n",
    ">The benefit of a True Positive and a True Negative are roughly equal\n",
    "\n",
    "**Recall**\n",
    "\n",
    "Using sensitivity and specificity aims to keep the number of False Negative and False Positive respectively as low as possible since we might want to increase the model sensitivity. Recall is the metric to use when:\n",
    "\n",
    ">The cost of False Negative is much higher than a False Positive\n",
    "\n",
    ">The cost of a True Negative is much higher than a True Positive\n",
    "\n",
    "**Precision**\n",
    "\n",
    "This is the metric to use when:\n",
    "\n",
    ">The cost of a False Positive is much higher than a False Negative\n",
    "\n",
    ">The Benefit of a True Positive is much higher than a True Negative\n",
    "\n",
    "**Chosen Evaluation Metric**\n",
    "\n",
    "This project aims at training a model to identify if a patient has a parkinson's disease or not, a False Negative might be very costly, because it might delay the treatment of the patient, which might even lead to death, because a quick identification of a disease could help for a better treatment. In the other hand, a False Positive may only lead to additional tests which might be financially costly but not as costly as the life of a human being. That being said, the chosen evaluation metric will be the **recall score.**"
   ]
  },
  {
   "cell_type": "markdown",
   "metadata": {
    "id": "sUuYBTEtSAzp"
   },
   "source": [
    "## Results\n",
    "\n",
    "\n",
    "All three models performed well on the training set. As for the testing set,the KNN model performed the best with a recall score of 1, it made no false negative error, which would have been very costly. The LGBM and XGB model had same recall score of .97.\n",
    "\n",
    "## Conclusion\n",
    "Three models, KNN, LGBM,and XGB, were built and tunned for the detection of early stage parkinson's disease, out of these models, the KNN model is the most suitable model with a high recall score of 1.\n",
    "\n"
   ]
  },
  {
   "cell_type": "markdown",
   "metadata": {},
   "source": [
    "## Recommendation\n",
    "The primary rationales for early detection and initiation of treatment in patients with PD include slowing disease progression, delaying and diminishing symptoms (both motor and nonmotor), limiting deterioration of patient quality of life (QoL), and achieving long-term cost savings.The KNN model, with its tunned parameters can be used to accurately predict the early stage of Parkinson's disease in individuals, using the voice analysis. "
   ]
  }
 ],
 "metadata": {
  "colab": {
   "authorship_tag": "ABX9TyPruqURdXm71xwPDyBXdYq6",
   "collapsed_sections": [],
   "mount_file_id": "1ghGwR18shCKdNhbyuQS30qCXMvVny4R7",
   "name": "Machine Learning__Prediction of Parkinson's Disease.ipynb",
   "provenance": [
    {
     "file_id": "1rvUBfHCTAdXOQrMuObFKwfrUwdyWeSRM",
     "timestamp": 1647579931532
    },
    {
     "file_id": "134Bik7epoVu9gk3TADNJeyTKSHA8VLgm",
     "timestamp": 1647494128221
    }
   ]
  },
  "kernelspec": {
   "display_name": "Python 3 (ipykernel)",
   "language": "python",
   "name": "python3"
  },
  "language_info": {
   "codemirror_mode": {
    "name": "ipython",
    "version": 3
   },
   "file_extension": ".py",
   "mimetype": "text/x-python",
   "name": "python",
   "nbconvert_exporter": "python",
   "pygments_lexer": "ipython3",
   "version": "3.7.12"
  },
  "toc": {
   "base_numbering": 1,
   "nav_menu": {},
   "number_sections": false,
   "sideBar": true,
   "skip_h1_title": false,
   "title_cell": "Table of Contents",
   "title_sidebar": "Contents",
   "toc_cell": false,
   "toc_position": {
    "height": "calc(100% - 180px)",
    "left": "10px",
    "top": "150px",
    "width": "165px"
   },
   "toc_section_display": true,
   "toc_window_display": false
  }
 },
 "nbformat": 4,
 "nbformat_minor": 1
}
