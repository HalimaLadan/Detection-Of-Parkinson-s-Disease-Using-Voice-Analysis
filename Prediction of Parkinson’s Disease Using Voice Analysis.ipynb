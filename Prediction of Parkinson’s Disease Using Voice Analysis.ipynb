{
 "cells": [
  {
   "cell_type": "markdown",
   "metadata": {
    "id": "9lQ7x8zHYNrr"
   },
   "source": [
    "# Prediction of Parkinson’s Disease Using Voice Analysis\n",
    "\n",
    "\n",
    "> - ###  Halima Bulama-Ladan\n",
    "> - ### 03/16/2022\n",
    "\n",
    "\n",
    "\n"
   ]
  },
  {
   "cell_type": "markdown",
   "metadata": {
    "id": "LxL1j97scwYC"
   },
   "source": [
    "## Parkinson's Disease:\n",
    "\n",
    "\n",
    "> Parkinson's disease is an ongoing, progressive disease of the nervous system that affects a patient's movement. Millions of individuals worldwide are diagnosed with Parkinson's disease. The cause of Parkinson's disease is presently not known. However, research attributes the disease to a combination of genetic and environmental factors. Age also plays a role. Most cases of Parkinson's disease begins after an individual is sixty years old.\n",
    "\n",
    ">Unfortunately, there is currently no cure for Parkinson's disease. There are, however, medications to surpress the symptoms of the disease. Occupational therapy is also plays a huge part of treating Parkinson's disease. Overall, this condition requires intense treatment and symptom management for a patient to live a full life.\n",
    "\n",
    "## Major Early Symptom:\n",
    "\n",
    ">Parkinson’s disease patients typically have a low-volume voice with a monotone (expressionless) quality. The speech pattern is often produced in short bursts with inappropriate silences between words and long pauses before initiating speech. The speech may also be slurred. A small percentage of patients (about 15 percent) may also have a tremulous voice\n",
    "\n",
    "\n",
    "\n"
   ]
  },
  {
   "cell_type": "markdown",
   "metadata": {
    "id": "XBS1YVDhdk9s"
   },
   "source": [
    "## Project Objectives:\n",
    "\n",
    "\n",
    "> The objectives of this project, is to build three different models using Random Forest Classifier, LGBMClassifier, XGBClassifier respectively to detect the presence of the disease in individuals at an early stage, using voice analysis. The performance of the three models will be evaluated using evaluation metric and the model with the best scores will be chosen.\n",
    "\n"
   ]
  },
  {
   "cell_type": "markdown",
   "metadata": {
    "id": "NvkU-5vBUh1J"
   },
   "source": [
    "# Importing Libraries"
   ]
  },
  {
   "cell_type": "code",
   "execution_count": null,
   "metadata": {
    "executionInfo": {
     "elapsed": 14,
     "status": "ok",
     "timestamp": 1649969526322,
     "user": {
      "displayName": "Halima Ladan",
      "userId": "13376351725036595186"
     },
     "user_tz": 240
    },
    "id": "wHdyeloEYxZ1"
   },
   "outputs": [],
   "source": [
    "import pandas as pd\n",
    "import numpy as np\n",
    "import matplotlib.pyplot as plt\n",
    "import seaborn as sns\n",
    "\n",
    "\n",
    "from sklearn.model_selection import train_test_split, GridSearchCV\n",
    "from sklearn.preprocessing import StandardScaler, OneHotEncoder, LabelEncoder\n",
    "from sklearn.compose import make_column_selector, make_column_transformer\n",
    "from sklearn.pipeline import make_pipeline\n",
    "from imblearn.over_sampling import SMOTE\n",
    "from imblearn.pipeline import Pipeline\n",
    "from sklearn import set_config\n",
    "from sklearn.impute import SimpleImputer\n",
    "set_config(display = \"diagram\")\n",
    "from sklearn.decomposition import PCA\n",
    "from sklearn.cluster import KMeans\n",
    "from sklearn.metrics import silhouette_score\n",
    "\n",
    "from sklearn.neighbors import KNeighborsClassifier\n",
    "from sklearn.ensemble import RandomForestClassifier\n",
    "from lightgbm import LGBMClassifier\n",
    "from xgboost import XGBClassifier\n",
    "from sklearn.metrics import classification_report, ConfusionMatrixDisplay, get_scorer, accuracy_score, recall_score, precision_score"
   ]
  },
  {
   "cell_type": "markdown",
   "metadata": {
    "id": "jSfG0nmagaKT"
   },
   "source": [
    "#**Source of Data**\n",
    "\n",
    "> The source of data for this project can be found [here](https://archive.ics.uci.edu/ml/machine-learning-databases/parkinsons/).                  \n",
    "\n",
    "\n"
   ]
  },
  {
   "cell_type": "markdown",
   "metadata": {
    "id": "ddgDnpGdft1g"
   },
   "source": [
    "##**Loading DataSet**"
   ]
  },
  {
   "cell_type": "code",
   "execution_count": null,
   "metadata": {
    "colab": {
     "base_uri": "https://localhost:8080/",
     "height": 299
    },
    "executionInfo": {
     "elapsed": 13,
     "status": "ok",
     "timestamp": 1649969526322,
     "user": {
      "displayName": "Halima Ladan",
      "userId": "13376351725036595186"
     },
     "user_tz": 240
    },
    "id": "aFPHJVT-ldL3",
    "outputId": "5b80a88d-c2ff-4184-b699-8ce3c76b54c6"
   },
   "outputs": [],
   "source": [
    "df =pd.read_csv(\"/content/parkinsons.data\")\n",
    "df.head()"
   ]
  },
  {
   "cell_type": "markdown",
   "metadata": {
    "id": "l9pP1HMHf2_V"
   },
   "source": [
    "##**Data Information**"
   ]
  },
  {
   "cell_type": "code",
   "execution_count": null,
   "metadata": {
    "colab": {
     "base_uri": "https://localhost:8080/"
    },
    "executionInfo": {
     "elapsed": 11,
     "status": "ok",
     "timestamp": 1649969526322,
     "user": {
      "displayName": "Halima Ladan",
      "userId": "13376351725036595186"
     },
     "user_tz": 240
    },
    "id": "2bCoCzsjl2Gf",
    "outputId": "54a2a829-0563-4538-b11f-877f9efb21c1"
   },
   "outputs": [],
   "source": [
    "df.info()\n",
    "#There are 195 rows and 24 columns."
   ]
  },
  {
   "cell_type": "markdown",
   "metadata": {
    "id": "kId4ELuFgK6Y"
   },
   "source": [
    "##**Data Types**"
   ]
  },
  {
   "cell_type": "code",
   "execution_count": null,
   "metadata": {
    "colab": {
     "base_uri": "https://localhost:8080/"
    },
    "executionInfo": {
     "elapsed": 6,
     "status": "ok",
     "timestamp": 1649969526322,
     "user": {
      "displayName": "Halima Ladan",
      "userId": "13376351725036595186"
     },
     "user_tz": 240
    },
    "id": "1sGY4CW0gXdi",
    "outputId": "99c755fc-4862-44ba-d7aa-726a3c4019ce"
   },
   "outputs": [],
   "source": [
    "df.dtypes"
   ]
  },
  {
   "cell_type": "markdown",
   "metadata": {
    "id": "dLh-fX0zgrEa"
   },
   "source": [
    "##**Data Statistics**"
   ]
  },
  {
   "cell_type": "code",
   "execution_count": null,
   "metadata": {
    "colab": {
     "base_uri": "https://localhost:8080/",
     "height": 394
    },
    "executionInfo": {
     "elapsed": 262,
     "status": "ok",
     "timestamp": 1649969526580,
     "user": {
      "displayName": "Halima Ladan",
      "userId": "13376351725036595186"
     },
     "user_tz": 240
    },
    "id": "U7tqKU9OnPOv",
    "outputId": "3c570841-2a7f-49ba-959e-3436d2a896b4"
   },
   "outputs": [],
   "source": [
    "df.describe().round(4)"
   ]
  },
  {
   "cell_type": "markdown",
   "metadata": {
    "id": "3Ui01t1ZKJf5"
   },
   "source": [
    "Some columns have been observed to contain outliers. This will be investigated further and the neccessary action would be taken."
   ]
  },
  {
   "cell_type": "markdown",
   "metadata": {
    "id": "6ea2cJeBgCoM"
   },
   "source": [
    "#**Data Cleaning Process**"
   ]
  },
  {
   "cell_type": "markdown",
   "metadata": {
    "id": "88sPgOU3hD6Z"
   },
   "source": [
    "##**Irrelevant Columns**"
   ]
  },
  {
   "cell_type": "markdown",
   "metadata": {
    "id": "aVUGWLigiet1"
   },
   "source": [
    "The names of the individuals whose voices were recorded for this data set is of no relevance to this project and hence will be dropped."
   ]
  },
  {
   "cell_type": "code",
   "execution_count": null,
   "metadata": {
    "colab": {
     "base_uri": "https://localhost:8080/",
     "height": 456
    },
    "executionInfo": {
     "elapsed": 14,
     "status": "ok",
     "timestamp": 1649969526581,
     "user": {
      "displayName": "Halima Ladan",
      "userId": "13376351725036595186"
     },
     "user_tz": 240
    },
    "id": "n14Ej1Zfmvkd",
    "outputId": "fc65198f-5c00-440f-b4d1-b6fac6b4a077"
   },
   "outputs": [],
   "source": [
    "#Column \"name\" is not relevant to the prediction.\n",
    "df = df.drop(columns = \"name\")\n",
    "#Confirming changes\n",
    "df.head(10)"
   ]
  },
  {
   "cell_type": "markdown",
   "metadata": {
    "id": "APLCbkJLhz4w"
   },
   "source": [
    "##**Removal of Duplicates**"
   ]
  },
  {
   "cell_type": "code",
   "execution_count": null,
   "metadata": {
    "colab": {
     "base_uri": "https://localhost:8080/"
    },
    "executionInfo": {
     "elapsed": 13,
     "status": "ok",
     "timestamp": 1649969526581,
     "user": {
      "displayName": "Halima Ladan",
      "userId": "13376351725036595186"
     },
     "user_tz": 240
    },
    "id": "kDj-uHA7nEsX",
    "outputId": "8c78bee6-6163-48fe-c1ab-095197b5e01f"
   },
   "outputs": [],
   "source": [
    "print(f'Duplicates: {df.duplicated().sum()}')"
   ]
  },
  {
   "cell_type": "markdown",
   "metadata": {
    "id": "KI-sIpT_iCn_"
   },
   "source": [
    "There are no duplicates in this data set."
   ]
  },
  {
   "cell_type": "markdown",
   "metadata": {
    "id": "j-e0jBxni1qY"
   },
   "source": [
    "##**Checking for null Values**"
   ]
  },
  {
   "cell_type": "code",
   "execution_count": null,
   "metadata": {
    "colab": {
     "base_uri": "https://localhost:8080/"
    },
    "executionInfo": {
     "elapsed": 12,
     "status": "ok",
     "timestamp": 1649969526582,
     "user": {
      "displayName": "Halima Ladan",
      "userId": "13376351725036595186"
     },
     "user_tz": 240
    },
    "id": "XtTVwyW9nKna",
    "outputId": "32ae2d80-cded-4f88-d8da-efa83e78dc3a"
   },
   "outputs": [],
   "source": [
    "df.isnull().sum()\n",
    "#There are no null values in this data set"
   ]
  },
  {
   "cell_type": "markdown",
   "metadata": {
    "id": "ASgTPIIAiKRM"
   },
   "source": [
    "There are no null values in this data set."
   ]
  },
  {
   "cell_type": "markdown",
   "metadata": {
    "id": "bz-VAXObjDl4"
   },
   "source": [
    "##**Checking of inconsistencies(Outliers) in data**"
   ]
  },
  {
   "cell_type": "markdown",
   "metadata": {
    "id": "2RsYbBEsI-zb"
   },
   "source": [
    "####**Outliers**"
   ]
  },
  {
   "cell_type": "code",
   "execution_count": null,
   "metadata": {
    "colab": {
     "base_uri": "https://localhost:8080/"
    },
    "executionInfo": {
     "elapsed": 10,
     "status": "ok",
     "timestamp": 1649969526582,
     "user": {
      "displayName": "Halima Ladan",
      "userId": "13376351725036595186"
     },
     "user_tz": 240
    },
    "id": "VQkwkpt0BdT6",
    "outputId": "5817498e-4f9c-4353-a92b-887973f61508"
   },
   "outputs": [],
   "source": [
    "#Creating a funcution to check outliers across all columns.\n",
    "\n",
    "for column_name in df.columns:\n",
    "   q1 = df[column_name].quantile(0.25) # 25th percentile\n",
    "   q3 = df[column_name].quantile(0.75) # 75th percentile\n",
    "   iqr = q3 - q1 # Interquartile range\n",
    "\n",
    "   low_limit = q1 - (1.5 * iqr) # low limit\n",
    "   high_limit = q3 + (1.5 * iqr) # high limit\n",
    "\n",
    "# Create outlier dataframes\n",
    "   low_df = df[(df[column_name] < low_limit)]\n",
    "   high_df = df[(df[column_name] > high_limit)]\n",
    "\n",
    "# Calculate the outlier counts and percentages\n",
    "   low_oulier_count = low_df.shape[0]\n",
    "   low_outlier_percentge = round(((low_oulier_count)/(df.shape[0])*100),1)\n",
    "   high_oulier_count = high_df.shape[0]\n",
    "   high_outlier_percentge = round(((high_oulier_count)/(df.shape[0])*100),1)\n",
    "\n",
    "  \n",
    "   print(f'\\n{column_name}:\\n  Low Outliers:{low_oulier_count} ({low_outlier_percentge}%),          High Outliers: {high_oulier_count} ({high_outlier_percentge}%)')\n",
    "  "
   ]
  },
  {
   "cell_type": "markdown",
   "metadata": {
    "id": "XahpVEgaKvVe"
   },
   "source": [
    "The outliers of each column are less than 8% of the total percentage of values of the column, therefore all enteries with outliers will be located and dropped."
   ]
  },
  {
   "cell_type": "markdown",
   "metadata": {
    "id": "eexqjQiIThnz"
   },
   "source": [
    "###**Exploring relations between all features and target feature, \"status\" using a barchart and a boxplot and removing outliers along the way**"
   ]
  },
  {
   "cell_type": "code",
   "execution_count": null,
   "metadata": {
    "executionInfo": {
     "elapsed": 7,
     "status": "ok",
     "timestamp": 1649969526582,
     "user": {
      "displayName": "Halima Ladan",
      "userId": "13376351725036595186"
     },
     "user_tz": 240
    },
    "id": "VVxyRpjV8RgP"
   },
   "outputs": [],
   "source": [
    "def bar (u,v):\n",
    "  plt.rcParams[\"figure.figsize\"] = [28, 6]\n",
    "  f, axes =plt.subplots(1,4)\n",
    "  sns.set_theme(style=\"whitegrid\")\n",
    "  sns.barplot(ax = axes[0], x=\"status\", y=u, data=df)\n",
    "  sns.boxplot(ax = axes[1], x=\"status\", y=u, data=df)\n",
    "  sns.barplot(ax = axes[2], x=\"status\", y=v, data=df)\n",
    "  sns.boxplot(ax = axes[3], x=\"status\", y=v, data=df)\n",
    "\n"
   ]
  },
  {
   "cell_type": "code",
   "execution_count": null,
   "metadata": {
    "executionInfo": {
     "elapsed": 6,
     "status": "ok",
     "timestamp": 1649969526582,
     "user": {
      "displayName": "Halima Ladan",
      "userId": "13376351725036595186"
     },
     "user_tz": 240
    },
    "id": "Hi8X2sJbL8Xj"
   },
   "outputs": [],
   "source": [
    "def outliers (column_name, num):\n",
    "  df[column_name] > num\n",
    "  print( df[df[column_name] > num].index)\n"
   ]
  },
  {
   "cell_type": "code",
   "execution_count": null,
   "metadata": {
    "colab": {
     "base_uri": "https://localhost:8080/",
     "height": 205
    },
    "executionInfo": {
     "elapsed": 756,
     "status": "ok",
     "timestamp": 1649969527332,
     "user": {
      "displayName": "Halima Ladan",
      "userId": "13376351725036595186"
     },
     "user_tz": 240
    },
    "id": "3izL7_Ih9U_r",
    "outputId": "5e5e4a62-8aef-489b-c038-a20f03c6257c"
   },
   "outputs": [],
   "source": [
    "bar(\"MDVP:Fo(Hz)\", \"MDVP:Fhi(Hz)\")"
   ]
  },
  {
   "cell_type": "markdown",
   "metadata": {
    "id": "jXUcfdyiT1TC"
   },
   "source": [
    "Individuals with PD have a lower MDVP:fo(HZ) and MDVP:fhi(HZ) than those who dont have it. No outliers were found for the MDVP:fo(HZ) but the MDVP:fhi(HZ) had some outliers as seen in the boxplot. "
   ]
  },
  {
   "cell_type": "code",
   "execution_count": null,
   "metadata": {
    "colab": {
     "base_uri": "https://localhost:8080/"
    },
    "executionInfo": {
     "elapsed": 7,
     "status": "ok",
     "timestamp": 1649969527332,
     "user": {
      "displayName": "Halima Ladan",
      "userId": "13376351725036595186"
     },
     "user_tz": 240
    },
    "id": "7KTIH5pcVeWx",
    "outputId": "1f6ac6a4-23a0-4342-d2de-219944c47837"
   },
   "outputs": [],
   "source": [
    "#Locating the index numbers of enteries with outlier values.\n",
    "outliers(\"MDVP:Fhi(Hz)\", 400)"
   ]
  },
  {
   "cell_type": "code",
   "execution_count": null,
   "metadata": {
    "colab": {
     "base_uri": "https://localhost:8080/",
     "height": 205
    },
    "executionInfo": {
     "elapsed": 829,
     "status": "ok",
     "timestamp": 1649969528158,
     "user": {
      "displayName": "Halima Ladan",
      "userId": "13376351725036595186"
     },
     "user_tz": 240
    },
    "id": "goeHWm5MQVKP",
    "outputId": "1775d1c9-d510-4ab0-e2f3-f2318d4055d6"
   },
   "outputs": [],
   "source": [
    "bar(\"MDVP:Flo(Hz)\", \"MDVP:Jitter(%)\")"
   ]
  },
  {
   "cell_type": "markdown",
   "metadata": {
    "id": "KfLQb6c_VJZg"
   },
   "source": [
    "The MDVP:Flo(Hz) appears to be higher in those with PD and lower in those without it. The MDVP:Jitter(%) however is lower in those with PD and higher in those without it. It also contains some outliers. "
   ]
  },
  {
   "cell_type": "code",
   "execution_count": null,
   "metadata": {
    "colab": {
     "base_uri": "https://localhost:8080/"
    },
    "executionInfo": {
     "elapsed": 10,
     "status": "ok",
     "timestamp": 1649969528158,
     "user": {
      "displayName": "Halima Ladan",
      "userId": "13376351725036595186"
     },
     "user_tz": 240
    },
    "id": "lWpmAxUEVrm5",
    "outputId": "6be5fcd3-e780-4049-b16c-dbf5b527b76b"
   },
   "outputs": [],
   "source": [
    "#Locating the index numbers of enteries with outlier values.\n",
    "outliers(\"MDVP:Jitter(%)\", 0.013)"
   ]
  },
  {
   "cell_type": "code",
   "execution_count": null,
   "metadata": {
    "colab": {
     "base_uri": "https://localhost:8080/",
     "height": 203
    },
    "executionInfo": {
     "elapsed": 786,
     "status": "ok",
     "timestamp": 1649969528940,
     "user": {
      "displayName": "Halima Ladan",
      "userId": "13376351725036595186"
     },
     "user_tz": 240
    },
    "id": "J1KQemi9Qkck",
    "outputId": "7458233c-4d1a-40c1-ecb1-0e4ddf72a23c"
   },
   "outputs": [],
   "source": [
    "bar(\"MDVP:PPQ\",\"Jitter:DDP\")"
   ]
  },
  {
   "cell_type": "markdown",
   "metadata": {
    "id": "REycDIDNCplg"
   },
   "source": [
    "Both MDVP:PPQ and Jitter:DDP have lower values in PD patients than that of those without it and They both contain outliers."
   ]
  },
  {
   "cell_type": "code",
   "execution_count": null,
   "metadata": {
    "colab": {
     "base_uri": "https://localhost:8080/"
    },
    "executionInfo": {
     "elapsed": 10,
     "status": "ok",
     "timestamp": 1649969528940,
     "user": {
      "displayName": "Halima Ladan",
      "userId": "13376351725036595186"
     },
     "user_tz": 240
    },
    "id": "xNTO7FyTgJuA",
    "outputId": "689394c1-d808-41bd-9f6e-a1d59c0f2da3"
   },
   "outputs": [],
   "source": [
    "#Locating the index numbers of enteries with outlier values.\n",
    "outliers(\"MDVP:PPQ\",0.007)\n",
    "outliers(\"Jitter:DDP\", 0.02)"
   ]
  },
  {
   "cell_type": "code",
   "execution_count": null,
   "metadata": {
    "colab": {
     "base_uri": "https://localhost:8080/",
     "height": 212
    },
    "executionInfo": {
     "elapsed": 952,
     "status": "ok",
     "timestamp": 1649969529888,
     "user": {
      "displayName": "Halima Ladan",
      "userId": "13376351725036595186"
     },
     "user_tz": 240
    },
    "id": "2LUqsOKhCqFA",
    "outputId": "076820b0-1fb1-4596-cb02-c8f7dcf6763a"
   },
   "outputs": [],
   "source": [
    "bar(\"MDVP:Jitter(Abs)\",\"MDVP:RAP\")"
   ]
  },
  {
   "cell_type": "markdown",
   "metadata": {
    "id": "eXozIkGwWSU7"
   },
   "source": [
    "The values in MDVP:Jitter(Abs) and MDVP:RAP are much lower in individuals with PD than those without it and they both contain outliers."
   ]
  },
  {
   "cell_type": "code",
   "execution_count": null,
   "metadata": {
    "colab": {
     "base_uri": "https://localhost:8080/"
    },
    "executionInfo": {
     "elapsed": 6,
     "status": "ok",
     "timestamp": 1649969529889,
     "user": {
      "displayName": "Halima Ladan",
      "userId": "13376351725036595186"
     },
     "user_tz": 240
    },
    "id": "4MIlhqjJhg__",
    "outputId": "60c94e30-a330-439f-86f6-5ecc9bd52efd"
   },
   "outputs": [],
   "source": [
    "#Locating the index numbers of enteries with outlier values.\n",
    "outliers(\"MDVP:Jitter(Abs)\",0.00010)\n",
    "outliers(\"MDVP:RAP\",0.007)"
   ]
  },
  {
   "cell_type": "code",
   "execution_count": null,
   "metadata": {
    "colab": {
     "base_uri": "https://localhost:8080/",
     "height": 203
    },
    "executionInfo": {
     "elapsed": 673,
     "status": "ok",
     "timestamp": 1649969530559,
     "user": {
      "displayName": "Halima Ladan",
      "userId": "13376351725036595186"
     },
     "user_tz": 240
    },
    "id": "GZvUFxoHQsJW",
    "outputId": "f1b54070-e362-45ed-b05b-62cf4455a4c3"
   },
   "outputs": [],
   "source": [
    "bar(\"MDVP:PPQ\",\"Jitter:DDP\")"
   ]
  },
  {
   "cell_type": "markdown",
   "metadata": {
    "id": "x0znM75PDmEu"
   },
   "source": [
    "The two features, MDVP:PPQ and Jitter:DDP are both higher in individuals without PD and lower in those out it. There are outliers present in both features."
   ]
  },
  {
   "cell_type": "code",
   "execution_count": null,
   "metadata": {
    "colab": {
     "base_uri": "https://localhost:8080/"
    },
    "executionInfo": {
     "elapsed": 9,
     "status": "ok",
     "timestamp": 1649969530559,
     "user": {
      "displayName": "Halima Ladan",
      "userId": "13376351725036595186"
     },
     "user_tz": 240
    },
    "id": "EMTfAmI7iMMw",
    "outputId": "b015f570-ba98-4bf1-db6e-34da77fc755c"
   },
   "outputs": [],
   "source": [
    "#Locating the index numbers of enteries with outlier values.\n",
    "outliers(\"MDVP:PPQ\",0.007)\n",
    "outliers(\"Jitter:DDP\", 0.02)"
   ]
  },
  {
   "cell_type": "code",
   "execution_count": null,
   "metadata": {
    "colab": {
     "base_uri": "https://localhost:8080/",
     "height": 203
    },
    "executionInfo": {
     "elapsed": 664,
     "status": "ok",
     "timestamp": 1649969531220,
     "user": {
      "displayName": "Halima Ladan",
      "userId": "13376351725036595186"
     },
     "user_tz": 240
    },
    "id": "GcYgdeB7DmmD",
    "outputId": "ab25f2c7-ceb8-40af-a614-e53b9876c7ea"
   },
   "outputs": [],
   "source": [
    "bar(\"MDVP:Shimmer\", \"MDVP:Shimmer(dB)\")"
   ]
  },
  {
   "cell_type": "markdown",
   "metadata": {
    "id": "CfdtyG1GTzo0"
   },
   "source": [
    "MDVP:Shimmer and MDVP:Shimmer(dB) are both higher in individuals with PD than those without it."
   ]
  },
  {
   "cell_type": "code",
   "execution_count": null,
   "metadata": {
    "colab": {
     "base_uri": "https://localhost:8080/"
    },
    "executionInfo": {
     "elapsed": 9,
     "status": "ok",
     "timestamp": 1649969531221,
     "user": {
      "displayName": "Halima Ladan",
      "userId": "13376351725036595186"
     },
     "user_tz": 240
    },
    "id": "0dK_-yGAiy2n",
    "outputId": "8437f40d-0890-4110-996e-8db2fe685780"
   },
   "outputs": [],
   "source": [
    "#Locating the index numbers of enteries with outlier values.\n",
    "outliers(\"MDVP:Shimmer\",0.075)\n",
    "outliers(\"MDVP:Shimmer(dB)\", 0.7)"
   ]
  },
  {
   "cell_type": "code",
   "execution_count": null,
   "metadata": {
    "colab": {
     "base_uri": "https://localhost:8080/",
     "height": 202
    },
    "executionInfo": {
     "elapsed": 821,
     "status": "ok",
     "timestamp": 1649969532038,
     "user": {
      "displayName": "Halima Ladan",
      "userId": "13376351725036595186"
     },
     "user_tz": 240
    },
    "id": "aH2KxoFgQ0ZW",
    "outputId": "9c32e436-d9bd-4b53-be51-516553c7dcb5"
   },
   "outputs": [],
   "source": [
    "bar(\"Shimmer:APQ3\", \"Shimmer:APQ5\")"
   ]
  },
  {
   "cell_type": "markdown",
   "metadata": {
    "id": "VMvEK-7vFd9n"
   },
   "source": [
    "Shimmer APQ3 and Shimmer APQ5 are both higher in individuals with PD than those without the disease."
   ]
  },
  {
   "cell_type": "code",
   "execution_count": null,
   "metadata": {
    "colab": {
     "base_uri": "https://localhost:8080/",
     "height": 203
    },
    "executionInfo": {
     "elapsed": 703,
     "status": "ok",
     "timestamp": 1649969532738,
     "user": {
      "displayName": "Halima Ladan",
      "userId": "13376351725036595186"
     },
     "user_tz": 240
    },
    "id": "2TXXcV9dFfb4",
    "outputId": "28ecbe57-fc9f-4e77-be6b-0d0ca7a32e96"
   },
   "outputs": [],
   "source": [
    "bar(\"MDVP:APQ\",\"Shimmer:DDA\")"
   ]
  },
  {
   "cell_type": "code",
   "execution_count": null,
   "metadata": {
    "colab": {
     "base_uri": "https://localhost:8080/"
    },
    "executionInfo": {
     "elapsed": 9,
     "status": "ok",
     "timestamp": 1649969532739,
     "user": {
      "displayName": "Halima Ladan",
      "userId": "13376351725036595186"
     },
     "user_tz": 240
    },
    "id": "JE8gEN8yjKYf",
    "outputId": "7c2d1263-e7c9-45b2-dd83-48fdcd9a1966"
   },
   "outputs": [],
   "source": [
    "#Locating the index numbers of enteries with outlier values.\n",
    "outliers(\"MDVP:APQ\",0.06)\n",
    "outliers(\"Shimmer:DDA\", 0.12)"
   ]
  },
  {
   "cell_type": "markdown",
   "metadata": {
    "id": "6Qr_YbxJUVvl"
   },
   "source": [
    "The same thing here for MDVP: APQ and Shimmer:DDA, they are higher in individuals with the disease and lower in those without it."
   ]
  },
  {
   "cell_type": "code",
   "execution_count": null,
   "metadata": {
    "colab": {
     "base_uri": "https://localhost:8080/",
     "height": 203
    },
    "executionInfo": {
     "elapsed": 744,
     "status": "ok",
     "timestamp": 1649969533479,
     "user": {
      "displayName": "Halima Ladan",
      "userId": "13376351725036595186"
     },
     "user_tz": 240
    },
    "id": "0XCsyVkfQ9oU",
    "outputId": "aad37912-c89a-46df-b1a4-68d31efd5c1a"
   },
   "outputs": [],
   "source": [
    "bar(\"NHR\", \"HNR\")"
   ]
  },
  {
   "cell_type": "markdown",
   "metadata": {
    "id": "Zg3bx0ImF5jB"
   },
   "source": [
    "Here The NHR is lower in PD negative individuals and higher in PD positive individuals, while the HNR is higher in those without the disease than those without it."
   ]
  },
  {
   "cell_type": "code",
   "execution_count": null,
   "metadata": {
    "colab": {
     "base_uri": "https://localhost:8080/"
    },
    "executionInfo": {
     "elapsed": 9,
     "status": "ok",
     "timestamp": 1649969533480,
     "user": {
      "displayName": "Halima Ladan",
      "userId": "13376351725036595186"
     },
     "user_tz": 240
    },
    "id": "Ep79kcO9jY7r",
    "outputId": "4ddc8ecf-cb3b-42ed-e353-be753924d65e"
   },
   "outputs": [],
   "source": [
    "#Locating the index numbers of enteries with outlier values.\n",
    "outliers(\"NHR\",0.05)\n",
    "outliers(\"HNR\", 30)"
   ]
  },
  {
   "cell_type": "code",
   "execution_count": null,
   "metadata": {
    "colab": {
     "base_uri": "https://localhost:8080/",
     "height": 205
    },
    "executionInfo": {
     "elapsed": 713,
     "status": "ok",
     "timestamp": 1649969534189,
     "user": {
      "displayName": "Halima Ladan",
      "userId": "13376351725036595186"
     },
     "user_tz": 240
    },
    "id": "sNXooyMjF59G",
    "outputId": "392c22c6-6e89-460c-8547-072a24afe630"
   },
   "outputs": [],
   "source": [
    "bar(\"RPDE\", \"DFA\")"
   ]
  },
  {
   "cell_type": "markdown",
   "metadata": {
    "id": "XERezy7OVfK2"
   },
   "source": [
    "RPDE is higher in PD positive individuals and lower in PD negative individuals. As for DFA, There is only a slight difference between those with and without the disease. It is high in both positive and negative individuals, although it is slightly higher in PD positive individuals."
   ]
  },
  {
   "cell_type": "code",
   "execution_count": null,
   "metadata": {
    "colab": {
     "base_uri": "https://localhost:8080/",
     "height": 207
    },
    "executionInfo": {
     "elapsed": 724,
     "status": "ok",
     "timestamp": 1649969534910,
     "user": {
      "displayName": "Halima Ladan",
      "userId": "13376351725036595186"
     },
     "user_tz": 240
    },
    "id": "VAX_ubxgRCrL",
    "outputId": "be1384c0-093a-474b-e822-5b2b6e60a0ec"
   },
   "outputs": [],
   "source": [
    "bar(\"spread1\",\"spread2\")"
   ]
  },
  {
   "cell_type": "markdown",
   "metadata": {
    "id": "c3idPqNRGSc9"
   },
   "source": [
    "Notice the values in spread1 are higher in PD positive and lower negative individuals.The both start from below zero(0). Spread2 can also be seen to be higher in PD positive and lower in PD negative."
   ]
  },
  {
   "cell_type": "code",
   "execution_count": null,
   "metadata": {
    "colab": {
     "base_uri": "https://localhost:8080/",
     "height": 205
    },
    "executionInfo": {
     "elapsed": 510,
     "status": "ok",
     "timestamp": 1649969535417,
     "user": {
      "displayName": "Halima Ladan",
      "userId": "13376351725036595186"
     },
     "user_tz": 240
    },
    "id": "T0JvkbHlGS8f",
    "outputId": "3c23ece7-dce1-4957-8329-3ef5364ec0cd"
   },
   "outputs": [],
   "source": [
    "bar(\"D2\", \"PPE\")"
   ]
  },
  {
   "cell_type": "markdown",
   "metadata": {
    "id": "LqAP_fF1oAxY"
   },
   "source": [
    "Both D2 and PPE are lower in PD negative and higher in PD positive."
   ]
  },
  {
   "cell_type": "code",
   "execution_count": null,
   "metadata": {
    "colab": {
     "base_uri": "https://localhost:8080/"
    },
    "executionInfo": {
     "elapsed": 214,
     "status": "ok",
     "timestamp": 1649969535623,
     "user": {
      "displayName": "Halima Ladan",
      "userId": "13376351725036595186"
     },
     "user_tz": 240
    },
    "id": "QApEIPTrjqb4",
    "outputId": "fdb1b7a3-6026-47f7-f0f8-471904dd1de3"
   },
   "outputs": [],
   "source": [
    "#Locating the index numbers of enteries with outlier values.\n",
    "outliers(\"D2\",3.4)\n",
    "outliers(\"PPE\",0.41)"
   ]
  },
  {
   "cell_type": "markdown",
   "metadata": {
    "id": "QtmCNut7r8QQ"
   },
   "source": [
    "#**Dropping extreme outliers**"
   ]
  },
  {
   "cell_type": "code",
   "execution_count": null,
   "metadata": {
    "executionInfo": {
     "elapsed": 3,
     "status": "ok",
     "timestamp": 1649969535624,
     "user": {
      "displayName": "Halima Ladan",
      "userId": "13376351725036595186"
     },
     "user_tz": 240
    },
    "id": "AFrtnxh1nNzB"
   },
   "outputs": [],
   "source": [
    "#A list of the index number of all outliers.\n",
    "df = df.drop(index = [2, 4, 5,17, 18,19,20, 31, 32, 33, 34, 35, 68, 73, 84, 87,88, 89, 90, 91, 97, 98, 99, 100, 101, 102, 115, \n",
    " 116, 117, 118, 120, 141, 146, 147, 148, 149, 150, 151, 152, 153, 154, 157, 186, 187, 189, 192, 193, 194])"
   ]
  },
  {
   "cell_type": "markdown",
   "metadata": {
    "id": "Q2LN7kmBulVH"
   },
   "source": [
    "**Confirming the the drop of outliers using only columns (\"NHR\" and \"HNR\").**"
   ]
  },
  {
   "cell_type": "code",
   "execution_count": null,
   "metadata": {
    "colab": {
     "base_uri": "https://localhost:8080/",
     "height": 203
    },
    "executionInfo": {
     "elapsed": 777,
     "status": "ok",
     "timestamp": 1649969536399,
     "user": {
      "displayName": "Halima Ladan",
      "userId": "13376351725036595186"
     },
     "user_tz": 240
    },
    "id": "T7w3xLF6tESQ",
    "outputId": "3fed61cf-1b6a-45ae-a766-38c2b49e56d5"
   },
   "outputs": [],
   "source": [
    "bar(\"NHR\", \"HNR\")"
   ]
  },
  {
   "cell_type": "markdown",
   "metadata": {
    "id": "ssHQelFVuyr_"
   },
   "source": [
    "Dropping of extreme outliers was successfull."
   ]
  },
  {
   "cell_type": "markdown",
   "metadata": {
    "id": "_7yIOdb3aJWh"
   },
   "source": [
    "##**Correlation between features**"
   ]
  },
  {
   "cell_type": "code",
   "execution_count": null,
   "metadata": {
    "colab": {
     "base_uri": "https://localhost:8080/",
     "height": 725
    },
    "executionInfo": {
     "elapsed": 882,
     "status": "ok",
     "timestamp": 1649969537278,
     "user": {
      "displayName": "Halima Ladan",
      "userId": "13376351725036595186"
     },
     "user_tz": 240
    },
    "id": "g_mF2ArEJkC-",
    "outputId": "00fda2cf-1239-43af-d1ed-f0271b5331bd"
   },
   "outputs": [],
   "source": [
    "plt.figure(figsize = (12, 10))\n",
    "\n",
    "corr = df.corr()\n",
    "sns.heatmap(corr, cmap='vlag');\n",
    "\n",
    "plt.title('Correlation Heatmap', fontsize = 16, weight='bold')\n",
    "plt.xticks(fontsize = 10, weight='bold', rotation=90)\n",
    "plt.yticks(fontsize = 10, weight='bold');\n",
    "\n",
    "plt.tight_layout()\n",
    "plt.show;"
   ]
  },
  {
   "cell_type": "markdown",
   "metadata": {
    "id": "UIS6DmG6ZFHp"
   },
   "source": [
    "There appears to be a strong positive correlation amongst 'MDVP:Shimmer', 'MDVP:Shimmer(dB)', 'Shimmer:APQ3', 'Shimmer:APQ5','MDVP:APQ'and 'Shimmer:DDA'.\n",
    "HNR also has a negative correlation most of the features."
   ]
  },
  {
   "cell_type": "code",
   "execution_count": null,
   "metadata": {
    "executionInfo": {
     "elapsed": 6,
     "status": "ok",
     "timestamp": 1649969537278,
     "user": {
      "displayName": "Halima Ladan",
      "userId": "13376351725036595186"
     },
     "user_tz": 240
    },
    "id": "-P1s8mMyTMJ9"
   },
   "outputs": [],
   "source": []
  },
  {
   "cell_type": "markdown",
   "metadata": {
    "id": "ATGJcpZZMMTq"
   },
   "source": [
    "##**An overview visualization of the relationship of feature \"status, across all other features.**"
   ]
  },
  {
   "cell_type": "code",
   "execution_count": null,
   "metadata": {
    "executionInfo": {
     "elapsed": 6,
     "status": "ok",
     "timestamp": 1649969537279,
     "user": {
      "displayName": "Halima Ladan",
      "userId": "13376351725036595186"
     },
     "user_tz": 240
    },
    "id": "PCNb_WbA4-F6"
   },
   "outputs": [],
   "source": [
    " #Dividing columns into groups for easy isualization, due to their varying value range.\n",
    "df1 = df.drop(columns = ['MDVP:Fo(Hz)', 'MDVP:Fhi(Hz)', 'MDVP:Flo(Hz)', 'MDVP:Jitter(%)',\n",
    "       'MDVP:Jitter(Abs)', 'MDVP:RAP', 'MDVP:PPQ', 'Jitter:DDP',\n",
    "       'MDVP:Shimmer', 'Shimmer:APQ3', 'Shimmer:APQ5',\n",
    "       'MDVP:APQ', 'Shimmer:DDA', 'NHR', 'HNR', 'D2'])\n",
    "\n",
    "df2 = df.drop(columns =[ 'MDVP:Jitter(%)', 'MDVP:Jitter(Abs)', 'MDVP:RAP', 'MDVP:PPQ', 'Jitter:DDP',\n",
    "       'MDVP:Shimmer', 'MDVP:Shimmer(dB)', 'Shimmer:APQ3', 'Shimmer:APQ5',\n",
    "       'MDVP:APQ', 'Shimmer:DDA', 'NHR', 'RPDE', 'DFA',\n",
    "       'spread1', 'spread2', 'PPE'])\n",
    "\n",
    "df3 = df.drop(columns = ['MDVP:Fo(Hz)', 'MDVP:Fhi(Hz)', 'MDVP:Flo(Hz)', 'MDVP:Jitter(%)',\n",
    "       'MDVP:Jitter(Abs)', 'MDVP:RAP', 'MDVP:PPQ', 'Jitter:DDP',\n",
    "        'MDVP:Shimmer(dB)', 'HNR', 'RPDE', 'DFA',\n",
    "       'spread1', 'spread2', 'D2', 'PPE'],)\n",
    "\n",
    "\n",
    "df4 = df.drop(columns = ['MDVP:Fo(Hz)', 'MDVP:Fhi(Hz)', 'MDVP:Flo(Hz)',  'MDVP:Shimmer', 'MDVP:Shimmer(dB)', 'Shimmer:APQ3', 'Shimmer:APQ5',\n",
    "       'MDVP:APQ', 'Shimmer:DDA', 'NHR', 'HNR', 'RPDE', 'DFA',  'spread1', 'spread2', 'D2', 'PPE'])\n",
    "\n",
    "        "
   ]
  },
  {
   "cell_type": "code",
   "execution_count": null,
   "metadata": {
    "executionInfo": {
     "elapsed": 5,
     "status": "ok",
     "timestamp": 1649969537279,
     "user": {
      "displayName": "Halima Ladan",
      "userId": "13376351725036595186"
     },
     "user_tz": 240
    },
    "id": "WDkHip0_zAEn"
   },
   "outputs": [],
   "source": [
    "grouped1 = df1.groupby(\"status\").mean()"
   ]
  },
  {
   "cell_type": "code",
   "execution_count": null,
   "metadata": {
    "executionInfo": {
     "elapsed": 5,
     "status": "ok",
     "timestamp": 1649969537279,
     "user": {
      "displayName": "Halima Ladan",
      "userId": "13376351725036595186"
     },
     "user_tz": 240
    },
    "id": "6KRomNnh6tb-"
   },
   "outputs": [],
   "source": [
    "grouped2 = df2.groupby(\"status\").mean()"
   ]
  },
  {
   "cell_type": "code",
   "execution_count": null,
   "metadata": {
    "executionInfo": {
     "elapsed": 6,
     "status": "ok",
     "timestamp": 1649969537280,
     "user": {
      "displayName": "Halima Ladan",
      "userId": "13376351725036595186"
     },
     "user_tz": 240
    },
    "id": "NvccStQp_mgw"
   },
   "outputs": [],
   "source": [
    "grouped3 =df3.groupby(\"status\").mean()"
   ]
  },
  {
   "cell_type": "code",
   "execution_count": null,
   "metadata": {
    "executionInfo": {
     "elapsed": 5,
     "status": "ok",
     "timestamp": 1649969537280,
     "user": {
      "displayName": "Halima Ladan",
      "userId": "13376351725036595186"
     },
     "user_tz": 240
    },
    "id": "vVgkBdG9BazZ"
   },
   "outputs": [],
   "source": [
    "grouped4 =df4.groupby(\"status\").mean()"
   ]
  },
  {
   "cell_type": "markdown",
   "metadata": {
    "id": "Lo0_XPEEMzmk"
   },
   "source": [
    "###**A barchart to display the relations of all features with the column status.**"
   ]
  },
  {
   "cell_type": "code",
   "execution_count": null,
   "metadata": {
    "executionInfo": {
     "elapsed": 5,
     "status": "ok",
     "timestamp": 1649969537280,
     "user": {
      "displayName": "Halima Ladan",
      "userId": "13376351725036595186"
     },
     "user_tz": 240
    },
    "id": "iygPd3h0Sv6j"
   },
   "outputs": [],
   "source": [
    "def rel (u,v,w,x):\n",
    "  #plt.rcParams[\"figure.figsize\"] = [20, 6]\n",
    " # f, axis =plt.subplots(2,2)\n",
    "  sns.set_theme(style=\"whitegrid\")\n",
    "\n",
    "  \n",
    "  xticks1 = np.arange(len(x.columns))\n",
    "  xticks2 = xticks1 + .5\n",
    "  plt.subplot()\n",
    "  plt.figure(figsize = (6, 3))\n",
    "  plt.bar ( xticks1, x.loc[0],color =\"blue\", label = '0', width = 0.25)\n",
    "  plt.bar(xticks2, x.loc[1], color =\"orange\", label =\"1\", width =0.25)\n",
    "  plt.xticks(xticks1, labels =x.columns);\n",
    "  plt.tick_params(labelrotation =45)\n",
    "  plt.axhline(0, color =\"black\")\n",
    "  plt.legend()\n",
    "  plt.show()\n",
    "\n",
    "  \n",
    "  xticks1 = np.arange(len(v.columns))\n",
    "  xticks2 = xticks1 + .5\n",
    "  plt.figure(figsize = (6, 3))\n",
    "  plt.bar (xticks1, v.loc[0],color =\"blue\", label = '0', width = 0.25)\n",
    "  plt.bar(xticks2, v.loc[1], color =\"orange\", label =\"1\", width =0.25)\n",
    "  plt.xticks(xticks1, labels =v.columns);\n",
    "  plt.tick_params(labelrotation =45)\n",
    "  plt.axhline(0, color =\"black\")\n",
    "  plt.legend()\n",
    "  plt.show()\n",
    "\n",
    " \n",
    "  xticks1 = np.arange(len(w.columns))\n",
    "  xticks2 = xticks1 + .5\n",
    "  plt.figure(figsize = (6, 3))\n",
    "  plt.bar (xticks1, w.loc[0],color =\"blue\", label = '0', width = 0.25)\n",
    "  plt.bar(xticks2, w.loc[1], color =\"orange\", label =\"1\", width =0.25)\n",
    "  plt.xticks(xticks1, labels =w.columns);\n",
    "  plt.tick_params(labelrotation =45)\n",
    "  plt.axhline(0, color =\"black\")\n",
    "  plt.legend()\n",
    "  plt.show()\n",
    "\n",
    "  xticks1 = np.arange(len(u.columns))\n",
    "  xticks2 = xticks1 + .5\n",
    "  plt.figure(figsize = (6, 3))\n",
    "  plt.bar (xticks1, u.loc[0],color =\"blue\", label = '0', width = 0.25)\n",
    "  plt.bar(xticks2, u.loc[1], color =\"orange\", label =\"1\", width =0.25)\n",
    "  plt.xticks(xticks1, labels =u.columns);\n",
    "  plt.tick_params(labelrotation =45)\n",
    "  plt.axhline(0, color =\"black\")\n",
    "  plt.legend()\n",
    "  plt.show()\n"
   ]
  },
  {
   "cell_type": "code",
   "execution_count": null,
   "metadata": {
    "colab": {
     "base_uri": "https://localhost:8080/",
     "height": 1000
    },
    "executionInfo": {
     "elapsed": 1322,
     "status": "ok",
     "timestamp": 1649969538597,
     "user": {
      "displayName": "Halima Ladan",
      "userId": "13376351725036595186"
     },
     "user_tz": 240
    },
    "id": "K0dUSfPGTBJA",
    "outputId": "248b9114-2c4c-47bf-a642-358858885aac"
   },
   "outputs": [],
   "source": [
    "rel(grouped1, grouped2, grouped3, grouped4)"
   ]
  },
  {
   "cell_type": "markdown",
   "metadata": {
    "id": "-PlNsmnlYvHU"
   },
   "source": [
    "###**Checking for inbalance in target vector**"
   ]
  },
  {
   "cell_type": "code",
   "execution_count": null,
   "metadata": {
    "colab": {
     "base_uri": "https://localhost:8080/"
    },
    "executionInfo": {
     "elapsed": 7,
     "status": "ok",
     "timestamp": 1649969538597,
     "user": {
      "displayName": "Halima Ladan",
      "userId": "13376351725036595186"
     },
     "user_tz": 240
    },
    "id": "LiST0RugZOBc",
    "outputId": "97d8de29-9b9f-4bc8-c82d-71a19d26998d"
   },
   "outputs": [],
   "source": [
    "df[\"status\"].unique()"
   ]
  },
  {
   "cell_type": "code",
   "execution_count": null,
   "metadata": {
    "colab": {
     "base_uri": "https://localhost:8080/"
    },
    "executionInfo": {
     "elapsed": 6,
     "status": "ok",
     "timestamp": 1649969538597,
     "user": {
      "displayName": "Halima Ladan",
      "userId": "13376351725036595186"
     },
     "user_tz": 240
    },
    "id": "MEZM61rPZsbM",
    "outputId": "20102b24-e5f5-4e22-8101-b7e334b874e5"
   },
   "outputs": [],
   "source": [
    "print(f'Status(0)_counts:{df[df[\"status\"]==0].shape[0]}')\n",
    "print(f'Status(1)_counts:{df[df[\"status\"]==1].shape[0]}')\n"
   ]
  },
  {
   "cell_type": "markdown",
   "metadata": {
    "id": "0L3ssTdFb1mH"
   },
   "source": [
    "We can see here that the target Vector is not balanced. This imbalance will be handled during the preprocessing stage."
   ]
  },
  {
   "cell_type": "markdown",
   "metadata": {
    "id": "RcXyZTt6F6L0"
   },
   "source": [
    "#**Visualization of Data Clusters through dimentionality reduction(Principal Component Analysis, PCA)**"
   ]
  },
  {
   "cell_type": "markdown",
   "metadata": {
    "id": "uJga8LtmHyi5"
   },
   "source": [
    "This data sets has more than one dimention, which makes it impossible to visualize, therefore the principal component analysis(pca), will be used to reduce the dimentionality of the dataset into two dimentions (clusters), thereby making it possible for visualization."
   ]
  },
  {
   "cell_type": "markdown",
   "metadata": {
    "id": "yWKeo38Zv0Bs"
   },
   "source": [
    "**Assigning Target Vector and Independent Variable**\n",
    "\n"
   ]
  },
  {
   "cell_type": "code",
   "execution_count": null,
   "metadata": {
    "executionInfo": {
     "elapsed": 3,
     "status": "ok",
     "timestamp": 1649969538597,
     "user": {
      "displayName": "Halima Ladan",
      "userId": "13376351725036595186"
     },
     "user_tz": 240
    },
    "id": "3nJNXdfVv2yG"
   },
   "outputs": [],
   "source": [
    "X = df.drop(columns =\"status\")\n",
    "y = df[\"status\"]\n",
    "\n",
    "le =LabelEncoder()\n",
    "z= le.fit_transform(df[\"status\"])\n"
   ]
  },
  {
   "cell_type": "markdown",
   "metadata": {
    "id": "f6W0Y3woGMvS"
   },
   "source": [
    "**Scaling Data in preparation for pca**"
   ]
  },
  {
   "cell_type": "code",
   "execution_count": null,
   "metadata": {
    "executionInfo": {
     "elapsed": 4,
     "status": "ok",
     "timestamp": 1649969538598,
     "user": {
      "displayName": "Halima Ladan",
      "userId": "13376351725036595186"
     },
     "user_tz": 240
    },
    "id": "vh6r5bkE_Inh"
   },
   "outputs": [],
   "source": [
    "scaler =StandardScaler()\n",
    "scaled_df = scaler.fit_transform(X)"
   ]
  },
  {
   "cell_type": "markdown",
   "metadata": {
    "id": "VN4WA4NeGT53"
   },
   "source": [
    "**Instantiating pca**"
   ]
  },
  {
   "cell_type": "code",
   "execution_count": null,
   "metadata": {
    "executionInfo": {
     "elapsed": 3,
     "status": "ok",
     "timestamp": 1649969538598,
     "user": {
      "displayName": "Halima Ladan",
      "userId": "13376351725036595186"
     },
     "user_tz": 240
    },
    "id": "cW0ozgMM-BxT"
   },
   "outputs": [],
   "source": [
    "pca = PCA(n_components = 2)\n",
    "pca_df =pca.fit_transform(scaled_df)\n"
   ]
  },
  {
   "cell_type": "markdown",
   "metadata": {
    "id": "z1hSpYVsGbEK"
   },
   "source": [
    "**Clusters representing Individuals with and without Parkinson's disease.**"
   ]
  },
  {
   "cell_type": "code",
   "execution_count": null,
   "metadata": {
    "colab": {
     "base_uri": "https://localhost:8080/",
     "height": 356
    },
    "executionInfo": {
     "elapsed": 277,
     "status": "ok",
     "timestamp": 1649969538872,
     "user": {
      "displayName": "Halima Ladan",
      "userId": "13376351725036595186"
     },
     "user_tz": 240
    },
    "id": "cuGKGyBlBlkF",
    "outputId": "8b30a28b-897f-4f29-d5fd-be8c4f904f27"
   },
   "outputs": [],
   "source": [
    "plt.figure(figsize = (8, 4))\n",
    "#plt.scatter(pcss, c=z)\n",
    "plt.scatter(pca_df[:,0], pca_df[:,1], c = z)\n",
    "\n",
    "ax =plt.axes()\n",
    "ax.set_facecolor (\"grey\")\n",
    "plt.title('Visualization of all of our data using the first two Principal Components')\n",
    "plt.xlabel('PC1')\n",
    "plt.ylabel('PC2');"
   ]
  },
  {
   "cell_type": "markdown",
   "metadata": {
    "id": "m5OW9iODFk2s"
   },
   "source": [
    "#**Preprocessing of Data**"
   ]
  },
  {
   "cell_type": "markdown",
   "metadata": {
    "id": "CIwS-Ys4Ir0N"
   },
   "source": [
    "Now lets begin processing our data for modelling."
   ]
  },
  {
   "cell_type": "code",
   "execution_count": null,
   "metadata": {
    "executionInfo": {
     "elapsed": 7,
     "status": "ok",
     "timestamp": 1649969538872,
     "user": {
      "displayName": "Halima Ladan",
      "userId": "13376351725036595186"
     },
     "user_tz": 240
    },
    "id": "DO3Lxm4aFrvs"
   },
   "outputs": [],
   "source": [
    "#Train, test, splitting data.\n",
    "X_train, X_test, y_train, y_test= train_test_split(X,y, random_state = 42)"
   ]
  },
  {
   "cell_type": "markdown",
   "metadata": {
    "id": "yzYuA66swSOI"
   },
   "source": [
    "###**Instantiating Column Selector**"
   ]
  },
  {
   "cell_type": "code",
   "execution_count": null,
   "metadata": {
    "executionInfo": {
     "elapsed": 7,
     "status": "ok",
     "timestamp": 1649969538873,
     "user": {
      "displayName": "Halima Ladan",
      "userId": "13376351725036595186"
     },
     "user_tz": 240
    },
    "id": "BdKVBnSIwDb2"
   },
   "outputs": [],
   "source": [
    "#there are onlu numeric columns in this data frame\n",
    "num_cols = make_column_selector(dtype_include=\"number\")"
   ]
  },
  {
   "cell_type": "markdown",
   "metadata": {
    "id": "3P9nV0mvw3s2"
   },
   "source": [
    "###**Instantiating Standard scaler**"
   ]
  },
  {
   "cell_type": "code",
   "execution_count": null,
   "metadata": {
    "executionInfo": {
     "elapsed": 7,
     "status": "ok",
     "timestamp": 1649969538873,
     "user": {
      "displayName": "Halima Ladan",
      "userId": "13376351725036595186"
     },
     "user_tz": 240
    },
    "id": "jJBmDjsywMEH"
   },
   "outputs": [],
   "source": [
    "scaler =StandardScaler()"
   ]
  },
  {
   "cell_type": "code",
   "execution_count": null,
   "metadata": {
    "executionInfo": {
     "elapsed": 8,
     "status": "ok",
     "timestamp": 1649969538874,
     "user": {
      "displayName": "Halima Ladan",
      "userId": "13376351725036595186"
     },
     "user_tz": 240
    },
    "id": "0Acq3w4BwnaO"
   },
   "outputs": [],
   "source": [
    "num_tuple =(scaler, num_cols)"
   ]
  },
  {
   "cell_type": "markdown",
   "metadata": {
    "id": "2LBKL3FmxEeI"
   },
   "source": [
    "###**Instantiating Column transformer**"
   ]
  },
  {
   "cell_type": "code",
   "execution_count": null,
   "metadata": {
    "executionInfo": {
     "elapsed": 7,
     "status": "ok",
     "timestamp": 1649969538874,
     "user": {
      "displayName": "Halima Ladan",
      "userId": "13376351725036595186"
     },
     "user_tz": 240
    },
    "id": "NVBIs_GJxDum"
   },
   "outputs": [],
   "source": [
    "column_transformer = make_column_transformer(num_tuple)"
   ]
  },
  {
   "cell_type": "markdown",
   "metadata": {
    "id": "Z3YsdU4cxPpe"
   },
   "source": [
    "#**KNeighbors Classifier Model**"
   ]
  },
  {
   "cell_type": "code",
   "execution_count": null,
   "metadata": {
    "executionInfo": {
     "elapsed": 7,
     "status": "ok",
     "timestamp": 1649969538874,
     "user": {
      "displayName": "Halima Ladan",
      "userId": "13376351725036595186"
     },
     "user_tz": 240
    },
    "id": "zUY8444WxVa-"
   },
   "outputs": [],
   "source": [
    "#Instantiating model\n",
    "knn =KNeighborsClassifier()"
   ]
  },
  {
   "cell_type": "markdown",
   "metadata": {
    "id": "3L-xRba2vFlr"
   },
   "source": [
    "**Handling imbalance target vector(y), using SMOTE**"
   ]
  },
  {
   "cell_type": "code",
   "execution_count": null,
   "metadata": {
    "executionInfo": {
     "elapsed": 7,
     "status": "ok",
     "timestamp": 1649969538874,
     "user": {
      "displayName": "Halima Ladan",
      "userId": "13376351725036595186"
     },
     "user_tz": 240
    },
    "id": "1dJhSJIEvEZB"
   },
   "outputs": [],
   "source": [
    "#Instantiating smote\n",
    "smote = SMOTE(random_state = 42)"
   ]
  },
  {
   "cell_type": "code",
   "execution_count": null,
   "metadata": {
    "executionInfo": {
     "elapsed": 7,
     "status": "ok",
     "timestamp": 1649969538875,
     "user": {
      "displayName": "Halima Ladan",
      "userId": "13376351725036595186"
     },
     "user_tz": 240
    },
    "id": "o2SivcPvHfXm"
   },
   "outputs": [],
   "source": [
    "pca = PCA(n_components= .95)"
   ]
  },
  {
   "cell_type": "code",
   "execution_count": null,
   "metadata": {
    "executionInfo": {
     "elapsed": 7,
     "status": "ok",
     "timestamp": 1649969538875,
     "user": {
      "displayName": "Halima Ladan",
      "userId": "13376351725036595186"
     },
     "user_tz": 240
    },
    "id": "vwJjUs4htH7a"
   },
   "outputs": [],
   "source": [
    "KS_pipe = Pipeline([(\"smote\", smote), (\"knn\", knn)])"
   ]
  },
  {
   "cell_type": "code",
   "execution_count": null,
   "metadata": {
    "colab": {
     "base_uri": "https://localhost:8080/",
     "height": 252
    },
    "executionInfo": {
     "elapsed": 10,
     "status": "ok",
     "timestamp": 1649969539038,
     "user": {
      "displayName": "Halima Ladan",
      "userId": "13376351725036595186"
     },
     "user_tz": 240
    },
    "id": "f6N3Ix5dxj6S",
    "outputId": "2fc27aa4-b4d7-4c2a-fa03-fa28fcdab104"
   },
   "outputs": [],
   "source": [
    "knn_pipe = make_pipeline(column_transformer, KS_pipe)\n",
    "knn_pipe.fit(X_train, y_train)"
   ]
  },
  {
   "cell_type": "markdown",
   "metadata": {
    "id": "vKgjD1FUyA_V"
   },
   "source": [
    "**Tuning for the best parameters**"
   ]
  },
  {
   "cell_type": "code",
   "execution_count": null,
   "metadata": {
    "colab": {
     "base_uri": "https://localhost:8080/"
    },
    "executionInfo": {
     "elapsed": 8,
     "status": "ok",
     "timestamp": 1649969539038,
     "user": {
      "displayName": "Halima Ladan",
      "userId": "13376351725036595186"
     },
     "user_tz": 240
    },
    "id": "ooCsCbqlyExU",
    "outputId": "a8f032ed-5a14-478b-f130-9fc1f4d2e6a1"
   },
   "outputs": [],
   "source": [
    "knn_pipe.get_params()"
   ]
  },
  {
   "cell_type": "code",
   "execution_count": null,
   "metadata": {
    "executionInfo": {
     "elapsed": 6,
     "status": "ok",
     "timestamp": 1649969539039,
     "user": {
      "displayName": "Halima Ladan",
      "userId": "13376351725036595186"
     },
     "user_tz": 240
    },
    "id": "_6erGHbfyRpU"
   },
   "outputs": [],
   "source": [
    "params = {'pipeline__knn__n_neighbors': [5,7,9,11],\n",
    "          'pipeline__knn__weights': [\"uniform\", \"distance\"],\n",
    "          'pipeline__knn__p':[2,3,4]}"
   ]
  },
  {
   "cell_type": "markdown",
   "metadata": {
    "id": "FcwS8tBeyiTX"
   },
   "source": [
    "##**Instantiating the GridSearch with Knn pipeline and paramameters**\n",
    "\n"
   ]
  },
  {
   "cell_type": "code",
   "execution_count": null,
   "metadata": {
    "colab": {
     "base_uri": "https://localhost:8080/",
     "height": 254
    },
    "executionInfo": {
     "elapsed": 2132,
     "status": "ok",
     "timestamp": 1649969541166,
     "user": {
      "displayName": "Halima Ladan",
      "userId": "13376351725036595186"
     },
     "user_tz": 240
    },
    "id": "ekUfcK4bynW6",
    "outputId": "1e74522b-d8e1-4d66-87bb-81831e5bcf6c"
   },
   "outputs": [],
   "source": [
    "knn_gs =GridSearchCV(knn_pipe, params)\n",
    "knn_gs.fit(X_train, y_train)"
   ]
  },
  {
   "cell_type": "code",
   "execution_count": null,
   "metadata": {
    "colab": {
     "base_uri": "https://localhost:8080/"
    },
    "executionInfo": {
     "elapsed": 17,
     "status": "ok",
     "timestamp": 1649969541167,
     "user": {
      "displayName": "Halima Ladan",
      "userId": "13376351725036595186"
     },
     "user_tz": 240
    },
    "id": "oIxtCx8IyuYl",
    "outputId": "dcdee66e-8d71-4810-b454-8b3f3e46d22e"
   },
   "outputs": [],
   "source": [
    "knn_gs.best_params_"
   ]
  },
  {
   "cell_type": "code",
   "execution_count": null,
   "metadata": {
    "executionInfo": {
     "elapsed": 14,
     "status": "ok",
     "timestamp": 1649969541167,
     "user": {
      "displayName": "Halima Ladan",
      "userId": "13376351725036595186"
     },
     "user_tz": 240
    },
    "id": "_X7dqiswy0K6"
   },
   "outputs": [],
   "source": [
    "best_knn_pipe = knn_gs.best_estimator_"
   ]
  },
  {
   "cell_type": "markdown",
   "metadata": {
    "id": "8RvFtTn1xonn"
   },
   "source": [
    "#**Predictions**"
   ]
  },
  {
   "cell_type": "code",
   "execution_count": null,
   "metadata": {
    "executionInfo": {
     "elapsed": 13,
     "status": "ok",
     "timestamp": 1649969541167,
     "user": {
      "displayName": "Halima Ladan",
      "userId": "13376351725036595186"
     },
     "user_tz": 240
    },
    "id": "u3OV8UlVxq45"
   },
   "outputs": [],
   "source": [
    "train_knn_preds = best_knn_pipe.predict(X_train)\n",
    "test_knn_preds =best_knn_pipe.predict(X_test)"
   ]
  },
  {
   "cell_type": "code",
   "execution_count": null,
   "metadata": {
    "colab": {
     "base_uri": "https://localhost:8080/",
     "height": 363
    },
    "executionInfo": {
     "elapsed": 14,
     "status": "ok",
     "timestamp": 1649969541168,
     "user": {
      "displayName": "Halima Ladan",
      "userId": "13376351725036595186"
     },
     "user_tz": 240
    },
    "id": "iwj2dj3eXerX",
    "outputId": "deedc434-31a4-4ad1-d411-cadf8042b2d2"
   },
   "outputs": [],
   "source": [
    "training_set =pd.DataFrame(train_knn_preds)\n",
    "training_set = training_set.rename(columns ={0 :\"Training set predictions\"})\n",
    "training_set.head(10)"
   ]
  },
  {
   "cell_type": "code",
   "execution_count": null,
   "metadata": {
    "colab": {
     "base_uri": "https://localhost:8080/",
     "height": 363
    },
    "executionInfo": {
     "elapsed": 13,
     "status": "ok",
     "timestamp": 1649969541168,
     "user": {
      "displayName": "Halima Ladan",
      "userId": "13376351725036595186"
     },
     "user_tz": 240
    },
    "id": "jOj3Uke4aN1p",
    "outputId": "06fd195f-be67-4d27-ac14-11ca4e9e890b"
   },
   "outputs": [],
   "source": [
    "testing_set =pd.DataFrame(test_knn_preds)\n",
    "testing_set = testing_set.rename(columns ={0 :\"Testing set predictions\"})\n",
    "testing_set.head(10)"
   ]
  },
  {
   "cell_type": "markdown",
   "metadata": {
    "id": "CiVznGEjxwgP"
   },
   "source": [
    "###**Classification Report on Default KNeigbor Classifier**"
   ]
  },
  {
   "cell_type": "code",
   "execution_count": null,
   "metadata": {
    "executionInfo": {
     "elapsed": 12,
     "status": "ok",
     "timestamp": 1649969541168,
     "user": {
      "displayName": "Halima Ladan",
      "userId": "13376351725036595186"
     },
     "user_tz": 240
    },
    "id": "LyJE0zfcx1RO"
   },
   "outputs": [],
   "source": [
    "train_report =classification_report(y_train, train_knn_preds)\n",
    "test_report = classification_report(y_test, test_knn_preds)"
   ]
  },
  {
   "cell_type": "code",
   "execution_count": null,
   "metadata": {
    "colab": {
     "base_uri": "https://localhost:8080/"
    },
    "executionInfo": {
     "elapsed": 12,
     "status": "ok",
     "timestamp": 1649969541168,
     "user": {
      "displayName": "Halima Ladan",
      "userId": "13376351725036595186"
     },
     "user_tz": 240
    },
    "id": "xCLoJJ_ZzuDf",
    "outputId": "a6144e50-e938-4d0e-c57b-c13d2db4975d"
   },
   "outputs": [],
   "source": [
    "print(f'Evaluation metrics on Knn model with tuned parameters\\n\\n Train set:\\n{train_report}')\n",
    "print(\"______________________________________\\n\")\n",
    "print(f'Evaluation metrics on Knn model with tuned parameters\\n\\n Test set:\\n{test_report}')"
   ]
  },
  {
   "cell_type": "markdown",
   "metadata": {
    "id": "0gt4RhOxz4dx"
   },
   "source": [
    "###**Confusion Matrix on KNeigbor Classifier**"
   ]
  },
  {
   "cell_type": "markdown",
   "metadata": {
    "id": "Ta-KSp5q0KAw"
   },
   "source": [
    "**Train**"
   ]
  },
  {
   "cell_type": "code",
   "execution_count": null,
   "metadata": {
    "colab": {
     "base_uri": "https://localhost:8080/",
     "height": 398
    },
    "executionInfo": {
     "elapsed": 268,
     "status": "ok",
     "timestamp": 1649969541429,
     "user": {
      "displayName": "Halima Ladan",
      "userId": "13376351725036595186"
     },
     "user_tz": 240
    },
    "id": "7v0E9P8R0FPP",
    "outputId": "fac6b45c-ee7d-4349-8bf5-ac0e3b922136"
   },
   "outputs": [],
   "source": [
    "ConfusionMatrixDisplay.from_estimator(best_knn_pipe, X_train, y_train, cmap =\"Reds\", normalize =\"true\");"
   ]
  },
  {
   "cell_type": "markdown",
   "metadata": {
    "id": "vqnUrYzmUDlp"
   },
   "source": [
    "The KNN model did extremely well in predicting the true positives and the true negatives. It predicted all enteries correctly."
   ]
  },
  {
   "cell_type": "markdown",
   "metadata": {
    "id": "UbYvuuVc0d08"
   },
   "source": [
    "**Test**"
   ]
  },
  {
   "cell_type": "code",
   "execution_count": null,
   "metadata": {
    "colab": {
     "base_uri": "https://localhost:8080/",
     "height": 398
    },
    "executionInfo": {
     "elapsed": 395,
     "status": "ok",
     "timestamp": 1649970037394,
     "user": {
      "displayName": "Halima Ladan",
      "userId": "13376351725036595186"
     },
     "user_tz": 240
    },
    "id": "-ARCTAVk0fty",
    "outputId": "d387d2e7-5151-4f1b-b66c-4c308fc379da"
   },
   "outputs": [],
   "source": [
    "ConfusionMatrixDisplay.from_estimator(best_knn_pipe, X_test, y_test, cmap=\"Reds\", normalize = \"true\");"
   ]
  },
  {
   "cell_type": "markdown",
   "metadata": {
    "id": "zLwBnihCUV6z"
   },
   "source": [
    "When it comes to predicting disease in people, it is always better to have a model that has zero amount of false positive error than the false negative error. The KNN model here predicted 7 entry as false positive, but did well in predicting the false negatives, true positives and true negatives. "
   ]
  },
  {
   "cell_type": "markdown",
   "metadata": {
    "id": "0T7rgwst2Sk_"
   },
   "source": [
    "#**Instantiating the Light Classier**"
   ]
  },
  {
   "cell_type": "code",
   "execution_count": null,
   "metadata": {
    "executionInfo": {
     "elapsed": 5,
     "status": "ok",
     "timestamp": 1649969541640,
     "user": {
      "displayName": "Halima Ladan",
      "userId": "13376351725036595186"
     },
     "user_tz": 240
    },
    "id": "8F-XgmRp2QwK"
   },
   "outputs": [],
   "source": [
    "lgbm =LGBMClassifier()\n",
    "smote = SMOTE(random_state = 42)\n"
   ]
  },
  {
   "cell_type": "code",
   "execution_count": null,
   "metadata": {
    "executionInfo": {
     "elapsed": 5,
     "status": "ok",
     "timestamp": 1649969541641,
     "user": {
      "displayName": "Halima Ladan",
      "userId": "13376351725036595186"
     },
     "user_tz": 240
    },
    "id": "Rkk9KPG6z6d5"
   },
   "outputs": [],
   "source": [
    "LS_pipe = Pipeline([(\"smote\", smote),(\"lgbm\", lgbm)])"
   ]
  },
  {
   "cell_type": "code",
   "execution_count": null,
   "metadata": {
    "colab": {
     "base_uri": "https://localhost:8080/",
     "height": 252
    },
    "executionInfo": {
     "elapsed": 211,
     "status": "ok",
     "timestamp": 1649969541847,
     "user": {
      "displayName": "Halima Ladan",
      "userId": "13376351725036595186"
     },
     "user_tz": 240
    },
    "id": "yCWSSrbI4cVB",
    "outputId": "5f2488ad-2580-4b1e-ecbc-a1a7d5c23e75"
   },
   "outputs": [],
   "source": [
    "lgbm_pipe = make_pipeline(column_transformer, LS_pipe)\n",
    "lgbm_pipe.fit(X_train, y_train)"
   ]
  },
  {
   "cell_type": "code",
   "execution_count": null,
   "metadata": {
    "executionInfo": {
     "elapsed": 13,
     "status": "ok",
     "timestamp": 1649969541847,
     "user": {
      "displayName": "Halima Ladan",
      "userId": "13376351725036595186"
     },
     "user_tz": 240
    },
    "id": "GU6xGVoE3MyP"
   },
   "outputs": [],
   "source": [
    "lgbm_train_preds = lgbm_pipe.predict(X_train)\n",
    "lgbm_test_preds = lgbm_pipe.predict(X_test)"
   ]
  },
  {
   "cell_type": "code",
   "execution_count": null,
   "metadata": {
    "colab": {
     "base_uri": "https://localhost:8080/",
     "height": 363
    },
    "executionInfo": {
     "elapsed": 14,
     "status": "ok",
     "timestamp": 1649969541848,
     "user": {
      "displayName": "Halima Ladan",
      "userId": "13376351725036595186"
     },
     "user_tz": 240
    },
    "id": "LVLNNN3Bi-vK",
    "outputId": "b6e25dd2-54d7-49d2-f72d-ce378b3a0525"
   },
   "outputs": [],
   "source": [
    "training_set =pd.DataFrame(lgbm_train_preds)\n",
    "training_set = training_set.rename(columns ={0 :\"LGBM: Training set predictions\"})\n",
    "training_set.head(10)"
   ]
  },
  {
   "cell_type": "code",
   "execution_count": null,
   "metadata": {
    "colab": {
     "base_uri": "https://localhost:8080/",
     "height": 363
    },
    "executionInfo": {
     "elapsed": 13,
     "status": "ok",
     "timestamp": 1649969541848,
     "user": {
      "displayName": "Halima Ladan",
      "userId": "13376351725036595186"
     },
     "user_tz": 240
    },
    "id": "PP-Vldo1jWsi",
    "outputId": "0144297e-4be1-4c69-e779-1b0a0e166774"
   },
   "outputs": [],
   "source": [
    "testing_set =pd.DataFrame(lgbm_test_preds)\n",
    "testing_set = testing_set.rename(columns ={0 :\"LGBM: Testing set predictions\"})\n",
    "testing_set.head(10)"
   ]
  },
  {
   "cell_type": "markdown",
   "metadata": {
    "id": "vlJYJxDA2s9X"
   },
   "source": [
    "###**Model Evaluation**"
   ]
  },
  {
   "cell_type": "code",
   "execution_count": null,
   "metadata": {
    "executionInfo": {
     "elapsed": 12,
     "status": "ok",
     "timestamp": 1649969541848,
     "user": {
      "displayName": "Halima Ladan",
      "userId": "13376351725036595186"
     },
     "user_tz": 240
    },
    "id": "jwBQa_dE3wVe"
   },
   "outputs": [],
   "source": [
    "lgbm_train_report =classification_report(y_train, lgbm_train_preds)\n",
    "lgbm_test_report = classification_report(y_test, lgbm_test_preds)"
   ]
  },
  {
   "cell_type": "code",
   "execution_count": null,
   "metadata": {
    "colab": {
     "base_uri": "https://localhost:8080/"
    },
    "executionInfo": {
     "elapsed": 13,
     "status": "ok",
     "timestamp": 1649969541849,
     "user": {
      "displayName": "Halima Ladan",
      "userId": "13376351725036595186"
     },
     "user_tz": 240
    },
    "id": "rTGoi3HZ225m",
    "outputId": "5c3ceb44-a99a-4972-bd09-c3b96d856677"
   },
   "outputs": [],
   "source": [
    "print(f'Evaluation metrics on Knn model with tuned parameters\\n\\n Train set:\\n{lgbm_train_report}')\n",
    "print(\"______________________________________\\n\")\n",
    "print(f'Evaluation metrics on Knn model with tuned parameters\\n\\n Test set:\\n{lgbm_test_report}')"
   ]
  },
  {
   "cell_type": "code",
   "execution_count": null,
   "metadata": {
    "colab": {
     "base_uri": "https://localhost:8080/",
     "height": 398
    },
    "executionInfo": {
     "elapsed": 223,
     "status": "ok",
     "timestamp": 1649969542063,
     "user": {
      "displayName": "Halima Ladan",
      "userId": "13376351725036595186"
     },
     "user_tz": 240
    },
    "id": "qjBk1d-64VPO",
    "outputId": "93672cd7-f355-41bf-e3f6-c46a95724df3"
   },
   "outputs": [],
   "source": [
    "ConfusionMatrixDisplay.from_estimator(lgbm_pipe, X_train, y_train, cmap =\"Greens\" ,normalize = \"true\");"
   ]
  },
  {
   "cell_type": "markdown",
   "metadata": {
    "id": "ms7sfqBuVBXx"
   },
   "source": [
    "The LGBM model accurately on the train set"
   ]
  },
  {
   "cell_type": "code",
   "execution_count": null,
   "metadata": {
    "colab": {
     "base_uri": "https://localhost:8080/",
     "height": 398
    },
    "executionInfo": {
     "elapsed": 399,
     "status": "ok",
     "timestamp": 1649969542458,
     "user": {
      "displayName": "Halima Ladan",
      "userId": "13376351725036595186"
     },
     "user_tz": 240
    },
    "id": "Xx50y4gh4zR3",
    "outputId": "caa79480-dc3e-4c7d-fb45-10d4bb8c44e2"
   },
   "outputs": [],
   "source": [
    "ConfusionMatrixDisplay.from_estimator(lgbm_pipe, X_test, y_test, cmap=\"Greens\", normalize = \"true\");"
   ]
  },
  {
   "cell_type": "markdown",
   "metadata": {
    "id": "mubioGAEVJQw"
   },
   "source": [
    "The model also predicted accuaretly on the train set"
   ]
  },
  {
   "cell_type": "markdown",
   "metadata": {
    "id": "7vt2-Jx_5x1-"
   },
   "source": [
    "#**XGBoost Classifier(xGBC)**"
   ]
  },
  {
   "cell_type": "markdown",
   "metadata": {
    "id": "xT1XcnJc543-"
   },
   "source": [
    "###**INstantiating Model**"
   ]
  },
  {
   "cell_type": "code",
   "execution_count": null,
   "metadata": {
    "executionInfo": {
     "elapsed": 11,
     "status": "ok",
     "timestamp": 1649969542462,
     "user": {
      "displayName": "Halima Ladan",
      "userId": "13376351725036595186"
     },
     "user_tz": 240
    },
    "id": "dL5vQi-E5Ob-"
   },
   "outputs": [],
   "source": [
    "xgb = XGBClassifier()\n",
    "smote = SMOTE(random_state = 42)\n",
    "#xgb.fit(X_train, y_train)"
   ]
  },
  {
   "cell_type": "code",
   "execution_count": null,
   "metadata": {
    "executionInfo": {
     "elapsed": 10,
     "status": "ok",
     "timestamp": 1649969542462,
     "user": {
      "displayName": "Halima Ladan",
      "userId": "13376351725036595186"
     },
     "user_tz": 240
    },
    "id": "k_Jm3g1v5eoy"
   },
   "outputs": [],
   "source": [
    "XS_pipe = Pipeline([(\"smote\", smote), (\"xgb\", xgb)])"
   ]
  },
  {
   "cell_type": "code",
   "execution_count": null,
   "metadata": {
    "executionInfo": {
     "elapsed": 9,
     "status": "ok",
     "timestamp": 1649969542462,
     "user": {
      "displayName": "Halima Ladan",
      "userId": "13376351725036595186"
     },
     "user_tz": 240
    },
    "id": "IRZQi7av5xQf"
   },
   "outputs": [],
   "source": [
    "xgb_pipe= make_pipeline(column_transformer, XS_pipe)"
   ]
  },
  {
   "cell_type": "code",
   "execution_count": null,
   "metadata": {
    "colab": {
     "base_uri": "https://localhost:8080/",
     "height": 252
    },
    "executionInfo": {
     "elapsed": 10,
     "status": "ok",
     "timestamp": 1649969542463,
     "user": {
      "displayName": "Halima Ladan",
      "userId": "13376351725036595186"
     },
     "user_tz": 240
    },
    "id": "0Rw5NGag6Oe0",
    "outputId": "b949d005-f945-40e1-ba07-7d4734f7bd58"
   },
   "outputs": [],
   "source": [
    "xgb_pipe.fit(X_train, y_train)"
   ]
  },
  {
   "cell_type": "code",
   "execution_count": null,
   "metadata": {
    "executionInfo": {
     "elapsed": 9,
     "status": "ok",
     "timestamp": 1649969542463,
     "user": {
      "displayName": "Halima Ladan",
      "userId": "13376351725036595186"
     },
     "user_tz": 240
    },
    "id": "MYwyGxwR5-lB"
   },
   "outputs": [],
   "source": [
    "xgb_train_preds = xgb_pipe.predict(X_train)\n",
    "xgb_test_preds = xgb_pipe.predict(X_test)"
   ]
  },
  {
   "cell_type": "code",
   "execution_count": null,
   "metadata": {
    "colab": {
     "base_uri": "https://localhost:8080/",
     "height": 363
    },
    "executionInfo": {
     "elapsed": 9,
     "status": "ok",
     "timestamp": 1649969542463,
     "user": {
      "displayName": "Halima Ladan",
      "userId": "13376351725036595186"
     },
     "user_tz": 240
    },
    "id": "jyPx4wglwjmB",
    "outputId": "2de2ab42-919a-4f9d-be1d-76ca79dab212"
   },
   "outputs": [],
   "source": [
    "training_set =pd.DataFrame(xgb_train_preds)\n",
    "training_set = training_set.rename(columns ={0 :\"XGB: Training set predictions\"})\n",
    "training_set.head(10)"
   ]
  },
  {
   "cell_type": "code",
   "execution_count": null,
   "metadata": {
    "colab": {
     "base_uri": "https://localhost:8080/",
     "height": 363
    },
    "executionInfo": {
     "elapsed": 9,
     "status": "ok",
     "timestamp": 1649969542464,
     "user": {
      "displayName": "Halima Ladan",
      "userId": "13376351725036595186"
     },
     "user_tz": 240
    },
    "id": "bGm1feIjxXct",
    "outputId": "8559ce2e-06e6-412b-e022-a2b31a1a4e9a"
   },
   "outputs": [],
   "source": [
    "testing_set =pd.DataFrame(xgb_test_preds)\n",
    "testing_set = testing_set.rename(columns ={0 :\"XGB: Testing set predictions\"})\n",
    "testing_set.head(10)"
   ]
  },
  {
   "cell_type": "markdown",
   "metadata": {
    "id": "oNNUzOkO5eFu"
   },
   "source": [
    "###**Model Evaluation**"
   ]
  },
  {
   "cell_type": "code",
   "execution_count": null,
   "metadata": {
    "executionInfo": {
     "elapsed": 252,
     "status": "ok",
     "timestamp": 1649969542708,
     "user": {
      "displayName": "Halima Ladan",
      "userId": "13376351725036595186"
     },
     "user_tz": 240
    },
    "id": "zZSZ4T0y5h03"
   },
   "outputs": [],
   "source": [
    "xgb_train_report =classification_report(y_train, xgb_train_preds)\n",
    "xgb_test_report = classification_report(y_test, xgb_test_preds)"
   ]
  },
  {
   "cell_type": "code",
   "execution_count": null,
   "metadata": {
    "colab": {
     "base_uri": "https://localhost:8080/"
    },
    "executionInfo": {
     "elapsed": 4,
     "status": "ok",
     "timestamp": 1649969542709,
     "user": {
      "displayName": "Halima Ladan",
      "userId": "13376351725036595186"
     },
     "user_tz": 240
    },
    "id": "p9FB6T3j6fjm",
    "outputId": "b72d9653-4531-41cf-b114-eebc57b3d1e1"
   },
   "outputs": [],
   "source": [
    "print(f'Evaluation metrics on Gradient Boosting Classifier\\n\\n Train set:\\n{xgb_train_report}')\n",
    "print(\"______________________________________\\n\")\n",
    "print(f'Evaluation metrics on Gradient Boosting Classifier\\n\\n Test set:\\n{xgb_test_report}')"
   ]
  },
  {
   "cell_type": "markdown",
   "metadata": {
    "id": "CoK9nqSN60Om"
   },
   "source": [
    "#**Confusion Matrix**"
   ]
  },
  {
   "cell_type": "code",
   "execution_count": null,
   "metadata": {
    "colab": {
     "base_uri": "https://localhost:8080/",
     "height": 398
    },
    "executionInfo": {
     "elapsed": 4,
     "status": "ok",
     "timestamp": 1649969542710,
     "user": {
      "displayName": "Halima Ladan",
      "userId": "13376351725036595186"
     },
     "user_tz": 240
    },
    "id": "tktYYHOo63FR",
    "outputId": "3e36273f-6796-4f9f-b362-c2634e428356"
   },
   "outputs": [],
   "source": [
    "ConfusionMatrixDisplay.from_estimator(xgb_pipe, X_train, y_train, cmap =\"Blues\",  normalize = \"true\");"
   ]
  },
  {
   "cell_type": "markdown",
   "metadata": {
    "id": "V1E4-EQPVm2T"
   },
   "source": [
    "The XGB model also did well on the train set."
   ]
  },
  {
   "cell_type": "code",
   "execution_count": null,
   "metadata": {
    "colab": {
     "base_uri": "https://localhost:8080/",
     "height": 398
    },
    "executionInfo": {
     "elapsed": 493,
     "status": "ok",
     "timestamp": 1649969850051,
     "user": {
      "displayName": "Halima Ladan",
      "userId": "13376351725036595186"
     },
     "user_tz": 240
    },
    "id": "Ia9f6ily69VH",
    "outputId": "28b9b210-1886-472a-bf4d-805f37843984"
   },
   "outputs": [],
   "source": [
    "ConfusionMatrixDisplay.from_estimator(xgb_pipe, X_test, y_test, cmap =\"Blues\", normalize =\"true\");"
   ]
  },
  {
   "cell_type": "markdown",
   "metadata": {
    "id": "e7Za7qviVuxq"
   },
   "source": [
    "The model predicted 2 false negatives and 1 false positives."
   ]
  },
  {
   "cell_type": "code",
   "execution_count": null,
   "metadata": {
    "executionInfo": {
     "elapsed": 7,
     "status": "ok",
     "timestamp": 1649969543223,
     "user": {
      "displayName": "Halima Ladan",
      "userId": "13376351725036595186"
     },
     "user_tz": 240
    },
    "id": "Wgx-K4LO_vJy"
   },
   "outputs": [],
   "source": [
    "def models(model, X_train, X_test, y_train, y_test, scoring = \"accuracy\", model_name = \"Classifier\"):\n",
    "\n",
    "  scoring_func = get_scorer(scoring)\n",
    "  train_score = scoring_func(model, X_train, y_train)\n",
    "  test_score = scoring_func(model, X_test, y_test)\n",
    "\n",
    "  delta_score  = train_score -test_score\n",
    "  \n",
    "\n",
    "  score_dict ={f'{scoring}:train': train_score,\n",
    "               f'{scoring}:test': test_score,\n",
    "               f'{scoring}:difference' : delta_score}\n",
    "\n",
    "  score_frame = pd.DataFrame(score_dict, index=[model_name])\n",
    "\n",
    "  return(score_frame)"
   ]
  },
  {
   "cell_type": "code",
   "execution_count": null,
   "metadata": {
    "colab": {
     "base_uri": "https://localhost:8080/",
     "height": 143
    },
    "executionInfo": {
     "elapsed": 6,
     "status": "ok",
     "timestamp": 1649969543223,
     "user": {
      "displayName": "Halima Ladan",
      "userId": "13376351725036595186"
     },
     "user_tz": 240
    },
    "id": "ck5XADxyEbAI",
    "outputId": "7e977c74-d003-4668-a376-944983894748"
   },
   "outputs": [],
   "source": [
    "models_report= models(lgbm_pipe, X_train, X_test, y_train, y_test, model_name =\"LGBM Classifier\")\n",
    "models_report= models_report.append(models(best_knn_pipe, X_train, X_test, y_train, y_test, model_name =\"KNN Classifier\"))\n",
    "models_report= models_report.append(models(xgb_pipe, X_train, X_test, y_train, y_test, model_name =\"XGBoost Classifier\"))\n",
    "\n",
    "models_report"
   ]
  },
  {
   "cell_type": "markdown",
   "metadata": {
    "id": "sUuYBTEtSAzp"
   },
   "source": [
    "#**Conclusion**\n",
    "\n",
    "\n",
    "**All three models performed well on the train set, but KNN classifier had the highest accuracy score of 97%, which is just 2.7 less than the 100% score on the train set. Therefore the most suitable model among LGBM Classifier, KNN Classifier and XGBoost Classifier for the prediction of parkinson disease in divididuals is the KNN Classifier.**\n",
    "\n"
   ]
  }
 ],
 "metadata": {
  "colab": {
   "authorship_tag": "ABX9TyPruqURdXm71xwPDyBXdYq6",
   "collapsed_sections": [],
   "mount_file_id": "1ghGwR18shCKdNhbyuQS30qCXMvVny4R7",
   "name": "Machine Learning__Prediction of Parkinson's Disease.ipynb",
   "provenance": [
    {
     "file_id": "1rvUBfHCTAdXOQrMuObFKwfrUwdyWeSRM",
     "timestamp": 1647579931532
    },
    {
     "file_id": "134Bik7epoVu9gk3TADNJeyTKSHA8VLgm",
     "timestamp": 1647494128221
    }
   ]
  },
  "kernelspec": {
   "display_name": "Python 3 (ipykernel)",
   "language": "python",
   "name": "python3"
  },
  "language_info": {
   "codemirror_mode": {
    "name": "ipython",
    "version": 3
   },
   "file_extension": ".py",
   "mimetype": "text/x-python",
   "name": "python",
   "nbconvert_exporter": "python",
   "pygments_lexer": "ipython3",
   "version": "3.7.12"
  },
  "toc": {
   "base_numbering": 1,
   "nav_menu": {},
   "number_sections": true,
   "sideBar": true,
   "skip_h1_title": false,
   "title_cell": "Table of Contents",
   "title_sidebar": "Contents",
   "toc_cell": false,
   "toc_position": {},
   "toc_section_display": true,
   "toc_window_display": false
  }
 },
 "nbformat": 4,
 "nbformat_minor": 1
}
